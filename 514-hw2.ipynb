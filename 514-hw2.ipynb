{
 "cells": [
  {
   "cell_type": "markdown",
   "metadata": {},
   "source": [
    "# Problem Description\n",
    "Feature selection is an important topic in DM. Instead of giving lectures on the topic, I like to let you get familiar with this topic by working on the issue using two different approaches, which are considered here.\n",
    "In a disease study, we typically contrast and compare a group of disease subjects against a group of normal controls in order to find a set of genes that are correlated to the disease phenotypes.  So for this type of problems, we are dealing with two class problems.\n",
    "Here we consider the problem of finding critical genes whose aberrant regulation (or expression) may lead to Alzheimer’s disease, the most devastating dementia in the aging population. \n",
    "\n",
    "AD dataset – Download AD.zip file from the Resources page (under the General Resources tag) on the course piazza website. This is a real dataset of more than 8000 genes of 176 patients of Alzheimer’s disease (in text file case.gex) and 188 age-matched normal people, or controls (in text file ctrl.gex).  You may load them into MS Excel to have a better view. If you want know how these data were collected and used in a disease study, see the original paper: http://www.sciencedirect.com/science/article/pii/S0002929709001086. \n",
    "\n",
    "Due to possible memory issue, we will use the first **1800 genes** for each of the two datasets for all 3 problems in this HW (including one in Part 2, which will be assigned later).  \n"
   ]
  },
  {
   "cell_type": "markdown",
   "metadata": {},
   "source": [
    "### 0.1 Lest's take a look at data\n",
    "Your first step is to perform an initial study (or inspection) of the given samples (not the test cases), which may include a brief analysis of the distribution of the samples over one attribute or other properties you think that are worthwhile to exam."
   ]
  },
  {
   "cell_type": "code",
   "execution_count": 3,
   "metadata": {
    "collapsed": false
   },
   "outputs": [
    {
     "name": "stdout",
     "output_type": "stream",
     "text": [
      " Case.gex has 176 data points with 8561 variables each.\n"
     ]
    }
   ],
   "source": [
    "# Import libraries necessary for this project\n",
    "import numpy as np\n",
    "import pandas as pd\n",
    "from sklearn.cross_validation import ShuffleSplit\n",
    "import matplotlib.pyplot as plt\n",
    "# Pretty display for notebooks\n",
    "%matplotlib inline\n",
    "\n",
    "# Load the positive data\n",
    "case = pd.read_csv('AD/case.gex',sep=\"\\t\", index_col=0)\n",
    "\n",
    "\n",
    "#We are going to look at only the first 1800 genes\n",
    "case = case.T\n",
    "\n",
    "# Data Profile\n",
    "print \" Case.gex has {} data points with {} variables each.\".format(*case.shape)"
   ]
  },
  {
   "cell_type": "code",
   "execution_count": 4,
   "metadata": {
    "collapsed": false
   },
   "outputs": [
    {
     "name": "stdout",
     "output_type": "stream",
     "text": [
      "Ctrl.gex has 188 data points with 8561 variables each.\n"
     ]
    }
   ],
   "source": [
    "# Load the negative data \n",
    "# ctrl = pd.read_csv('AD/ctrl.gex',sep=\" \")\n",
    "ctrl = pd.read_table('AD/ctrl.gex', delim_whitespace=True,index_col= 0)\n",
    "\n",
    "\n",
    "#We are going to look at only the first 1800 genes\n",
    "ctrl = ctrl.T\n",
    "\n",
    "print \"Ctrl.gex has {} data points with {} variables each.\".format(*ctrl.shape)"
   ]
  },
  {
   "cell_type": "markdown",
   "metadata": {
    "collapsed": true
   },
   "source": [
    "### 0.2 Let's set up training data\n",
    "Using the control data as the positive and negative training data (no test data) to build the following RFs, each of which has 500 trees. Compute the frequency of each gene appearing in each of the following RFs."
   ]
  },
  {
   "cell_type": "code",
   "execution_count": 9,
   "metadata": {
    "collapsed": false
   },
   "outputs": [
    {
     "name": "stderr",
     "output_type": "stream",
     "text": [
      "/Users/Chen/anaconda2/lib/python2.7/site-packages/ipykernel/__main__.py:8: FutureWarning: convert_objects is deprecated.  Use the data-type specific converters pd.to_datetime, pd.to_timedelta and pd.to_numeric.\n"
     ]
    },
    {
     "name": "stdout",
     "output_type": "stream",
     "text": [
      "Training data has 364 data points with 1801 variables each.\n"
     ]
    },
    {
     "data": {
      "text/html": [
       "<div>\n",
       "<table border=\"1\" class=\"dataframe\">\n",
       "  <thead>\n",
       "    <tr style=\"text-align: right;\">\n",
       "      <th>Arrays</th>\n",
       "      <th>Classes</th>\n",
       "      <th>GI_10047091-S</th>\n",
       "      <th>GI_10047093-S</th>\n",
       "      <th>GI_10047103-S</th>\n",
       "      <th>GI_10047133-A</th>\n",
       "      <th>GI_10092596-S</th>\n",
       "      <th>GI_10092600-S</th>\n",
       "      <th>GI_10092616-S</th>\n",
       "      <th>GI_10092618-S</th>\n",
       "      <th>GI_10092672-S</th>\n",
       "      <th>...</th>\n",
       "      <th>GI_21265087-S</th>\n",
       "      <th>GI_21265090-S</th>\n",
       "      <th>GI_21265092-S</th>\n",
       "      <th>GI_21265095-S</th>\n",
       "      <th>GI_21265103-S</th>\n",
       "      <th>GI_21265115-S</th>\n",
       "      <th>GI_21265128-A</th>\n",
       "      <th>GI_21269863-S</th>\n",
       "      <th>GI_21269867-S</th>\n",
       "      <th>GI_21269871-A</th>\n",
       "    </tr>\n",
       "  </thead>\n",
       "  <tbody>\n",
       "    <tr>\n",
       "      <th>WGAAD1</th>\n",
       "      <td>2.0</td>\n",
       "      <td>0.459128</td>\n",
       "      <td>0.037793</td>\n",
       "      <td>-0.005021</td>\n",
       "      <td>0.396483</td>\n",
       "      <td>0.294007</td>\n",
       "      <td>0.264442</td>\n",
       "      <td>0.435411</td>\n",
       "      <td>-0.535314</td>\n",
       "      <td>0.160456</td>\n",
       "      <td>...</td>\n",
       "      <td>-0.187465</td>\n",
       "      <td>0.078973</td>\n",
       "      <td>0.016502</td>\n",
       "      <td>0.074084</td>\n",
       "      <td>0.462344</td>\n",
       "      <td>-0.493317</td>\n",
       "      <td>-0.543947</td>\n",
       "      <td>NaN</td>\n",
       "      <td>-0.270062</td>\n",
       "      <td>-0.375547</td>\n",
       "    </tr>\n",
       "    <tr>\n",
       "      <th>WGAAD2</th>\n",
       "      <td>2.0</td>\n",
       "      <td>-1.984835</td>\n",
       "      <td>NaN</td>\n",
       "      <td>0.076412</td>\n",
       "      <td>NaN</td>\n",
       "      <td>-0.165882</td>\n",
       "      <td>0.422382</td>\n",
       "      <td>-0.248215</td>\n",
       "      <td>1.018655</td>\n",
       "      <td>-0.348808</td>\n",
       "      <td>...</td>\n",
       "      <td>0.161231</td>\n",
       "      <td>-0.770899</td>\n",
       "      <td>0.220652</td>\n",
       "      <td>NaN</td>\n",
       "      <td>-2.205653</td>\n",
       "      <td>0.094891</td>\n",
       "      <td>0.574672</td>\n",
       "      <td>NaN</td>\n",
       "      <td>0.228154</td>\n",
       "      <td>0.217560</td>\n",
       "    </tr>\n",
       "  </tbody>\n",
       "</table>\n",
       "<p>2 rows × 1801 columns</p>\n",
       "</div>"
      ],
      "text/plain": [
       "Arrays  Classes  GI_10047091-S  GI_10047093-S  GI_10047103-S  GI_10047133-A  \\\n",
       "WGAAD1      2.0       0.459128       0.037793      -0.005021       0.396483   \n",
       "WGAAD2      2.0      -1.984835            NaN       0.076412            NaN   \n",
       "\n",
       "Arrays  GI_10092596-S  GI_10092600-S  GI_10092616-S  GI_10092618-S  \\\n",
       "WGAAD1       0.294007       0.264442       0.435411      -0.535314   \n",
       "WGAAD2      -0.165882       0.422382      -0.248215       1.018655   \n",
       "\n",
       "Arrays  GI_10092672-S      ...        GI_21265087-S  GI_21265090-S  \\\n",
       "WGAAD1       0.160456      ...            -0.187465       0.078973   \n",
       "WGAAD2      -0.348808      ...             0.161231      -0.770899   \n",
       "\n",
       "Arrays  GI_21265092-S  GI_21265095-S  GI_21265103-S  GI_21265115-S  \\\n",
       "WGAAD1       0.016502       0.074084       0.462344      -0.493317   \n",
       "WGAAD2       0.220652            NaN      -2.205653       0.094891   \n",
       "\n",
       "Arrays  GI_21265128-A  GI_21269863-S  GI_21269867-S  GI_21269871-A  \n",
       "WGAAD1      -0.543947            NaN      -0.270062      -0.375547  \n",
       "WGAAD2       0.574672            NaN       0.228154       0.217560  \n",
       "\n",
       "[2 rows x 1801 columns]"
      ]
     },
     "execution_count": 9,
     "metadata": {},
     "output_type": "execute_result"
    }
   ],
   "source": [
    "#we only work on the first 1800 genes\n",
    "case = case.iloc[:,0:1801]\n",
    "ctrl = ctrl.iloc[:,0:1801]\n",
    "\n",
    "# combine case and ctrl files\n",
    "frames = [case, ctrl]\n",
    "train = pd.concat(frames)\n",
    "train = train.convert_objects(convert_numeric=True)\n",
    "print \"Training data has {} data points with {} variables each.\".format(*train.shape)\n",
    "train.head(n=2)"
   ]
  },
  {
   "cell_type": "code",
   "execution_count": 275,
   "metadata": {
    "collapsed": false
   },
   "outputs": [
    {
     "data": {
      "text/html": [
       "<div>\n",
       "<table border=\"1\" class=\"dataframe\">\n",
       "  <thead>\n",
       "    <tr style=\"text-align: right;\">\n",
       "      <th>Arrays</th>\n",
       "      <th>Classes</th>\n",
       "      <th>GI_10047091-S</th>\n",
       "      <th>GI_10047093-S</th>\n",
       "      <th>GI_10047103-S</th>\n",
       "      <th>GI_10047133-A</th>\n",
       "      <th>GI_10092596-S</th>\n",
       "      <th>GI_10092600-S</th>\n",
       "      <th>GI_10092616-S</th>\n",
       "      <th>GI_10092618-S</th>\n",
       "      <th>GI_10092672-S</th>\n",
       "      <th>...</th>\n",
       "      <th>GI_21265087-S</th>\n",
       "      <th>GI_21265090-S</th>\n",
       "      <th>GI_21265092-S</th>\n",
       "      <th>GI_21265095-S</th>\n",
       "      <th>GI_21265103-S</th>\n",
       "      <th>GI_21265115-S</th>\n",
       "      <th>GI_21265128-A</th>\n",
       "      <th>GI_21269863-S</th>\n",
       "      <th>GI_21269867-S</th>\n",
       "      <th>GI_21269871-A</th>\n",
       "    </tr>\n",
       "  </thead>\n",
       "  <tbody>\n",
       "    <tr>\n",
       "      <th>WGACON187</th>\n",
       "      <td>1.0</td>\n",
       "      <td>-0.374253</td>\n",
       "      <td>0.326193</td>\n",
       "      <td>0.037210</td>\n",
       "      <td>0.249707</td>\n",
       "      <td>-0.002965</td>\n",
       "      <td>-0.605046</td>\n",
       "      <td>-0.190159</td>\n",
       "      <td>0.232389</td>\n",
       "      <td>0.021765</td>\n",
       "      <td>...</td>\n",
       "      <td>0.690462</td>\n",
       "      <td>0.631325</td>\n",
       "      <td>-0.142041</td>\n",
       "      <td>0.143616</td>\n",
       "      <td>-0.092720</td>\n",
       "      <td>0.081691</td>\n",
       "      <td>-0.264953</td>\n",
       "      <td>0.036088</td>\n",
       "      <td>-0.579048</td>\n",
       "      <td>-0.060903</td>\n",
       "    </tr>\n",
       "    <tr>\n",
       "      <th>WGACON188</th>\n",
       "      <td>1.0</td>\n",
       "      <td>-0.107157</td>\n",
       "      <td>-0.353432</td>\n",
       "      <td>-0.043448</td>\n",
       "      <td>0.133230</td>\n",
       "      <td>0.335215</td>\n",
       "      <td>-0.707830</td>\n",
       "      <td>0.227489</td>\n",
       "      <td>0.238576</td>\n",
       "      <td>-0.258214</td>\n",
       "      <td>...</td>\n",
       "      <td>0.254287</td>\n",
       "      <td>0.048133</td>\n",
       "      <td>0.031736</td>\n",
       "      <td>-0.218935</td>\n",
       "      <td>-0.207646</td>\n",
       "      <td>0.106667</td>\n",
       "      <td>0.161404</td>\n",
       "      <td>-0.181574</td>\n",
       "      <td>-0.194495</td>\n",
       "      <td>-0.037419</td>\n",
       "    </tr>\n",
       "  </tbody>\n",
       "</table>\n",
       "<p>2 rows × 1801 columns</p>\n",
       "</div>"
      ],
      "text/plain": [
       "Arrays     Classes  GI_10047091-S  GI_10047093-S  GI_10047103-S  \\\n",
       "WGACON187      1.0      -0.374253       0.326193       0.037210   \n",
       "WGACON188      1.0      -0.107157      -0.353432      -0.043448   \n",
       "\n",
       "Arrays     GI_10047133-A  GI_10092596-S  GI_10092600-S  GI_10092616-S  \\\n",
       "WGACON187       0.249707      -0.002965      -0.605046      -0.190159   \n",
       "WGACON188       0.133230       0.335215      -0.707830       0.227489   \n",
       "\n",
       "Arrays     GI_10092618-S  GI_10092672-S      ...        GI_21265087-S  \\\n",
       "WGACON187       0.232389       0.021765      ...             0.690462   \n",
       "WGACON188       0.238576      -0.258214      ...             0.254287   \n",
       "\n",
       "Arrays     GI_21265090-S  GI_21265092-S  GI_21265095-S  GI_21265103-S  \\\n",
       "WGACON187       0.631325      -0.142041       0.143616      -0.092720   \n",
       "WGACON188       0.048133       0.031736      -0.218935      -0.207646   \n",
       "\n",
       "Arrays     GI_21265115-S  GI_21265128-A  GI_21269863-S  GI_21269867-S  \\\n",
       "WGACON187       0.081691      -0.264953       0.036088      -0.579048   \n",
       "WGACON188       0.106667       0.161404      -0.181574      -0.194495   \n",
       "\n",
       "Arrays     GI_21269871-A  \n",
       "WGACON187      -0.060903  \n",
       "WGACON188      -0.037419  \n",
       "\n",
       "[2 rows x 1801 columns]"
      ]
     },
     "execution_count": 275,
     "metadata": {},
     "output_type": "execute_result"
    }
   ],
   "source": [
    "train.tail(n=2)"
   ]
  },
  {
   "cell_type": "markdown",
   "metadata": {},
   "source": [
    "### 0.3 Preprocess Missing data \n",
    "There are many options we could consider when replacing a missing value, for example:\n",
    "* A constant value that has meaning within the domain, such as 0, distinct from all other values.\n",
    "* A value from another randomly selected record.\n",
    "* A mean, median or mode value for the column.\n",
    "* A value estimated by another predictive model.\n",
    "Any imputing performed on the training dataset will have to be performed on new data in the future when predictions are needed from the finalized model. This needs to be taken into consideration when choosing how to impute the missing values.\n",
    "\n",
    "reference: https://machinelearningmastery.com/handle-missing-data-python/\n",
    "\n",
    "For this homework, I am going to try three ways of imputing missing values to see which one gives better performance. Please see the change for WGAAD2 data point's GI_10047093-S feature (Originally it was NaN) as an example in the following tables.\n",
    "\n",
    "The model performance is given by model's out of bag(OOB) error provided by sklearn.ensemble.RandomForestClassifier API. It is an analogous of .score method, which returns accuracy of the model. And It simply generalizes to the oob scenario. "
   ]
  },
  {
   "cell_type": "markdown",
   "metadata": {},
   "source": [
    "#### 0.3.1 Replace Missing data with 0"
   ]
  },
  {
   "cell_type": "code",
   "execution_count": 276,
   "metadata": {
    "collapsed": false
   },
   "outputs": [
    {
     "data": {
      "text/html": [
       "<div>\n",
       "<table border=\"1\" class=\"dataframe\">\n",
       "  <thead>\n",
       "    <tr style=\"text-align: right;\">\n",
       "      <th>Arrays</th>\n",
       "      <th>Classes</th>\n",
       "      <th>GI_10047091-S</th>\n",
       "      <th>GI_10047093-S</th>\n",
       "      <th>GI_10047103-S</th>\n",
       "      <th>GI_10047133-A</th>\n",
       "      <th>GI_10092596-S</th>\n",
       "      <th>GI_10092600-S</th>\n",
       "      <th>GI_10092616-S</th>\n",
       "      <th>GI_10092618-S</th>\n",
       "      <th>GI_10092672-S</th>\n",
       "      <th>...</th>\n",
       "      <th>GI_21265087-S</th>\n",
       "      <th>GI_21265090-S</th>\n",
       "      <th>GI_21265092-S</th>\n",
       "      <th>GI_21265095-S</th>\n",
       "      <th>GI_21265103-S</th>\n",
       "      <th>GI_21265115-S</th>\n",
       "      <th>GI_21265128-A</th>\n",
       "      <th>GI_21269863-S</th>\n",
       "      <th>GI_21269867-S</th>\n",
       "      <th>GI_21269871-A</th>\n",
       "    </tr>\n",
       "  </thead>\n",
       "  <tbody>\n",
       "    <tr>\n",
       "      <th>WGAAD1</th>\n",
       "      <td>2.0</td>\n",
       "      <td>0.459128</td>\n",
       "      <td>0.037793</td>\n",
       "      <td>-0.005021</td>\n",
       "      <td>0.396483</td>\n",
       "      <td>0.294007</td>\n",
       "      <td>0.264442</td>\n",
       "      <td>0.435411</td>\n",
       "      <td>-0.535314</td>\n",
       "      <td>0.160456</td>\n",
       "      <td>...</td>\n",
       "      <td>-0.187465</td>\n",
       "      <td>0.078973</td>\n",
       "      <td>0.016502</td>\n",
       "      <td>0.074084</td>\n",
       "      <td>0.462344</td>\n",
       "      <td>-0.493317</td>\n",
       "      <td>-0.543947</td>\n",
       "      <td>0.0</td>\n",
       "      <td>-0.270062</td>\n",
       "      <td>-0.375547</td>\n",
       "    </tr>\n",
       "    <tr>\n",
       "      <th>WGAAD2</th>\n",
       "      <td>2.0</td>\n",
       "      <td>-1.984835</td>\n",
       "      <td>0.000000</td>\n",
       "      <td>0.076412</td>\n",
       "      <td>0.000000</td>\n",
       "      <td>-0.165882</td>\n",
       "      <td>0.422382</td>\n",
       "      <td>-0.248215</td>\n",
       "      <td>1.018655</td>\n",
       "      <td>-0.348808</td>\n",
       "      <td>...</td>\n",
       "      <td>0.161231</td>\n",
       "      <td>-0.770899</td>\n",
       "      <td>0.220652</td>\n",
       "      <td>0.000000</td>\n",
       "      <td>-2.205653</td>\n",
       "      <td>0.094891</td>\n",
       "      <td>0.574672</td>\n",
       "      <td>0.0</td>\n",
       "      <td>0.228154</td>\n",
       "      <td>0.217560</td>\n",
       "    </tr>\n",
       "  </tbody>\n",
       "</table>\n",
       "<p>2 rows × 1801 columns</p>\n",
       "</div>"
      ],
      "text/plain": [
       "Arrays  Classes  GI_10047091-S  GI_10047093-S  GI_10047103-S  GI_10047133-A  \\\n",
       "WGAAD1      2.0       0.459128       0.037793      -0.005021       0.396483   \n",
       "WGAAD2      2.0      -1.984835       0.000000       0.076412       0.000000   \n",
       "\n",
       "Arrays  GI_10092596-S  GI_10092600-S  GI_10092616-S  GI_10092618-S  \\\n",
       "WGAAD1       0.294007       0.264442       0.435411      -0.535314   \n",
       "WGAAD2      -0.165882       0.422382      -0.248215       1.018655   \n",
       "\n",
       "Arrays  GI_10092672-S      ...        GI_21265087-S  GI_21265090-S  \\\n",
       "WGAAD1       0.160456      ...            -0.187465       0.078973   \n",
       "WGAAD2      -0.348808      ...             0.161231      -0.770899   \n",
       "\n",
       "Arrays  GI_21265092-S  GI_21265095-S  GI_21265103-S  GI_21265115-S  \\\n",
       "WGAAD1       0.016502       0.074084       0.462344      -0.493317   \n",
       "WGAAD2       0.220652       0.000000      -2.205653       0.094891   \n",
       "\n",
       "Arrays  GI_21265128-A  GI_21269863-S  GI_21269867-S  GI_21269871-A  \n",
       "WGAAD1      -0.543947            0.0      -0.270062      -0.375547  \n",
       "WGAAD2       0.574672            0.0       0.228154       0.217560  \n",
       "\n",
       "[2 rows x 1801 columns]"
      ]
     },
     "execution_count": 276,
     "metadata": {},
     "output_type": "execute_result"
    }
   ],
   "source": [
    "# replace missing values with 0\n",
    "train_NA_as_zero = train.fillna(0)\n",
    "train_NA_as_zero.to_csv(\"train_replaceNAwith0.csv\")\n",
    "train_NA_as_zero.head(n=2)"
   ]
  },
  {
   "cell_type": "code",
   "execution_count": 277,
   "metadata": {
    "collapsed": false
   },
   "outputs": [],
   "source": [
    "train_y = train_NA_as_zero['Classes'];\n",
    "train_X = train_NA_as_zero.iloc[:,1:];\n",
    "from sklearn.ensemble import RandomForestClassifier\n",
    "forest = RandomForestClassifier(bootstrap = True, \n",
    "                                n_estimators = 500, \n",
    "                                max_features =  0.7,\n",
    "                                min_samples_split = 0.7)\n",
    "forest = forest.fit(train_X,train_y)"
   ]
  },
  {
   "cell_type": "code",
   "execution_count": 278,
   "metadata": {
    "collapsed": false
   },
   "outputs": [
    {
     "name": "stdout",
     "output_type": "stream",
     "text": [
      "After replacing NaN with 0, score of the training dataset obtained using an out-of-bag estimate is 0.00\n"
     ]
    }
   ],
   "source": [
    "score = forest.oob_score\n",
    "print \"After replacing NaN with 0, score of the training dataset obtained using an out-of-bag estimate is {:,.2f}\".format(score)"
   ]
  },
  {
   "cell_type": "markdown",
   "metadata": {},
   "source": [
    "#### 0.3.2 Replace Missing data with mean for the column"
   ]
  },
  {
   "cell_type": "code",
   "execution_count": 279,
   "metadata": {
    "collapsed": false
   },
   "outputs": [
    {
     "data": {
      "text/html": [
       "<div>\n",
       "<table border=\"1\" class=\"dataframe\">\n",
       "  <thead>\n",
       "    <tr style=\"text-align: right;\">\n",
       "      <th>Arrays</th>\n",
       "      <th>Classes</th>\n",
       "      <th>GI_10047091-S</th>\n",
       "      <th>GI_10047093-S</th>\n",
       "      <th>GI_10047103-S</th>\n",
       "      <th>GI_10047133-A</th>\n",
       "      <th>GI_10092596-S</th>\n",
       "      <th>GI_10092600-S</th>\n",
       "      <th>GI_10092616-S</th>\n",
       "      <th>GI_10092618-S</th>\n",
       "      <th>GI_10092672-S</th>\n",
       "      <th>...</th>\n",
       "      <th>GI_21265087-S</th>\n",
       "      <th>GI_21265090-S</th>\n",
       "      <th>GI_21265092-S</th>\n",
       "      <th>GI_21265095-S</th>\n",
       "      <th>GI_21265103-S</th>\n",
       "      <th>GI_21265115-S</th>\n",
       "      <th>GI_21265128-A</th>\n",
       "      <th>GI_21269863-S</th>\n",
       "      <th>GI_21269867-S</th>\n",
       "      <th>GI_21269871-A</th>\n",
       "    </tr>\n",
       "  </thead>\n",
       "  <tbody>\n",
       "    <tr>\n",
       "      <th>WGAAD1</th>\n",
       "      <td>2.0</td>\n",
       "      <td>0.459128</td>\n",
       "      <td>3.779276e-02</td>\n",
       "      <td>-0.005021</td>\n",
       "      <td>3.964832e-01</td>\n",
       "      <td>0.294007</td>\n",
       "      <td>0.264442</td>\n",
       "      <td>0.435411</td>\n",
       "      <td>-0.535314</td>\n",
       "      <td>0.160456</td>\n",
       "      <td>...</td>\n",
       "      <td>-0.187465</td>\n",
       "      <td>0.078973</td>\n",
       "      <td>0.016502</td>\n",
       "      <td>7.408445e-02</td>\n",
       "      <td>0.462344</td>\n",
       "      <td>-0.493317</td>\n",
       "      <td>-0.543947</td>\n",
       "      <td>5.747127e-12</td>\n",
       "      <td>-0.270062</td>\n",
       "      <td>-0.375547</td>\n",
       "    </tr>\n",
       "    <tr>\n",
       "      <th>WGAAD2</th>\n",
       "      <td>2.0</td>\n",
       "      <td>-1.984835</td>\n",
       "      <td>-5.571025e-12</td>\n",
       "      <td>0.076412</td>\n",
       "      <td>-1.159420e-11</td>\n",
       "      <td>-0.165882</td>\n",
       "      <td>0.422382</td>\n",
       "      <td>-0.248215</td>\n",
       "      <td>1.018655</td>\n",
       "      <td>-0.348808</td>\n",
       "      <td>...</td>\n",
       "      <td>0.161231</td>\n",
       "      <td>-0.770899</td>\n",
       "      <td>0.220652</td>\n",
       "      <td>-6.116206e-12</td>\n",
       "      <td>-2.205653</td>\n",
       "      <td>0.094891</td>\n",
       "      <td>0.574672</td>\n",
       "      <td>5.747127e-12</td>\n",
       "      <td>0.228154</td>\n",
       "      <td>0.217560</td>\n",
       "    </tr>\n",
       "  </tbody>\n",
       "</table>\n",
       "<p>2 rows × 1801 columns</p>\n",
       "</div>"
      ],
      "text/plain": [
       "Arrays  Classes  GI_10047091-S  GI_10047093-S  GI_10047103-S  GI_10047133-A  \\\n",
       "WGAAD1      2.0       0.459128   3.779276e-02      -0.005021   3.964832e-01   \n",
       "WGAAD2      2.0      -1.984835  -5.571025e-12       0.076412  -1.159420e-11   \n",
       "\n",
       "Arrays  GI_10092596-S  GI_10092600-S  GI_10092616-S  GI_10092618-S  \\\n",
       "WGAAD1       0.294007       0.264442       0.435411      -0.535314   \n",
       "WGAAD2      -0.165882       0.422382      -0.248215       1.018655   \n",
       "\n",
       "Arrays  GI_10092672-S      ...        GI_21265087-S  GI_21265090-S  \\\n",
       "WGAAD1       0.160456      ...            -0.187465       0.078973   \n",
       "WGAAD2      -0.348808      ...             0.161231      -0.770899   \n",
       "\n",
       "Arrays  GI_21265092-S  GI_21265095-S  GI_21265103-S  GI_21265115-S  \\\n",
       "WGAAD1       0.016502   7.408445e-02       0.462344      -0.493317   \n",
       "WGAAD2       0.220652  -6.116206e-12      -2.205653       0.094891   \n",
       "\n",
       "Arrays  GI_21265128-A  GI_21269863-S  GI_21269867-S  GI_21269871-A  \n",
       "WGAAD1      -0.543947   5.747127e-12      -0.270062      -0.375547  \n",
       "WGAAD2       0.574672   5.747127e-12       0.228154       0.217560  \n",
       "\n",
       "[2 rows x 1801 columns]"
      ]
     },
     "execution_count": 279,
     "metadata": {},
     "output_type": "execute_result"
    }
   ],
   "source": [
    "from sklearn.preprocessing import Imputer\n",
    "# Create an imputer object that looks for 'Nan' values, then replaces them with the mean value of the feature by columns (axis=0)\n",
    "imputer1 = Imputer(missing_values='NaN', strategy='mean', axis=0)\n",
    "train_NA_as_mean = imputer1.fit_transform(train)\n",
    "train_NA_as_mean = pd.DataFrame(data = train_NA_as_mean, index = train.index, columns = train.columns)\n",
    "train_NA_as_mean.to_csv(\"train_replaceNAwithMean.csv\")\n",
    "train_NA_as_mean.head(n=2)"
   ]
  },
  {
   "cell_type": "code",
   "execution_count": 280,
   "metadata": {
    "collapsed": false
   },
   "outputs": [],
   "source": [
    "train_y = train_NA_as_mean['Classes'];\n",
    "train_X = train_NA_as_mean.iloc[:,1:];\n",
    "forest = RandomForestClassifier(bootstrap = True, \n",
    "                                n_estimators = 500, \n",
    "                                max_features =  0.7,\n",
    "                                min_samples_split = 0.7)\n",
    "forest = forest.fit(train_X,train_y)"
   ]
  },
  {
   "cell_type": "code",
   "execution_count": 281,
   "metadata": {
    "collapsed": false
   },
   "outputs": [
    {
     "name": "stdout",
     "output_type": "stream",
     "text": [
      "After replacing NaN with 0, score of the training dataset obtained using an out-of-bag estimate is 0.00\n"
     ]
    }
   ],
   "source": [
    "score = forest.oob_score\n",
    "print \"After replacing NaN with 0, score of the training dataset obtained using an out-of-bag estimate is {:,.2f}\".format(score)"
   ]
  },
  {
   "cell_type": "markdown",
   "metadata": {},
   "source": [
    "#### 0.3.3 Replace Missing data with median for the column"
   ]
  },
  {
   "cell_type": "code",
   "execution_count": 282,
   "metadata": {
    "collapsed": false
   },
   "outputs": [
    {
     "name": "stderr",
     "output_type": "stream",
     "text": [
      "/Users/Chen/anaconda2/lib/python2.7/site-packages/sklearn/preprocessing/imputation.py:307: VisibleDeprecationWarning: using a boolean instead of an integer will result in an error in the future\n",
      "  median[np.ma.getmask(median_masked)] = np.nan\n"
     ]
    },
    {
     "data": {
      "text/html": [
       "<div>\n",
       "<table border=\"1\" class=\"dataframe\">\n",
       "  <thead>\n",
       "    <tr style=\"text-align: right;\">\n",
       "      <th>Arrays</th>\n",
       "      <th>Classes</th>\n",
       "      <th>GI_10047091-S</th>\n",
       "      <th>GI_10047093-S</th>\n",
       "      <th>GI_10047103-S</th>\n",
       "      <th>GI_10047133-A</th>\n",
       "      <th>GI_10092596-S</th>\n",
       "      <th>GI_10092600-S</th>\n",
       "      <th>GI_10092616-S</th>\n",
       "      <th>GI_10092618-S</th>\n",
       "      <th>GI_10092672-S</th>\n",
       "      <th>...</th>\n",
       "      <th>GI_21265087-S</th>\n",
       "      <th>GI_21265090-S</th>\n",
       "      <th>GI_21265092-S</th>\n",
       "      <th>GI_21265095-S</th>\n",
       "      <th>GI_21265103-S</th>\n",
       "      <th>GI_21265115-S</th>\n",
       "      <th>GI_21265128-A</th>\n",
       "      <th>GI_21269863-S</th>\n",
       "      <th>GI_21269867-S</th>\n",
       "      <th>GI_21269871-A</th>\n",
       "    </tr>\n",
       "  </thead>\n",
       "  <tbody>\n",
       "    <tr>\n",
       "      <th>WGAAD1</th>\n",
       "      <td>2.0</td>\n",
       "      <td>0.459128</td>\n",
       "      <td>0.037793</td>\n",
       "      <td>-0.005021</td>\n",
       "      <td>0.396483</td>\n",
       "      <td>0.294007</td>\n",
       "      <td>0.264442</td>\n",
       "      <td>0.435411</td>\n",
       "      <td>-0.535314</td>\n",
       "      <td>0.160456</td>\n",
       "      <td>...</td>\n",
       "      <td>-0.187465</td>\n",
       "      <td>0.078973</td>\n",
       "      <td>0.016502</td>\n",
       "      <td>0.074084</td>\n",
       "      <td>0.462344</td>\n",
       "      <td>-0.493317</td>\n",
       "      <td>-0.543947</td>\n",
       "      <td>0.01503</td>\n",
       "      <td>-0.270062</td>\n",
       "      <td>-0.375547</td>\n",
       "    </tr>\n",
       "    <tr>\n",
       "      <th>WGAAD2</th>\n",
       "      <td>2.0</td>\n",
       "      <td>-1.984835</td>\n",
       "      <td>0.004726</td>\n",
       "      <td>0.076412</td>\n",
       "      <td>0.048038</td>\n",
       "      <td>-0.165882</td>\n",
       "      <td>0.422382</td>\n",
       "      <td>-0.248215</td>\n",
       "      <td>1.018655</td>\n",
       "      <td>-0.348808</td>\n",
       "      <td>...</td>\n",
       "      <td>0.161231</td>\n",
       "      <td>-0.770899</td>\n",
       "      <td>0.220652</td>\n",
       "      <td>-0.007520</td>\n",
       "      <td>-2.205653</td>\n",
       "      <td>0.094891</td>\n",
       "      <td>0.574672</td>\n",
       "      <td>0.01503</td>\n",
       "      <td>0.228154</td>\n",
       "      <td>0.217560</td>\n",
       "    </tr>\n",
       "  </tbody>\n",
       "</table>\n",
       "<p>2 rows × 1801 columns</p>\n",
       "</div>"
      ],
      "text/plain": [
       "Arrays  Classes  GI_10047091-S  GI_10047093-S  GI_10047103-S  GI_10047133-A  \\\n",
       "WGAAD1      2.0       0.459128       0.037793      -0.005021       0.396483   \n",
       "WGAAD2      2.0      -1.984835       0.004726       0.076412       0.048038   \n",
       "\n",
       "Arrays  GI_10092596-S  GI_10092600-S  GI_10092616-S  GI_10092618-S  \\\n",
       "WGAAD1       0.294007       0.264442       0.435411      -0.535314   \n",
       "WGAAD2      -0.165882       0.422382      -0.248215       1.018655   \n",
       "\n",
       "Arrays  GI_10092672-S      ...        GI_21265087-S  GI_21265090-S  \\\n",
       "WGAAD1       0.160456      ...            -0.187465       0.078973   \n",
       "WGAAD2      -0.348808      ...             0.161231      -0.770899   \n",
       "\n",
       "Arrays  GI_21265092-S  GI_21265095-S  GI_21265103-S  GI_21265115-S  \\\n",
       "WGAAD1       0.016502       0.074084       0.462344      -0.493317   \n",
       "WGAAD2       0.220652      -0.007520      -2.205653       0.094891   \n",
       "\n",
       "Arrays  GI_21265128-A  GI_21269863-S  GI_21269867-S  GI_21269871-A  \n",
       "WGAAD1      -0.543947        0.01503      -0.270062      -0.375547  \n",
       "WGAAD2       0.574672        0.01503       0.228154       0.217560  \n",
       "\n",
       "[2 rows x 1801 columns]"
      ]
     },
     "execution_count": 282,
     "metadata": {},
     "output_type": "execute_result"
    }
   ],
   "source": [
    "# Create an imputer object that looks for 'Nan' values, then replaces them with the median value of the feature by columns (axis=0)\n",
    "imputer2 = Imputer(missing_values='NaN', strategy='median', axis=0)\n",
    "train_NA_as_median = imputer2.fit_transform(train)\n",
    "\n",
    "train_NA_as_median = pd.DataFrame(train_NA_as_median)\n",
    "values = list(train['Classes'])\n",
    "train_NA_as_median.insert(0, \"Classes\", values)\n",
    "\n",
    "train_NA_as_median.columns = train.columns\n",
    "train_NA_as_median.index = train.index\n",
    "train_NA_as_median.to_csv(\"train_replaceNAwithMedian.csv\")\n",
    "train_NA_as_median.head(n=2)"
   ]
  },
  {
   "cell_type": "code",
   "execution_count": 283,
   "metadata": {
    "collapsed": false
   },
   "outputs": [],
   "source": [
    "train_y = train_NA_as_median['Classes'];\n",
    "train_X = train_NA_as_median.iloc[:,1:];\n",
    "forest = RandomForestClassifier(bootstrap = True, \n",
    "                                n_estimators = 500, \n",
    "                                max_features =  0.7,\n",
    "                                min_samples_split = 0.7)\n",
    "forest = forest.fit(train_X,train_y)"
   ]
  },
  {
   "cell_type": "code",
   "execution_count": 284,
   "metadata": {
    "collapsed": false
   },
   "outputs": [
    {
     "name": "stdout",
     "output_type": "stream",
     "text": [
      "After replacing NaN with 0, score of the training dataset obtained using an out-of-bag estimate is 0.00\n"
     ]
    }
   ],
   "source": [
    "score = forest.oob_score\n",
    "print \"After replacing NaN with 0, score of the training dataset obtained using an out-of-bag estimate is {:,.2f}\".format(score)"
   ]
  },
  {
   "cell_type": "markdown",
   "metadata": {},
   "source": [
    "**Discussion**\n",
    "\n",
    "If we use python random forest package to build our model using three set of data respectively, we can see that the model all performs well with an out-of-bag error as 0.\n",
    "Since, python built-in package has no information about feature frequency, I am going to use weka to generate feature frequency using the three csv files generated above, and the following study shows how weka random forest performance on the three ways of imputing.\n",
    "For each model fitting, I chose 500 trees with 70% feature(1260) and 70% instance. For model evaluation, I did 5-fold cross-validation."
   ]
  },
  {
   "cell_type": "markdown",
   "metadata": {},
   "source": [
    "#### 0.3.4 Weka Result for Replace Missing data with 0"
   ]
  },
  {
   "cell_type": "markdown",
   "metadata": {},
   "source": [
    "1. Run information \n",
    "    * Scheme:       weka.classifiers.trees.RandomForest -P 70 -I 500 -num-slots 1 -K 1260 -M 1.0 -V 0.001 -S 1\n",
    "    * Relation:     **train_replaceNAwith0**-weka.filters.unsupervised.attribute.NumericToNominal-R1\n",
    "    * Test mode:    5-fold cross-validation  \n",
    "\n",
    "2. Stratified cross-validation\n",
    "    * Correctly Classified Instances         252               69.2308 %\n",
    "    * Incorrectly Classified Instances       112               30.7692 %\n",
    "    * Kappa statistic                          0.3824\n",
    "    * Mean absolute error                      0.4212\n",
    "    * Root mean squared error                  0.4486\n",
    "    * Relative absolute error                 84.3248 %\n",
    "    * Root relative squared error             89.7697 %   \n",
    "3. Detailed Accuracy By Class \n",
    "\n",
    "| |TP Rate  |FP Rate  |Precision  |Recall   |F-Measure  |MCC    |ROC Area  |PRC Area  |Class|\n",
    "|-|:------ :| -------:|----------:|--------:|----------:|------:|---------:|---------:|----:|\n",
    "| | 0.739   |    0.358|    0.688|    0.739  |    0.713  |  0.384|     0.760|     0.759|    1|\n",
    "| |0.642    |    0.261|    0.698|      0.642|      0.669|  0.384|     0.760|     0.753|    2|\n",
    "|Weighted Avg.|  0.692|    0.311|      0.693|      0.692| 0.691 |     0.384|     0.760| 0.756||     \n"
   ]
  },
  {
   "cell_type": "markdown",
   "metadata": {},
   "source": [
    "#### 0.3.5 Weka Result for Replace Missing data with Mean"
   ]
  },
  {
   "cell_type": "markdown",
   "metadata": {},
   "source": [
    "1. Run information\n",
    "    * Scheme:       weka.classifiers.trees.RandomForest -P 70 -I 500 -num-slots 1 -K 1260 -M 1.0 -V 0.001 -S 1\n",
    "    * Relation:     **train_replaceNAwithMean**-weka.filters.unsupervised.attribute.NumericToNominal-R1\n",
    "    * Test mode:    5-fold cross-validation\n",
    "\n",
    "2. Stratified cross-validation \n",
    "    * Correctly Classified Instances         255               70.0549 %\n",
    "    * Incorrectly Classified Instances       109               29.9451 %\n",
    "    * Kappa statistic                          0.3986\n",
    "    * Mean absolute error                      0.4208\n",
    "    * Root mean squared error                  0.4486\n",
    "    * Relative absolute error                 84.2555 %\n",
    "    * Root relative squared error             89.7678 %\n",
    "\n",
    "3. Detailed Accuracy By Class \n",
    "\n",
    "||TP Rate  |FP Rate  |Precision  |Recall   |F-Measure  |MCC      |ROC Area  |PRC Area  |Class|\n",
    "|-|:------ :| -------:|----------:|--------:|----------:|--------:|---------:|---------:|---:|\n",
    "||0.755|    0.358|    0.693|      0.755|    0.723| 0.400 |   0.759 |    0.760|     1|\n",
    "||0.642 |   0.245|    0.711 |     0.642|    0.675|   0.400|    0.759|     0.750|     2|\n",
    "|Weighted Avg.| 0.701|    0.303|    0.701|      0.701|    0.699|0.400|    0.759|     0.755 |    \n"
   ]
  },
  {
   "cell_type": "markdown",
   "metadata": {},
   "source": [
    "#### 0.3.5 Weka Result for Replace Missing data with Median"
   ]
  },
  {
   "cell_type": "markdown",
   "metadata": {},
   "source": [
    "1. Run information \n",
    "\n",
    "    * Scheme:       weka.classifiers.trees.RandomForest -P 70 -I 500 -num-slots 1 -K 1260 -M 1.0 -V 0.001 -S 1\n",
    "    * Relation:     **train_replaceNAwithMedian**-weka.filters.unsupervised.attribute.NumericToNominal-R1\n",
    "    * Test mode:    5-fold cross-validation\n",
    "\n",
    "2. Stratified cross-validation \n",
    "    * Correctly Classified Instances         251               68.956  %\n",
    "    * Incorrectly Classified Instances       113               31.044  %\n",
    "    * Kappa statistic                          0.3756\n",
    "    * Mean absolute error                      0.4194\n",
    "    * Root mean squared error                  0.4472\n",
    "    * Relative absolute error                 83.9749 %\n",
    "    * Root relative squared error             89.4856 %\n",
    "    * Total Number of Instances              364     \n",
    "\n",
    "3. Detailed Accuracy By Class\n",
    "\n",
    "| |TP Rate  |FP Rate  |Precision  |Recall   |F-Measure  |MCC    |ROC Area  |PRC Area  |Class|\n",
    "|-|:------ :| -------:|----------:|--------:|----------:|--------:|---------:|---------:|---:|\n",
    "| |0.766    |0.392  | 0.676  |0.766|    0.718|      0.379|    0.763|     0.766|     1|\n",
    "| |   0.608|    0.234 |   0.709|      0.608 |   0.654|      0.379|    0.763 |    0.757|     2|\n",
    "|Weighted Avg.|    0.690|    0.316|    0.692| 0.690|    0.687 |     0.379|    0.763|     0.762     \n",
    "\n"
   ]
  },
  {
   "cell_type": "markdown",
   "metadata": {},
   "source": [
    "** Discussion **\n",
    "\n",
    "**0**: replacing missing value with 0\n",
    "\n",
    "**mean** : replacing missing value with mean\n",
    "\n",
    "**median** : replacing missing value with median\n",
    "\n",
    "1. Based on Accuracy:\n",
    "    mean(70.0549 %) > 0(69.2308 %) > median(68.956 %)\n",
    "    \n",
    "2. The F-Measures as well as Precision and Recall values are similar among three fittings, therefore, we can say replacing missing value with mean will give us best result according to accuracy.\n",
    "\n",
    "If we replace missing values with **mean**, it gives best accuracy. Also, it gives best precsion and recall. Therefore, I am going to use \"train_replaceNAwithMean.csv\" file to do the following homework.\n",
    "\n",
    "Interesting, I also tested the models on 350 features(20% of all features), and I found that replacing with median gives dramatically better result (data not shown). Since the number of features we are going to chose is close to 70%(1260), I will use \"mean\" data according to the above analysis.\n"
   ]
  },
  {
   "cell_type": "markdown",
   "metadata": {},
   "source": [
    "### 0.4. Feature observation"
   ]
  },
  {
   "cell_type": "markdown",
   "metadata": {},
   "source": [
    "The train data we generated combines all the data from the files case.gex and ctrl.gex. And we will only work on the first 1800 genes for this homework. In this case, features represent different genes. And Classes are the labels, we have AD patient labeled as 2 and Control people labeled as 1."
   ]
  },
  {
   "cell_type": "code",
   "execution_count": 288,
   "metadata": {
    "collapsed": false
   },
   "outputs": [
    {
     "data": {
      "image/png": "[encoded data removed]",
      "text/plain": [
       "<matplotlib.figure.Figure at 0x11918c410>"
      ]
     },
     "metadata": {},
     "output_type": "display_data"
    }
   ],
   "source": [
    "import seaborn as sns\n",
    "for i in range(1, 600):\n",
    "    sns.distplot(train_NA_as_mean[train_NA_as_mean.columns[i]]);"
   ]
  },
  {
   "cell_type": "code",
   "execution_count": 289,
   "metadata": {
    "collapsed": false
   },
   "outputs": [
    {
     "data": {
      "image/png": "[encoded data removed]",
      "text/plain": [
       "<matplotlib.figure.Figure at 0x1004c53d0>"
      ]
     },
     "metadata": {},
     "output_type": "display_data"
    }
   ],
   "source": [
    "for i in range(600, 1200):\n",
    "    sns.distplot(train_NA_as_mean[train_NA_as_mean.columns[i]]);"
   ]
  },
  {
   "cell_type": "code",
   "execution_count": 290,
   "metadata": {
    "collapsed": false
   },
   "outputs": [
    {
     "data": {
      "image/png": "[encoded data removed]",
      "text/plain": [
       "<matplotlib.figure.Figure at 0x1193d2750>"
      ]
     },
     "metadata": {},
     "output_type": "display_data"
    }
   ],
   "source": [
    "for i in range(1200, 1801):\n",
    "    sns.distplot(train_NA_as_mean[train_NA_as_mean.columns[i]]);"
   ]
  },
  {
   "cell_type": "markdown",
   "metadata": {},
   "source": [
    "We could see  feature has already been normalized with a mean around 0 "
   ]
  },
  {
   "cell_type": "markdown",
   "metadata": {},
   "source": [
    "## Problem 1\n",
    "Feature selection – part 1 – Random Forest (RF) based (20 pts)\n",
    "\n",
    "Using the control data as the positive and negative training data (no test data) to build the following RFs, each of which has 500 trees. Compute the frequency of each gene appearing in each of the following RFs.\n"
   ]
  },
  {
   "cell_type": "code",
   "execution_count": 208,
   "metadata": {
    "collapsed": false
   },
   "outputs": [],
   "source": [
    "# This is the function to parse the feature frequency for the random forest model\n",
    "# input: weka generated frequence files\n",
    "# output: dictionary mapping each feature to its frequency\n",
    "import re\n",
    "import operator\n",
    "def getFreq(filename):\n",
    "    frequencies = {}\n",
    "    with open(filename) as f:\n",
    "        lines = f.readlines()\n",
    "    r = re.compile(\".*?\\((.*?)\\)\")\n",
    "    for line in lines:\n",
    "        freq = int(r.match(line).group(1))\n",
    "        feature = line.strip().split(')')[1]\n",
    "        frequencies[feature] = freq\n",
    "    return frequencies"
   ]
  },
  {
   "cell_type": "markdown",
   "metadata": {},
   "source": [
    "### 1.1 Fix the number of features (genes) at 70% of the total number of features, vary the number of instances from 50% to 90%, with an increment of 5%; \n"
   ]
  },
  {
   "cell_type": "markdown",
   "metadata": {},
   "source": [
    "**Model Descirption**\n",
    "\n",
    "For this part of homework, I used weka random forest model to fit the train data where the missing value were replaced with mean. In commond line of weka, **-P** means the percentage of instance we chose (varies in the following part of experiments), **-I** means number of trees we chose (500 trees), **-K** means the number of features we chose (70% of features, i.e. 1260 features). **-attribute-importance** is chosen to show feature frequency of the tree.\n",
    "\n",
    "I did 5-fold cross validation to evaluate each model.\n",
    "\n",
    "I have computed all the frequency for each feature for each model. However, for simplicity, I am going to show only top 15 genes selected by each model."
   ]
  },
  {
   "cell_type": "code",
   "execution_count": 209,
   "metadata": {
    "collapsed": false
   },
   "outputs": [
    {
     "data": {
      "text/plain": [
       "[array([ 0.5 ,  0.55,  0.6 ,  0.65,  0.7 ,  0.75,  0.8 ,  0.85,  0.9 ])]"
      ]
     },
     "execution_count": 209,
     "metadata": {},
     "output_type": "execute_result"
    }
   ],
   "source": [
    "number_of_instances = [np.arange(0.5, 0.95, 0.05)]\n",
    "number_of_instances"
   ]
  },
  {
   "cell_type": "markdown",
   "metadata": {},
   "source": [
    "### 1.1.1 percentage_of_instances = 0.5\n",
    "1. Run information \n",
    "    * Scheme:       weka.classifiers.trees.RandomForest -P 50 -attribute-importance -I 500 -num-slots 1 -K 1260 -M 1.0 -V 0.001 -S 1\n",
    "    * Relation:     train_replaceNAwithMean-weka.filters.unsupervised.attribute.NumericToNominal-R1\n",
    "    * Test mode:    5-fold cross-validation\n",
    "2. Stratified cross-validation \n",
    "    * Correctly Classified Instances         255               70.0549 %\n",
    "    * Incorrectly Classified Instances       109               29.9451 %\n",
    "    * Kappa statistic                          0.3984\n",
    "    * Mean absolute error                      0.4262\n",
    "    * Root mean squared error                  0.4512\n",
    "    * Relative absolute error                 85.3346 %\n",
    "    * Root relative squared error             90.2846 %"
   ]
  },
  {
   "cell_type": "code",
   "execution_count": 210,
   "metadata": {
    "collapsed": false
   },
   "outputs": [
    {
     "data": {
      "text/plain": [
       "[('  GI_10047091-S', 219),\n",
       " ('  GI_14249537-S', 176),\n",
       " ('  GI_10047093-S', 144),\n",
       " ('  GI_10047103-S', 130),\n",
       " ('  GI_10047133-A', 120),\n",
       " ('  GI_20127596-S', 79),\n",
       " ('  GI_10092596-S', 77),\n",
       " ('  GI_10092616-S', 76),\n",
       " ('  GI_10092600-S', 73),\n",
       " ('  GI_10092618-S', 63),\n",
       " ('  GI_10092672-S', 56),\n",
       " ('  GI_10190745-S', 49),\n",
       " ('  GI_13375790-S', 48),\n",
       " ('  GI_10190705-S', 48),\n",
       " ('  GI_20127571-S', 44)]"
      ]
     },
     "execution_count": 210,
     "metadata": {},
     "output_type": "execute_result"
    }
   ],
   "source": [
    "# weka output file was \"0.5i\"\n",
    "features_freq = getFreq(\"0.5i\")\n",
    "sorted_features_freq = sorted(features_freq.items(), key=operator.itemgetter(1), reverse=True)\n",
    "sorted_features_freq[0:15]"
   ]
  },
  {
   "cell_type": "markdown",
   "metadata": {},
   "source": [
    "### 1.1.2 percentage_of_instances = 0.55\n",
    "1. Run information\n",
    "    * Scheme:       weka.classifiers.trees.RandomForest -P 55 -attribute-importance -I 500 -num-slots 1 -K 1260 -M 1.0 -V 0.001 -S 1\n",
    "    * Relation:     train_replaceNAwithMean-weka.filters.unsupervised.attribute.NumericToNominal-R1\n",
    "    * Test mode:    5-fold cross-validation\n",
    "2. Stratified cross-validation\n",
    "    * Correctly Classified Instances         250               68.6813 %\n",
    "    * Incorrectly Classified Instances       114               31.3187 %\n",
    "    * Kappa statistic                          0.3702\n",
    "    * Mean absolute error                      0.4222\n",
    "    * Root mean squared error                  0.4482\n",
    "    * Relative absolute error                 84.5305 %\n",
    "    * Root relative squared error             89.6854 %"
   ]
  },
  {
   "cell_type": "code",
   "execution_count": 291,
   "metadata": {
    "collapsed": false
   },
   "outputs": [
    {
     "data": {
      "text/plain": [
       "[('  GI_10047091-S', 227),\n",
       " ('  GI_14249537-S', 175),\n",
       " ('  GI_10047093-S', 160),\n",
       " ('  GI_10047103-S', 152),\n",
       " ('  GI_10047133-A', 124),\n",
       " ('  GI_10092596-S', 94),\n",
       " ('  GI_20127596-S', 84),\n",
       " ('  GI_10092600-S', 79),\n",
       " ('  GI_10092616-S', 64),\n",
       " ('  GI_10092672-S', 60),\n",
       " ('  GI_10092618-S', 57),\n",
       " ('  GI_21166356-S', 55),\n",
       " ('  GI_10518505-A', 51),\n",
       " ('  GI_13375790-S', 50),\n",
       " ('  GI_20127571-S', 45)]"
      ]
     },
     "execution_count": 291,
     "metadata": {},
     "output_type": "execute_result"
    }
   ],
   "source": [
    "# weka output file was \"0.55i\"\n",
    "features_freq2 = getFreq(\"0.55i\")\n",
    "sorted_features_freq2 = sorted(features_freq2.items(), key=operator.itemgetter(1), reverse=True)\n",
    "sorted_features_freq2[0:15]"
   ]
  },
  {
   "cell_type": "markdown",
   "metadata": {},
   "source": [
    "### 1.1.3 percentage_of_instances = 0.6\n",
    "1. Run information\n",
    "    * Scheme:       weka.classifiers.trees.RandomForest -P 60 -attribute-importance -I 500 -num-slots 1 -K 1260 -M 1.0 -V 0.001 -S 1\n",
    "    * Relation:     train_replaceNAwithMean-weka.filters.unsupervised.attribute.NumericToNominal-R1\n",
    "    * Test mode:    5-fold cross-validation\n",
    "2. Stratified cross-validation \n",
    "    * Correctly Classified Instances         254               69.7802 %\n",
    "    * Incorrectly Classified Instances       110               30.2198 %\n",
    "    * Kappa statistic                          0.3921\n",
    "    * Mean absolute error                      0.423 \n",
    "    * Root mean squared error                  0.4502\n",
    "    * Relative absolute error                 84.679  %\n",
    "    * Root relative squared error             90.0899 %"
   ]
  },
  {
   "cell_type": "code",
   "execution_count": 292,
   "metadata": {
    "collapsed": false
   },
   "outputs": [
    {
     "data": {
      "text/plain": [
       "[('  GI_10047091-S', 231),\n",
       " ('  GI_14249537-S', 217),\n",
       " ('  GI_10047093-S', 180),\n",
       " ('  GI_10047103-S', 163),\n",
       " ('  GI_10092596-S', 105),\n",
       " ('  GI_10047133-A', 104),\n",
       " ('  GI_20127596-S', 95),\n",
       " ('  GI_10092600-S', 81),\n",
       " ('  GI_10092616-S', 72),\n",
       " ('  GI_10092672-S', 69),\n",
       " ('  GI_10092618-S', 57),\n",
       " ('  GI_10190745-S', 57),\n",
       " ('  GI_10257436-S', 56),\n",
       " ('  GI_10190705-S', 52),\n",
       " ('  GI_13375790-S', 50)]"
      ]
     },
     "execution_count": 292,
     "metadata": {},
     "output_type": "execute_result"
    }
   ],
   "source": [
    "# weka output file was \"0.6i\"\n",
    "features_freq3 = getFreq(\"0.6i\")\n",
    "sorted_features_freq3 = sorted(features_freq3.items(), key=operator.itemgetter(1), reverse=True)\n",
    "sorted_features_freq3[0:15]"
   ]
  },
  {
   "cell_type": "markdown",
   "metadata": {},
   "source": [
    "### 1.1.4 percentage_of_instances = 0.65\n",
    "1. Run information\n",
    "    * Scheme:       weka.classifiers.trees.RandomForest -P 65 -attribute-importance -I 500 -num-slots 1 -K 1260 -M 1.0 -V 0.001 -S 1\n",
    "    * Relation:     train_replaceNAwithMean-weka.filters.unsupervised.attribute.NumericToNominal-R1\n",
    "    * Test mode:    5-fold cross-validation\n",
    "2. Stratified cross-validation ===\n",
    "    * Correctly Classified Instances         256               70.3297 %\n",
    "    * Incorrectly Classified Instances       108               29.6703 %\n",
    "    * Kappa statistic                          0.4034\n",
    "    * Mean absolute error                      0.4203\n",
    "    * Root mean squared error                  0.4471\n",
    "    * Relative absolute error                 84.1488 %\n",
    "    * Root relative squared error             89.4612 %"
   ]
  },
  {
   "cell_type": "code",
   "execution_count": 293,
   "metadata": {
    "collapsed": false
   },
   "outputs": [
    {
     "data": {
      "text/plain": [
       "[('  GI_10047091-S', 249),\n",
       " ('  GI_14249537-S', 210),\n",
       " ('  GI_10047093-S', 193),\n",
       " ('  GI_10047103-S', 177),\n",
       " ('  GI_10047133-A', 134),\n",
       " ('  GI_20127596-S', 116),\n",
       " ('  GI_10092596-S', 108),\n",
       " ('  GI_10092600-S', 83),\n",
       " ('  GI_10092672-S', 79),\n",
       " ('  GI_10092616-S', 77),\n",
       " ('  GI_21166356-S', 65),\n",
       " ('  GI_20127571-S', 57),\n",
       " ('  GI_10092618-S', 55),\n",
       " ('  GI_13375790-S', 54),\n",
       " ('  GI_10190745-S', 53)]"
      ]
     },
     "execution_count": 293,
     "metadata": {},
     "output_type": "execute_result"
    }
   ],
   "source": [
    "# weka output file was \"0.65i\"\n",
    "features_freq4 = getFreq(\"0.65i\")\n",
    "sorted_features_freq4 = sorted(features_freq4.items(), key=operator.itemgetter(1), reverse=True)\n",
    "sorted_features_freq4[0:15]"
   ]
  },
  {
   "cell_type": "markdown",
   "metadata": {},
   "source": [
    "### 1.1.5 percentage_of_instances = 0.7\n",
    "1. Run information \n",
    "    * Scheme:       weka.classifiers.trees.RandomForest -P 75 -attribute-importance -I 500 -num-slots 1 -K 1260 -M 1.0 -V 0.001 -S 1\n",
    "    * Relation:     train_replaceNAwithMean-weka.filters.unsupervised.attribute.NumericToNominal-R1\n",
    "    * Test mode:    5-fold cross-validation\n",
    "2. Stratified cross-validation \n",
    "    * Correctly Classified Instances         255               70.0549 %\n",
    "    * Incorrectly Classified Instances       109               29.9451 %\n",
    "    * Kappa statistic                          0.3986\n",
    "    * Mean absolute error                      0.4208\n",
    "    * Root mean squared error                  0.4486\n",
    "    * Relative absolute error                 84.2555 %\n",
    "    * Root relative squared error             89.7678 %"
   ]
  },
  {
   "cell_type": "code",
   "execution_count": 294,
   "metadata": {
    "collapsed": false
   },
   "outputs": [
    {
     "data": {
      "text/plain": [
       "[('  GI_10047091-S', 300),\n",
       " ('  GI_14249537-S', 228),\n",
       " ('  GI_10047093-S', 196),\n",
       " ('  GI_10047103-S', 187),\n",
       " ('  GI_10047133-A', 140),\n",
       " ('  GI_20127596-S', 136),\n",
       " ('  GI_10092596-S', 132),\n",
       " ('  GI_10092600-S', 107),\n",
       " ('  GI_10092616-S', 87),\n",
       " ('  GI_10092618-S', 75),\n",
       " ('  GI_10190745-S', 68),\n",
       " ('  GI_10092672-S', 66),\n",
       " ('  GI_21166356-S', 64),\n",
       " ('  GI_13375790-S', 62),\n",
       " ('  GI_20127571-S', 61)]"
      ]
     },
     "execution_count": 294,
     "metadata": {},
     "output_type": "execute_result"
    }
   ],
   "source": [
    "# weka output file was \"0.7i\"\n",
    "features_freq5 = getFreq(\"0.7i\")\n",
    "sorted_features_freq5 = sorted(features_freq5.items(), key=operator.itemgetter(1), reverse=True)\n",
    "sorted_features_freq5[0:15]"
   ]
  },
  {
   "cell_type": "markdown",
   "metadata": {},
   "source": [
    "### 1.1.6 percentage_of_instances = 0.75\n",
    "1. Run information \n",
    "    * Scheme:       weka.classifiers.trees.RandomForest -P 75 -attribute-importance -I 500 -num-slots 1 -K 1260 -M 1.0 -V 0.001 -S 1\n",
    "    * Relation:     train_replaceNAwithMean-weka.filters.unsupervised.attribute.NumericToNominal-R1\n",
    "    * Test mode:    5-fold cross-validation\n",
    "2. Stratified cross-validation \n",
    "    * Correctly Classified Instances         255               70.0549 %\n",
    "    * Incorrectly Classified Instances       109               29.9451 %\n",
    "    * Kappa statistic                          0.3977\n",
    "    * Mean absolute error                      0.4186\n",
    "    * Root mean squared error                  0.4476\n",
    "    * Relative absolute error                 83.8099 %\n",
    "    * Root relative squared error             89.5614 %"
   ]
  },
  {
   "cell_type": "code",
   "execution_count": 295,
   "metadata": {
    "collapsed": false
   },
   "outputs": [
    {
     "data": {
      "text/plain": [
       "[('  GI_10047091-S', 285),\n",
       " ('  GI_14249537-S', 241),\n",
       " ('  GI_10047093-S', 187),\n",
       " ('  GI_10047103-S', 185),\n",
       " ('  GI_20127596-S', 136),\n",
       " ('  GI_10092596-S', 116),\n",
       " ('  GI_10047133-A', 114),\n",
       " ('  GI_10092600-S', 104),\n",
       " ('  GI_10092616-S', 95),\n",
       " ('  GI_10092618-S', 80),\n",
       " ('  GI_21166356-S', 74),\n",
       " ('  GI_10092672-S', 68),\n",
       " ('  GI_20127571-S', 63),\n",
       " ('  GI_10440565-S', 61),\n",
       " ('  GI_13375790-S', 60)]"
      ]
     },
     "execution_count": 295,
     "metadata": {},
     "output_type": "execute_result"
    }
   ],
   "source": [
    "# weka output file was \"0.75i\"\n",
    "features_freq6 = getFreq(\"0.75i\")\n",
    "sorted_features_freq6 = sorted(features_freq6.items(), key=operator.itemgetter(1), reverse=True)\n",
    "sorted_features_freq6[0:15]"
   ]
  },
  {
   "cell_type": "markdown",
   "metadata": {},
   "source": [
    "### 1.1.7 percentage_of_instances = 0.8\n",
    "1. Run information\n",
    "    * Scheme:       weka.classifiers.trees.RandomForest -P 80 -attribute-importance -I 500 -num-slots 1 -K 1260 -M 1.0 -V 0.001 -S 1\n",
    "    * Relation:     train_replaceNAwithMean-weka.filters.unsupervised.attribute.NumericToNominal-R1\n",
    "    * Test mode:    5-fold cross-validation\n",
    "2.  Stratified cross-validation \n",
    "    * Correctly Classified Instances         247               67.8571 %\n",
    "    * Incorrectly Classified Instances       117               32.1429 %\n",
    "    * Kappa statistic                          0.3545\n",
    "    * Mean absolute error                      0.4191\n",
    "    * Root mean squared error                  0.4485\n",
    "    * Relative absolute error                 83.9144 %\n",
    "    * Root relative squared error             89.7369 %"
   ]
  },
  {
   "cell_type": "code",
   "execution_count": 296,
   "metadata": {
    "collapsed": false
   },
   "outputs": [
    {
     "data": {
      "text/plain": [
       "[('  GI_10047091-S', 298),\n",
       " ('  GI_14249537-S', 248),\n",
       " ('  GI_10047093-S', 227),\n",
       " ('  GI_10047103-S', 187),\n",
       " ('  GI_20127596-S', 146),\n",
       " ('  GI_10047133-A', 146),\n",
       " ('  GI_10092596-S', 110),\n",
       " ('  GI_10092600-S', 97),\n",
       " ('  GI_10092672-S', 95),\n",
       " ('  GI_10092616-S', 94),\n",
       " ('  GI_21166356-S', 77),\n",
       " ('  GI_10092618-S', 76),\n",
       " ('  GI_13375790-S', 70),\n",
       " ('  GI_10518499-S', 69),\n",
       " ('  GI_10440565-S', 63)]"
      ]
     },
     "execution_count": 296,
     "metadata": {},
     "output_type": "execute_result"
    }
   ],
   "source": [
    "# weka output file was \"0.8i\"\n",
    "features_freq7 = getFreq(\"0.8i\")\n",
    "sorted_features_freq7 = sorted(features_freq7.items(), key=operator.itemgetter(1), reverse=True)\n",
    "sorted_features_freq7[0:15]"
   ]
  },
  {
   "cell_type": "markdown",
   "metadata": {},
   "source": [
    "### 1.1.8 percentage_of_instances =0.85\n",
    "1. Run information \n",
    "    * Scheme:       weka.classifiers.trees.RandomForest -P 85 -attribute-importance -I 500 -num-slots 1 -K 1260 -M 1.0 -V 0.001 -S 1\n",
    "    * Relation:     train_replaceNAwithMean-weka.filters.unsupervised.attribute.NumericToNominal-R1\n",
    "    * Test mode:    5-fold cross-validation\n",
    "2. Stratified cross-validation \n",
    "    * Correctly Classified Instances         254               69.7802 %\n",
    "    * Incorrectly Classified Instances       110               30.2198 %\n",
    "    * Kappa statistic                          0.393 \n",
    "    * Mean absolute error                      0.4174\n",
    "    * Root mean squared error                  0.447 \n",
    "    * Relative absolute error                 83.5679 %\n",
    "    * Root relative squared error             89.4377 %\n"
   ]
  },
  {
   "cell_type": "code",
   "execution_count": 297,
   "metadata": {
    "collapsed": false
   },
   "outputs": [
    {
     "data": {
      "text/plain": [
       "[('  GI_10047091-S', 331),\n",
       " ('  GI_10047093-S', 266),\n",
       " ('  GI_14249537-S', 256),\n",
       " ('  GI_10047103-S', 204),\n",
       " ('  GI_20127596-S', 164),\n",
       " ('  GI_10092596-S', 137),\n",
       " ('  GI_10047133-A', 121),\n",
       " ('  GI_10092600-S', 119),\n",
       " ('  GI_10092672-S', 105),\n",
       " ('  GI_10092618-S', 98),\n",
       " ('  GI_10092616-S', 90),\n",
       " ('  GI_21166356-S', 82),\n",
       " ('  GI_20127571-S', 66),\n",
       " ('  GI_13375790-S', 65),\n",
       " ('  GI_10190705-S', 64)]"
      ]
     },
     "execution_count": 297,
     "metadata": {},
     "output_type": "execute_result"
    }
   ],
   "source": [
    "# weka output file was \"0.85i\"\n",
    "features_freq8 = getFreq(\"0.85i\")\n",
    "sorted_features_freq8 = sorted(features_freq8.items(), key=operator.itemgetter(1), reverse=True)\n",
    "sorted_features_freq8[0:15]"
   ]
  },
  {
   "cell_type": "markdown",
   "metadata": {},
   "source": [
    "### 1.1.9 percentage_of_instances = 0.9\n",
    "1. Run information\n",
    "    * Scheme:       weka.classifiers.trees.RandomForest -P 90 -attribute-importance -I 500 -num-slots 1 -K 1260 -M 1.0 -V 0.001 -S 1\n",
    "    * Relation:     train_replaceNAwithMean-weka.filters.unsupervised.attribute.NumericToNominal-R1\n",
    "    * Test mode:    5-fold cross-validation\n",
    "2. Stratified cross-validation \n",
    "    * Correctly Classified Instances         253               69.5055 %\n",
    "    * Incorrectly Classified Instances       111               30.4945 %\n",
    "    * Kappa statistic                          0.3869\n",
    "    * Mean absolute error                      0.4154\n",
    "    * Root mean squared error                  0.4453\n",
    "    * Relative absolute error                 83.1719 %\n",
    "    * Root relative squared error             89.1129 %"
   ]
  },
  {
   "cell_type": "code",
   "execution_count": 298,
   "metadata": {
    "collapsed": false
   },
   "outputs": [
    {
     "data": {
      "text/plain": [
       "[('  GI_10047091-S', 321),\n",
       " ('  GI_14249537-S', 265),\n",
       " ('  GI_10047093-S', 236),\n",
       " ('  GI_10047103-S', 200),\n",
       " ('  GI_10047133-A', 181),\n",
       " ('  GI_20127596-S', 169),\n",
       " ('  GI_10092600-S', 140),\n",
       " ('  GI_10092596-S', 123),\n",
       " ('  GI_10092618-S', 91),\n",
       " ('  GI_10092616-S', 85),\n",
       " ('  GI_10092672-S', 82),\n",
       " ('  GI_21166356-S', 75),\n",
       " ('  GI_10440565-S', 74),\n",
       " ('  GI_13375790-S', 72),\n",
       " ('  GI_10190705-S', 71)]"
      ]
     },
     "execution_count": 298,
     "metadata": {},
     "output_type": "execute_result"
    }
   ],
   "source": [
    "# weka output file was \"0.9i\"\n",
    "features_freq9 = getFreq(\"0.9i\")\n",
    "sorted_features_freq9 = sorted(features_freq9.items(), key=operator.itemgetter(1), reverse=True)\n",
    "sorted_features_freq9[0:15]"
   ]
  },
  {
   "cell_type": "markdown",
   "metadata": {},
   "source": [
    "### 1.2 Fix the number of instances at 70% of the total number of instances, vary the number of features (genes) from 50% to 90%, with an increment of 5%; \n"
   ]
  },
  {
   "cell_type": "markdown",
   "metadata": {},
   "source": [
    "**Model Descirption**\n",
    "\n",
    "For this part of homework, I used weka random forest model to fit the train data where the missing value were replaced with mean. In commond line of weka, **-P** means the percentage of instance we chose (70% of instance), **-I** means number of trees we chose (500 trees), **-K** means the number of features we chose (varies in the following experiments). **-attribute-importance** is chosen to show feature frequency of the tree.\n",
    "\n",
    "I did 5-fold cross validation to evaluate the models.\n",
    "I have computed all the frequency for each feature for each model. However, for simplicity, I am going to show only top 15 genes selected by each model."
   ]
  },
  {
   "cell_type": "code",
   "execution_count": 299,
   "metadata": {
    "collapsed": false
   },
   "outputs": [
    {
     "data": {
      "text/plain": [
       "[array([  900.,   990.,  1080.,  1170.,  1260.,  1350.,  1440.,  1530.,\n",
       "         1620.])]"
      ]
     },
     "execution_count": 299,
     "metadata": {},
     "output_type": "execute_result"
    }
   ],
   "source": [
    "number_of_features = [np.arange(0.5, 0.95, 0.05) * 1800]\n",
    "number_of_features"
   ]
  },
  {
   "cell_type": "markdown",
   "metadata": {},
   "source": [
    "### 1.2.1 number_of_features = 900"
   ]
  },
  {
   "cell_type": "markdown",
   "metadata": {},
   "source": [
    "1. Run information\n",
    "    * Scheme:       weka.classifiers.trees.RandomForest -P 70 -attribute-importance -I 500 -num-slots 1 -K 900 -M 1.0 -V 0.001 -S 1\n",
    "    * Relation:     train_replaceNAwithMean-weka.filters.unsupervised.attribute.NumericToNominal-R1\n",
    "    * Test mode:    5-fold cross-validation\n",
    "2. Stratified cross-validation \n",
    "    * Correctly Classified Instances         257               70.6044 %\n",
    "    * Incorrectly Classified Instances       107               29.3956 %\n",
    "    * Kappa statistic                          0.4096\n",
    "    * Mean absolute error                      0.4226\n",
    "    * Root mean squared error                  0.448 \n",
    "    * Relative absolute error                 84.6031 %\n",
    "    * Root relative squared error             89.6556 %"
   ]
  },
  {
   "cell_type": "code",
   "execution_count": 300,
   "metadata": {
    "collapsed": false
   },
   "outputs": [
    {
     "data": {
      "text/plain": [
       "[('  GI_10047091-S', 188),\n",
       " ('  GI_14249537-S', 186),\n",
       " ('  GI_10047093-S', 180),\n",
       " ('  GI_10047103-S', 147),\n",
       " ('  GI_20127596-S', 128),\n",
       " ('  GI_10092596-S', 117),\n",
       " ('  GI_10047133-A', 104),\n",
       " ('  GI_10092600-S', 99),\n",
       " ('  GI_10092616-S', 88),\n",
       " ('  GI_10092618-S', 79),\n",
       " ('  GI_10440565-S', 68),\n",
       " ('  GI_10092672-S', 68),\n",
       " ('  GI_10190745-S', 67),\n",
       " ('  GI_13375790-S', 64),\n",
       " ('  GI_21166356-S', 53)]"
      ]
     },
     "execution_count": 300,
     "metadata": {},
     "output_type": "execute_result"
    }
   ],
   "source": [
    "# weka output file was \"900f\"\n",
    "features_freq10 = getFreq(\"900f\")\n",
    "sorted_features_freq10 = sorted(features_freq10.items(), key=operator.itemgetter(1), reverse=True)\n",
    "sorted_features_freq10[0:15]"
   ]
  },
  {
   "cell_type": "markdown",
   "metadata": {},
   "source": [
    "### 1.2.2 number_of_features = 990\n",
    "1. Run information\n",
    "    * Scheme:       weka.classifiers.trees.RandomForest -P 70 -attribute-importance -I 500 -num-slots 1 -K 990 -M 1.0 -V 0.001 -S 1\n",
    "    * Relation:     train_replaceNAwithMean-weka.filters.unsupervised.attribute.NumericToNominal-R1\n",
    "    * Test mode:    5-fold cross-validation\n",
    "2. Stratified cross-validation\n",
    "    * Correctly Classified Instances         254               69.7802 %\n",
    "    * Incorrectly Classified Instances       110               30.2198 %\n",
    "    * Kappa statistic                          0.3934\n",
    "    * Mean absolute error                      0.4212\n",
    "    * Root mean squared error                  0.4484\n",
    "    * Relative absolute error                 84.3358 %\n",
    "    * Root relative squared error             89.7286 %"
   ]
  },
  {
   "cell_type": "code",
   "execution_count": 301,
   "metadata": {
    "collapsed": false
   },
   "outputs": [
    {
     "data": {
      "text/plain": [
       "[('  GI_10047091-S', 244),\n",
       " ('  GI_14249537-S', 191),\n",
       " ('  GI_10047093-S', 163),\n",
       " ('  GI_10047103-S', 137),\n",
       " ('  GI_10047133-A', 128),\n",
       " ('  GI_10092596-S', 114),\n",
       " ('  GI_20127596-S', 108),\n",
       " ('  GI_10092616-S', 78),\n",
       " ('  GI_10092618-S', 74),\n",
       " ('  GI_10190705-S', 71),\n",
       " ('  GI_10092672-S', 69),\n",
       " ('  GI_10092600-S', 67),\n",
       " ('  GI_13375790-S', 63),\n",
       " ('  GI_21166356-S', 63),\n",
       " ('  GI_10190745-S', 57)]"
      ]
     },
     "execution_count": 301,
     "metadata": {},
     "output_type": "execute_result"
    }
   ],
   "source": [
    "# weka output file was \"990f\"\n",
    "features_freq11 = getFreq(\"990f\")\n",
    "sorted_features_freq11 = sorted(features_freq11.items(), key=operator.itemgetter(1), reverse=True)\n",
    "sorted_features_freq11[0:15]"
   ]
  },
  {
   "cell_type": "markdown",
   "metadata": {},
   "source": [
    "### 1.2.3 number_of_features = 1080\n",
    "1. Run information\n",
    "    * Scheme:       weka.classifiers.trees.RandomForest -P 70 -attribute-importance -I 500 -num-slots 1 -K 1080 -M 1.0 -V 0.001 -S 1\n",
    "    * Relation:     train_replaceNAwithMean-weka.filters.unsupervised.attribute.NumericToNominal-R1\n",
    "    * Test mode:    5-fold cross-validation\n",
    "2. Stratified cross-validation\n",
    "    * Correctly Classified Instances         256               70.3297 %\n",
    "    * Incorrectly Classified Instances       108               29.6703 %\n",
    "    * Kappa statistic                          0.404\n",
    "    * Mean absolute error                      0.4201\n",
    "    * Root mean squared error                  0.447\n",
    "    * Relative absolute error                 84.0993 %\n",
    "    * Root relative squared error             89.4445 %"
   ]
  },
  {
   "cell_type": "code",
   "execution_count": 302,
   "metadata": {
    "collapsed": false
   },
   "outputs": [
    {
     "data": {
      "text/plain": [
       "[('  GI_10047091-S', 234),\n",
       " ('  GI_14249537-S', 213),\n",
       " ('  GI_10047093-S', 192),\n",
       " ('  GI_10047103-S', 161),\n",
       " ('  GI_20127596-S', 132),\n",
       " ('  GI_10047133-A', 118),\n",
       " ('  GI_10092596-S', 103),\n",
       " ('  GI_10092600-S', 103),\n",
       " ('  GI_10092672-S', 96),\n",
       " ('  GI_10092616-S', 93),\n",
       " ('  GI_13375790-S', 69),\n",
       " ('  GI_21166356-S', 69),\n",
       " ('  GI_10092618-S', 67),\n",
       " ('  GI_20127571-S', 64),\n",
       " ('  GI_10518499-S', 56)]"
      ]
     },
     "execution_count": 302,
     "metadata": {},
     "output_type": "execute_result"
    }
   ],
   "source": [
    "# weka output file was \"1080f\"\n",
    "features_freq12 = getFreq(\"1080f\")\n",
    "sorted_features_freq12 = sorted(features_freq12.items(), key=operator.itemgetter(1), reverse=True)\n",
    "sorted_features_freq12[0:15]"
   ]
  },
  {
   "cell_type": "markdown",
   "metadata": {},
   "source": [
    "### 1.2.4 number_of_features = 1170\n",
    "1. Run information \n",
    "    * Scheme:       weka.classifiers.trees.RandomForest -P 70 -attribute-importance -I 500 -num-slots 1 -K 1170 -M 1.0 -V 0.001 -S 1\n",
    "    * Relation:     train_replaceNAwithMean-weka.filters.unsupervised.attribute.NumericToNominal-R1\n",
    "    * Test mode:    5-fold cross-validation\n",
    "2. Stratified cross-validation\n",
    "    * Correctly Classified Instances         252               69.2308 %\n",
    "    * Incorrectly Classified Instances       112               30.7692 %\n",
    "    * Kappa statistic                          0.3822\n",
    "    * Mean absolute error                      0.42\n",
    "    * Root mean squared error                  0.4471\n",
    "    * Relative absolute error                 84.0894 %\n",
    "    * Root relative squared error             89.4576 %"
   ]
  },
  {
   "cell_type": "code",
   "execution_count": 303,
   "metadata": {
    "collapsed": false
   },
   "outputs": [
    {
     "data": {
      "text/plain": [
       "[('  GI_10047091-S', 265),\n",
       " ('  GI_14249537-S', 225),\n",
       " ('  GI_10047093-S', 193),\n",
       " ('  GI_10047103-S', 153),\n",
       " ('  GI_20127596-S', 125),\n",
       " ('  GI_10092596-S', 123),\n",
       " ('  GI_10092600-S', 106),\n",
       " ('  GI_10047133-A', 105),\n",
       " ('  GI_10092616-S', 89),\n",
       " ('  GI_10092672-S', 77),\n",
       " ('  GI_10092618-S', 69),\n",
       " ('  GI_21166356-S', 66),\n",
       " ('  GI_20127571-S', 65),\n",
       " ('  GI_10190745-S', 62),\n",
       " ('  GI_13375790-S', 61)]"
      ]
     },
     "execution_count": 303,
     "metadata": {},
     "output_type": "execute_result"
    }
   ],
   "source": [
    "# weka output file was \"1170f\"\n",
    "features_freq13 = getFreq(\"1170f\")\n",
    "sorted_features_freq13 = sorted(features_freq13.items(), key=operator.itemgetter(1), reverse=True)\n",
    "sorted_features_freq13[0:15]"
   ]
  },
  {
   "cell_type": "markdown",
   "metadata": {},
   "source": [
    "### 1.2.5 number_of_features = 1260\n",
    "1. run information \n",
    "    * Scheme:       weka.classifiers.trees.RandomForest -P 70 -attribute-importance -I 500 -num-slots 1 -K 1260 -M 1.0 -V 0.001 -S 1\n",
    "    * Relation:     train_replaceNAwithMean-weka.filters.unsupervised.attribute.NumericToNominal-R1\n",
    "    * Test mode:    5-fold cross-validation\n",
    "2. Stratified cross-validation \n",
    "    * Correctly Classified Instances         255               70.0549 %\n",
    "    * Incorrectly Classified Instances       109               29.9451 %\n",
    "    * Kappa statistic                          0.3986\n",
    "    * Mean absolute error                      0.4208\n",
    "    * Root mean squared error                  0.4486\n",
    "    * Relative absolute error                 84.2555 %\n",
    "    * Root relative squared error             89.7678 %"
   ]
  },
  {
   "cell_type": "code",
   "execution_count": 304,
   "metadata": {
    "collapsed": false
   },
   "outputs": [
    {
     "data": {
      "text/plain": [
       "[('  GI_10047091-S', 300),\n",
       " ('  GI_14249537-S', 228),\n",
       " ('  GI_10047093-S', 196),\n",
       " ('  GI_10047103-S', 187),\n",
       " ('  GI_10047133-A', 140),\n",
       " ('  GI_20127596-S', 136),\n",
       " ('  GI_10092596-S', 132),\n",
       " ('  GI_10092600-S', 107),\n",
       " ('  GI_10092616-S', 87),\n",
       " ('  GI_10092618-S', 75),\n",
       " ('  GI_10190745-S', 68),\n",
       " ('  GI_10092672-S', 66),\n",
       " ('  GI_21166356-S', 64),\n",
       " ('  GI_13375790-S', 62),\n",
       " ('  GI_20127571-S', 61)]"
      ]
     },
     "execution_count": 304,
     "metadata": {},
     "output_type": "execute_result"
    }
   ],
   "source": [
    "# weka output file was \"1260f\"\n",
    "features_freq14 = getFreq(\"1260f\")\n",
    "sorted_features_freq14 = sorted(features_freq14.items(), key=operator.itemgetter(1), reverse=True)\n",
    "sorted_features_freq14[0:15]"
   ]
  },
  {
   "cell_type": "markdown",
   "metadata": {},
   "source": [
    "### 1.2.6 number_of_features = 1350\n",
    "1. Run information \n",
    "    * Scheme:       weka.classifiers.trees.RandomForest -P 70 -attribute-importance -I 500 -num-slots 1 -K 1350 -M 1.0 -V 0.001 -S 1\n",
    "    * Relation:     train_replaceNAwithMean-weka.filters.unsupervised.attribute.NumericToNominal-R1\n",
    "    * Test mode:    5-fold cross-validation\n",
    "2. Stratified cross-validation \n",
    "    * Correctly Classified Instances         254               69.7802 %\n",
    "    * Incorrectly Classified Instances       110               30.2198 %\n",
    "    * Kappa statistic                          0.3936\n",
    "    * Mean absolute error                      0.4194\n",
    "    * Root mean squared error                  0.4474\n",
    "    * Relative absolute error                 83.9606 %\n",
    "    * Root relative squared error             89.5265 %"
   ]
  },
  {
   "cell_type": "code",
   "execution_count": 305,
   "metadata": {
    "collapsed": false
   },
   "outputs": [
    {
     "data": {
      "text/plain": [
       "[('  GI_10047091-S', 293),\n",
       " ('  GI_14249537-S', 242),\n",
       " ('  GI_10047093-S', 216),\n",
       " ('  GI_10047103-S', 180),\n",
       " ('  GI_10047133-A', 132),\n",
       " ('  GI_20127596-S', 125),\n",
       " ('  GI_10092596-S', 121),\n",
       " ('  GI_10092600-S', 94),\n",
       " ('  GI_10092616-S', 83),\n",
       " ('  GI_20127571-S', 71),\n",
       " ('  GI_10092672-S', 68),\n",
       " ('  GI_10190745-S', 64),\n",
       " ('  GI_10092618-S', 63),\n",
       " ('  GI_10257436-S', 59),\n",
       " ('  GI_10190705-S', 59)]"
      ]
     },
     "execution_count": 305,
     "metadata": {},
     "output_type": "execute_result"
    }
   ],
   "source": [
    "# weka output file was \"1350f\"\n",
    "features_freq15 = getFreq(\"1350f\")\n",
    "sorted_features_freq15 = sorted(features_freq15.items(), key=operator.itemgetter(1), reverse=True)\n",
    "sorted_features_freq15[0:15]"
   ]
  },
  {
   "cell_type": "markdown",
   "metadata": {},
   "source": [
    "### 1.2.7 number_of_features = 1440\n",
    "1. Run information\n",
    "    * Scheme:       weka.classifiers.trees.RandomForest -P 70 -attribute-importance -I 500 -num-slots 1 -K 1440 -M 1.0 -V 0.001 -S 1\n",
    "    * Relation:     train_replaceNAwithMean-weka.filters.unsupervised.attribute.NumericToNominal-R1\n",
    "    * Test mode:    5-fold cross-validation\n",
    "2. Stratified cross-validation \n",
    "    * Correctly Classified Instances         249               68.4066 %\n",
    "    * Incorrectly Classified Instances       115               31.5934 %\n",
    "    * Kappa statistic                          0.3659\n",
    "    * Mean absolute error                      0.4184\n",
    "    * Root mean squared error                  0.4473\n",
    "    * Relative absolute error                 83.7769 %\n",
    "    * Root relative squared error             89.5076 %"
   ]
  },
  {
   "cell_type": "code",
   "execution_count": 306,
   "metadata": {
    "collapsed": false
   },
   "outputs": [
    {
     "data": {
      "text/plain": [
       "[('  GI_10047091-S', 300),\n",
       " ('  GI_14249537-S', 245),\n",
       " ('  GI_10047093-S', 231),\n",
       " ('  GI_10047103-S', 185),\n",
       " ('  GI_20127596-S', 147),\n",
       " ('  GI_10092596-S', 137),\n",
       " ('  GI_10047133-A', 137),\n",
       " ('  GI_10092600-S', 109),\n",
       " ('  GI_10092616-S', 72),\n",
       " ('  GI_10092672-S', 69),\n",
       " ('  GI_20127571-S', 67),\n",
       " ('  GI_10092618-S', 65),\n",
       " ('  GI_21166356-S', 62),\n",
       " ('  GI_10440565-S', 55),\n",
       " ('  GI_13375790-S', 55)]"
      ]
     },
     "execution_count": 306,
     "metadata": {},
     "output_type": "execute_result"
    }
   ],
   "source": [
    "# weka output file was \"1440f\"\n",
    "features_freq16 = getFreq(\"1440f\")\n",
    "sorted_features_freq16 = sorted(features_freq16.items(), key=operator.itemgetter(1), reverse=True)\n",
    "sorted_features_freq16[0:15]"
   ]
  },
  {
   "cell_type": "markdown",
   "metadata": {},
   "source": [
    "### 1.2.8 number_of_features = 1530\n",
    "1. Run information \n",
    "    * Scheme:       weka.classifiers.trees.RandomForest -P 70 -attribute-importance -I 500 -num-slots 1 -K 1530 -M 1.0 -V 0.001 -S 1\n",
    "    * Relation:     train_replaceNAwithMean-weka.filters.unsupervised.attribute.NumericToNominal-R1\n",
    "    * Test mode:    5-fold cross-validation\n",
    "2. Stratified cross-validation \n",
    "    * Correctly Classified Instances         253               69.5055 %\n",
    "    * Incorrectly Classified Instances       111               30.4945 %\n",
    "    * Kappa statistic                          0.3873\n",
    "    * Mean absolute error                      0.4178\n",
    "    * Root mean squared error                  0.4468\n",
    "    * Relative absolute error                 83.6383 %\n",
    "    * Root relative squared error             89.4121 %"
   ]
  },
  {
   "cell_type": "code",
   "execution_count": 307,
   "metadata": {
    "collapsed": false
   },
   "outputs": [
    {
     "data": {
      "text/plain": [
       "[('  GI_10047091-S', 343),\n",
       " ('  GI_14249537-S', 256),\n",
       " ('  GI_10047093-S', 220),\n",
       " ('  GI_10047103-S', 196),\n",
       " ('  GI_20127596-S', 134),\n",
       " ('  GI_10047133-A', 130),\n",
       " ('  GI_10092596-S', 106),\n",
       " ('  GI_10092600-S', 96),\n",
       " ('  GI_10092672-S', 84),\n",
       " ('  GI_10092616-S', 77),\n",
       " ('  GI_10092618-S', 71),\n",
       " ('  GI_20127571-S', 67),\n",
       " ('  GI_21166356-S', 63),\n",
       " ('  GI_10518505-A', 59),\n",
       " ('  GI_10190745-S', 58)]"
      ]
     },
     "execution_count": 307,
     "metadata": {},
     "output_type": "execute_result"
    }
   ],
   "source": [
    "# weka output file was \"1530f\"\n",
    "features_freq17 = getFreq(\"1530f\")\n",
    "sorted_features_freq17 = sorted(features_freq17.items(), key=operator.itemgetter(1), reverse=True)\n",
    "sorted_features_freq17[0:15]"
   ]
  },
  {
   "cell_type": "markdown",
   "metadata": {},
   "source": [
    "### 1.2.9 number_of_features = 1620\n",
    "1. Run information \n",
    "    * Scheme:       weka.classifiers.trees.RandomForest -P 70 -attribute-importance -I 500 -num-slots 1 -K 1620 -M 1.0 -V 0.001 -S 1\n",
    "    * Relation:     train_replaceNAwithMean-weka.filters.unsupervised.attribute.NumericToNominal-R1\n",
    "    * Test mode:    5-fold cross-validation\n",
    "2. Stratified cross-validation \n",
    "    * Correctly Classified Instances         251               68.956  %\n",
    "    * Incorrectly Classified Instances       113               31.044  %\n",
    "    * Kappa statistic                          0.3761\n",
    "    * Mean absolute error                      0.4168\n",
    "    * Root mean squared error                  0.4461\n",
    "    * Relative absolute error                 83.4524 %\n",
    "    * Root relative squared error             89.2695 %\n"
   ]
  },
  {
   "cell_type": "code",
   "execution_count": 308,
   "metadata": {
    "collapsed": false
   },
   "outputs": [
    {
     "data": {
      "text/plain": [
       "[('  GI_10047091-S', 338),\n",
       " ('  GI_14249537-S', 261),\n",
       " ('  GI_10047093-S', 219),\n",
       " ('  GI_10047103-S', 157),\n",
       " ('  GI_20127596-S', 134),\n",
       " ('  GI_10092596-S', 128),\n",
       " ('  GI_10047133-A', 114),\n",
       " ('  GI_10092600-S', 89),\n",
       " ('  GI_10092616-S', 88),\n",
       " ('  GI_10092672-S', 80),\n",
       " ('  GI_20127571-S', 68),\n",
       " ('  GI_10190745-S', 68),\n",
       " ('  GI_21166356-S', 67),\n",
       " ('  GI_10092618-S', 66),\n",
       " ('  GI_13375790-S', 56)]"
      ]
     },
     "execution_count": 308,
     "metadata": {},
     "output_type": "execute_result"
    }
   ],
   "source": [
    "# weka output file was \"1620f\"\n",
    "features_freq18 = getFreq(\"1620f\")\n",
    "sorted_features_freq18 = sorted(features_freq18.items(), key=operator.itemgetter(1), reverse=True)\n",
    "sorted_features_freq18[0:15]"
   ]
  },
  {
   "cell_type": "markdown",
   "metadata": {},
   "source": [
    "** Discussion **\n",
    "\n",
    "We could see that the model accuracy didn't change much when we varying the number of features with fixed number of instances or varying the number of instances with fixed feature numbers, varying from 68% to 70%. And the most frequent features(top 15 genes) selected by different forests were very similar."
   ]
  },
  {
   "cell_type": "markdown",
   "metadata": {},
   "source": [
    "### 1.3 What does the frequency of a gene in a RF tell us about this gene for AD? \n",
    "\n"
   ]
  },
  {
   "cell_type": "markdown",
   "metadata": {},
   "source": [
    "Random forest tree algorithm is an implementation of bagging using decision tree as the base classifier. The beginning of random forest algorithm starts with randomly selecting “k” features out of total “m” features. In the next stage, we are using the randomly selected “k” features to find the root node by using the best split approach. We repeat the process until we form the tree with a root node and having the target as the leaf node. Finally, we repeat the tree building process to create “n” randomly created trees. These randomly created trees forms the random forest. Since we always picked the feature that gives us maximum information gain/gain ratio when buidling the tree. The frequently picked feature(gene) means the feature usually leads to best split. For a forest, the feature frequency would be the total frequencies of the features in all the trees and are ranked accordingly. Therefore, higher frequency in some sense means it's been picked many times for best split when building the tree, i.e., the feature(gene) is important in classifying the data."
   ]
  },
  {
   "cell_type": "markdown",
   "metadata": {},
   "source": [
    "### 1.4 how do we compare two genes based on their frequencies?\n",
    "As explained in 1.3, the higher the frequency, the more important the feature is. However, consider a specific tree in forest, and consider the frequency of the features selected to split this tree, the frequency of these features should be the same as 1. But we know that the feature closer to root of the tree is more important than the feature on the lower layer of the tree, i.e., feature closer to root giving higher information gain. Therefore, if we only consider the frequency, it is not that accurate and complete. A much more commonly used way for feature selection is considering the Gini impurity or information gain/entropy of the feature. The higher the information gain, the more important the feature is."
   ]
  },
  {
   "cell_type": "markdown",
   "metadata": {},
   "source": [
    "### 1.5 Now the feature selection: Not all 8,000+ genes are important or useful. If you can only use a small number of genes, say 100, which ones do you use?\n",
    "\n"
   ]
  },
  {
   "cell_type": "markdown",
   "metadata": {},
   "source": [
    "We have built 18 forest. And the top15 frequent features provided by different forest were very similar. Now Let's see how similar if considering top 100 genes."
   ]
  },
  {
   "cell_type": "code",
   "execution_count": 309,
   "metadata": {
    "collapsed": true
   },
   "outputs": [],
   "source": [
    "# The function calculates the number of different features in two set of frequencies considering top n selected features\n",
    "def numberOfDifference(freq1, freq2, n):\n",
    "    top1 = [feature for feature, value in freq1[0:n]]\n",
    "    top2 = [feature for feature, value in freq2[0:n]]\n",
    "    return len([feature for feature in top1 if feature not in top2])"
   ]
  },
  {
   "cell_type": "code",
   "execution_count": 310,
   "metadata": {
    "collapsed": false
   },
   "outputs": [],
   "source": [
    "all_feature_freqs = [sorted_features_freq1,sorted_features_freq2, sorted_features_freq3, sorted_features_freq4, sorted_features_freq5, sorted_features_freq6, sorted_features_freq7, sorted_features_freq8, sorted_features_freq9, sorted_features_freq10,sorted_features_freq11,sorted_features_freq12, sorted_features_freq13,sorted_features_freq14, sorted_features_freq15,sorted_features_freq16,sorted_features_freq17,sorted_features_freq18]"
   ]
  },
  {
   "cell_type": "code",
   "execution_count": 311,
   "metadata": {
    "collapsed": false
   },
   "outputs": [],
   "source": [
    "# getDifference returns a list,\n",
    "# each element represents the number of different features in any 2 sets of frequencies among 18 forest considering top n genes\n",
    "def getDifference(all_feature_freqs, n):\n",
    "    diff = []\n",
    "    for i in range(len(all_feature_freqs)-1):\n",
    "        for j in range(i+1, len(all_feature_freqs)):\n",
    "            diff.append(numberOfDifference(all_feature_freqs[i], all_feature_freqs[j], n))\n",
    "            #print  i+1 , \",\" , j+1 , \": \" , numberOfDifference(all_feature_freqs[i], all_feature_freqs[j])\n",
    "    return diff"
   ]
  },
  {
   "cell_type": "code",
   "execution_count": 312,
   "metadata": {
    "collapsed": false
   },
   "outputs": [],
   "source": [
    "top100_diff = getDifference(all_feature_freqs, 100)"
   ]
  },
  {
   "cell_type": "code",
   "execution_count": 313,
   "metadata": {
    "collapsed": false
   },
   "outputs": [
    {
     "data": {
      "text/plain": [
       "38"
      ]
     },
     "execution_count": 313,
     "metadata": {},
     "output_type": "execute_result"
    }
   ],
   "source": [
    "max(top100_diff)"
   ]
  },
  {
   "cell_type": "markdown",
   "metadata": {},
   "source": [
    "We built our models only on the first 1800 genes. Therefore, I am going to select the top 100 genes from these genes. From above study, we can see that the top100 genes selected by each model are at most off by 37 genes, which is fairly large. Therefore I am going to report the top 100 genes based on the most accurate random forest model. Among 18 random forest we built in 1.1 and 1.2, the highest accuaracy we got is 70.6044 %, it is the model when we choose 70% of instance and 900 features (50% of features). "
   ]
  },
  {
   "cell_type": "code",
   "execution_count": 314,
   "metadata": {
    "collapsed": false
   },
   "outputs": [
    {
     "data": {
      "text/plain": [
       "[('  GI_10047091-S', 188),\n",
       " ('  GI_14249537-S', 186),\n",
       " ('  GI_10047093-S', 180),\n",
       " ('  GI_10047103-S', 147),\n",
       " ('  GI_20127596-S', 128),\n",
       " ('  GI_10092596-S', 117),\n",
       " ('  GI_10047133-A', 104),\n",
       " ('  GI_10092600-S', 99),\n",
       " ('  GI_10092616-S', 88),\n",
       " ('  GI_10092618-S', 79),\n",
       " ('  GI_10440565-S', 68),\n",
       " ('  GI_10092672-S', 68),\n",
       " ('  GI_10190745-S', 67),\n",
       " ('  GI_13375790-S', 64),\n",
       " ('  GI_21166356-S', 53),\n",
       " ('  GI_10190705-S', 49),\n",
       " ('  GI_10257436-S', 48),\n",
       " ('  GI_10346134-S', 47),\n",
       " ('  GI_20127571-S', 45),\n",
       " ('  GI_10518499-S', 45),\n",
       " ('  GI_10518505-A', 42),\n",
       " ('  GI_10337596-S', 42),\n",
       " ('  GI_10518505-I', 40),\n",
       " ('  GI_14249161-S', 36),\n",
       " ('  GI_10835100-S', 36),\n",
       " ('  GI_10442821-S', 34),\n",
       " ('  GI_10518498-S', 33),\n",
       " ('  GI_10518496-S', 30),\n",
       " ('  GI_13899314-S', 30),\n",
       " ('  GI_10800147-S', 30),\n",
       " ('  GI_16936521-S', 29),\n",
       " ('  GI_14149858-S', 29),\n",
       " ('  GI_10800418-S', 27),\n",
       " ('  GI_10834965-S', 25),\n",
       " ('  GI_10835229-S', 24),\n",
       " ('  GI_10835070-S', 24),\n",
       " ('  GI_10863878-S', 24),\n",
       " ('  GI_11321616-S', 23),\n",
       " ('  GI_20302037-S', 23),\n",
       " ('  GI_10835020-S', 22),\n",
       " ('  GI_10567815-I', 22),\n",
       " ('  GI_10800416-S', 22),\n",
       " ('  GI_11024697-S', 21),\n",
       " ('  GI_10800411-S', 21),\n",
       " ('  GI_11037060-A', 21),\n",
       " ('  GI_10800414-S', 21),\n",
       " ('  GI_20336758-S', 20),\n",
       " ('  GI_18375674-I', 20),\n",
       " ('  GI_10801344-S', 20),\n",
       " ('  GI_20149303-S', 19),\n",
       " ('  GI_11496977-S', 18),\n",
       " ('  GI_13514821-A', 17),\n",
       " ('  GI_10835174-S', 17),\n",
       " ('  GI_10835118-S', 17),\n",
       " ('  GI_19923500-S', 16),\n",
       " ('  GI_17865806-S', 16),\n",
       " ('  GI_12056477-S', 16),\n",
       " ('  GI_14702170-I', 16),\n",
       " ('  GI_10947058-S', 16),\n",
       " ('  GI_10863908-S', 16),\n",
       " ('  GI_13124878-A', 16),\n",
       " ('  GI_10835084-S', 15),\n",
       " ('  GI_18426972-S', 15),\n",
       " ('  GI_11056053-S', 15),\n",
       " ('  GI_11056009-S', 15),\n",
       " ('  GI_13435144-S', 15),\n",
       " ('  GI_13899304-S', 15),\n",
       " ('  GI_11641417-S', 15),\n",
       " ('  GI_11496880-S', 15),\n",
       " ('  GI_13489082-S', 15),\n",
       " ('  GI_10864046-S', 14),\n",
       " ('  GI_13569947-S', 14),\n",
       " ('  GI_13129067-S', 14),\n",
       " ('  GI_12232436-S', 14),\n",
       " ('  GI_11184225-S', 14),\n",
       " ('  GI_10800415-S', 14),\n",
       " ('  GI_11641410-A', 14),\n",
       " ('  GI_11038661-S', 14),\n",
       " ('  GI_10835009-S', 14),\n",
       " ('  GI_13325074-S', 14),\n",
       " ('  GI_16933539-S', 14),\n",
       " ('  GI_10835168-S', 14),\n",
       " ('  GI_13129087-S', 13),\n",
       " ('  GI_17402899-S', 13),\n",
       " ('  GI_18034691-I', 13),\n",
       " ('  GI_13259519-S', 13),\n",
       " ('  GI_10863946-S', 13),\n",
       " ('  GI_11496979-S', 13),\n",
       " ('  GI_10864024-S', 13),\n",
       " ('  GI_11496992-S', 13),\n",
       " ('  GI_19311007-A', 13),\n",
       " ('  GI_10835001-S', 13),\n",
       " ('  GI_11321592-S', 13),\n",
       " ('  GI_10835022-S', 13),\n",
       " ('  GI_20357594-S', 13),\n",
       " ('  GI_11140810-S', 12),\n",
       " ('  GI_14589934-I', 12),\n",
       " ('  GI_14150038-S', 12),\n",
       " ('  GI_10863984-S', 12),\n",
       " ('  GI_15451941-S', 12)]"
      ]
     },
     "execution_count": 314,
     "metadata": {},
     "output_type": "execute_result"
    }
   ],
   "source": [
    "# frequencies from the model using 70% instance and 50% features\n",
    "top100_based_on_forest = sorted_features_freq10[0:100]\n",
    "top100_based_on_forest"
   ]
  },
  {
   "cell_type": "markdown",
   "metadata": {},
   "source": [
    "### 1.6 (not required, but if you do it correctly or in a meaningful way, you get 5 bonus points) Are the orderings of the genes using the RF method stable?  What factors affect the stability? How can we quantify the stability? \n"
   ]
  },
  {
   "cell_type": "markdown",
   "metadata": {},
   "source": [
    "For the experiments we have done, we could see that the orderings of the genes are quite stable. That is due to we built our forest from 500 trees with at least 50% features and 50% instances. This ensures that almost all the features and instances have been covered in the process of buidling the forest. And since we have a large number of tree, the avargeing result of the trees shows a quite stable ordering. \n",
    "\n",
    "Therefore, we could see that the stability dependends on the number of trees, the percentage of features as well as the percentage of instances. With two of the parameters fixed, we could test on the effect of the third parameter. Firstly, if we build the forest only on a small number of trees, some important features and instances may not be selected, which leads to variance of orderings of the genes. Secondly, if we select a very small number of features, say 5%, again, some important features may not be selected, leading to different results between different forests. Thirdly, if we select a very small number of instances, say 1%, it may gives us quite baised tree considering such small number of instance, leading to different orderings. Therefore, if the number of trees, percentage of features, and percentage of instances are large enough, we shall see very stable result for the orderings of the genes, since the random forest provides the averaging result of all the trees and the tree always pick the feature that gives max information gain for the best split.\n",
    "\n",
    "To quantify the stability, we could fix two of the three parameters, and try a range of the third parameter to see when the forest starts generating the stable result."
   ]
  },
  {
   "cell_type": "markdown",
   "metadata": {},
   "source": [
    "## Problem 2\n",
    "Feature selection – part 2 – SVM (20 pts)\n",
    "\n",
    "Recall that the maximal margin classifier of SVM is f(x) = (wTv+b), where vector w and scalar b are the parameters of the SVM model learned from the training data (in this case, the data are the data for the AD cases and normal controls combined).  We now use the following kernels to build SVM models for AD\n"
   ]
  },
  {
   "cell_type": "markdown",
   "metadata": {},
   "source": [
    "**Model Descirption**\n",
    "\n",
    "For this part of homework, I used weka SMO(SVM) model to fit the train data where the missing value were replaced with mean. In commond line of weka, **-E** means the degree of the polynomial kernel (when E set as 1, it is a linear kernel, when E set as 2, it is a quadratic kernel), **-L** means if we use the lower order term (if -L is chosen, we includes b or 1 in the linear kernel or quadratic kernel respectively). \n",
    "\n",
    "I did 5-fold cross validation to evaluate the models.\n",
    "\n",
    "**Note**\n",
    "If we take a close look at the data, we shall see each feature has already been normalized with a mean around 0 (Please see data preprocessing part) Therefore, I chose \"no normalization\" when I fit SVM model to the dataset. And if we compare the result between \"normalize\" and \"no normalize\", I saw \"no normalize\"(accuracy around 60%) gave higher accuracy than \"normalize\"(accuracy around 40%) (data not shown)."
   ]
  },
  {
   "cell_type": "markdown",
   "metadata": {},
   "source": [
    "### 2.1 Linear kernel: k(x, x’) = (x<sup>T</sup>x’), whose model is simply f(x) = (w<sup>T</sup>x+b);\n"
   ]
  },
  {
   "cell_type": "markdown",
   "metadata": {},
   "source": [
    "1. Run information \n",
    "   * Scheme:       weka.classifiers.functions.SMO -C 1.0 -L 0.001 -P 1.0E-12 -N 2 -V -1 -W 1 -K \"weka.classifiers.functions.supportVector.PolyKernel -E 1.0 -L -C 250007\" -calibrator\n",
    "   * \"weka.classifiers.functions.Logistic -R 1.0E-8 -M -1 -num-decimal-places 4\"\n",
    "   * Test mode:    5-fold cross-validation\n",
    "\n",
    "2. Classifier model (full training set) \n",
    "    * SMO\n",
    "    * Kernel used: Linear Kernel with lower order: K(x,y) = < x,y > + 1\n",
    "    * Classifier for classes: 1, 2\n",
    "    \n",
    "3. Stratified cross-validation \n",
    "    * Correctly Classified Instances         170               46.7033 %\n",
    "    * Incorrectly Classified Instances       194               53.2967 %\n",
    "    * Kappa statistic                         -0.078 \n",
    "    * Mean absolute error                      0.533 \n",
    "    * Root mean squared error                  0.73  \n",
    "    * Relative absolute error                106.7054 %\n",
    "    * Root relative squared error            146.0837 %"
   ]
  },
  {
   "cell_type": "markdown",
   "metadata": {},
   "source": [
    "### 2.2 Homogeneous quadratic kernel: k(x, x’) = (x<sup>T</sup>x’)<sup>2</sup>\n",
    "1. Run information\n",
    "   * Scheme:       weka.classifiers.functions.SMO -C 1.0 -L 0.001 -P 1.0E-12 -N 2 -V -1 -W 1 -K \"weka.classifiers.functions.supportVector.PolyKernel -E 2.0 -C 250007\" -calibrator\n",
    "   * \"weka.classifiers.functions.Logistic -R 1.0E-8 -M -1 -num-decimal-places 4\"\n",
    "   * Test mode:    5-fold cross-validation\n",
    "2. Classifier model (full training set) \n",
    "    * SMO\n",
    "    * Kernel used: Poly Kernel: K(x,y) = < x,y >^2.0\n",
    "    * Classifier for classes: 1, 2\n",
    "3. Stratified cross-validation \n",
    "   * Correctly Classified Instances         225               61.8132 %\n",
    "    * Incorrectly Classified Instances       139               38.1868 %\n",
    "    * Kappa statistic                          0.2308\n",
    "    * Mean absolute error                      0.3819\n",
    "    * Root mean squared error                  0.618 \n",
    "    * Relative absolute error                 76.4539 %\n",
    "    * Root relative squared error            123.654  %"
   ]
  },
  {
   "cell_type": "markdown",
   "metadata": {},
   "source": [
    "### 2.3 Inhomogeneous quadratic kernel: k(x, x’) = (x<sup>T</sup>x’+1)<sup>2</sup>.\n",
    "1. Run information \n",
    "    * Scheme:       weka.classifiers.functions.SMO -C 1.0 -L 0.001 -P 1.0E-12 -N 2 -V -1 -W 1 -K \"weka.classifiers.functions.supportVector.PolyKernel -E 2.0 -L -C 250007\" -calibrator \n",
    "    * \"weka.classifiers.functions.Logistic -R 1.0E-8 -M -1 -num-decimal-places 4\"\n",
    "    * Test mode:    5-fold cross-validation\n",
    "\n",
    "2. Classifier model (full training set) \n",
    "    * SMO\n",
    "\n",
    "    * Kernel used: Poly Kernel with lower order: K(x,y) = (< x,y > + 1)^2.0\n",
    "\n",
    "    * Classifier for classes: 1, 2\n",
    "3. Stratified cross-validation\n",
    "    * Correctly Classified Instances         234               64.2857 %\n",
    "    * Incorrectly Classified Instances       130               35.7143 %\n",
    "    * Kappa statistic                          0.2805\n",
    "    * Mean absolute error                      0.3571\n",
    "    * Root mean squared error                  0.5976\n",
    "    * Relative absolute error                 71.5036 %\n",
    "    * Root relative squared error            119.5839 %"
   ]
  },
  {
   "cell_type": "markdown",
   "metadata": {},
   "source": [
    "### 2.4 Given an SVM model f(x) = (w<sup>T</sup>v+b), i.e., w and b are given, what do the values in vector w tell us about individual dimensions (features)? Hint: how can we compare the importance of two features? \n",
    "\n"
   ]
  },
  {
   "cell_type": "markdown",
   "metadata": {},
   "source": [
    "After fitting SVM model, each feature will be assigned a weight value indicating its importance. The absolute value of the weight indicates how important the feature is, i.e., the higher the absolute the value of the weight, the more important the feature is."
   ]
  },
  {
   "cell_type": "code",
   "execution_count": 315,
   "metadata": {
    "collapsed": true
   },
   "outputs": [],
   "source": [
    "# This is the function to parse weights after fitting SVM linear kernel\n",
    "# input: weka generated frequence files\n",
    "# output: dictionary mapping each feature to its weight\n",
    "import math\n",
    "def getWeights(filename):\n",
    "    weights = {}\n",
    "    with open(filename) as f:\n",
    "        lines = f.readlines()\n",
    "    for line in lines[:-1]:\n",
    "        feature = line.strip().split()[4]\n",
    "        # take absolute value of the weights\n",
    "        weight = abs(float(line.strip().split()[1]))\n",
    "        weights[feature] = weight\n",
    "    return weights"
   ]
  },
  {
   "cell_type": "code",
   "execution_count": 316,
   "metadata": {
    "collapsed": false
   },
   "outputs": [
    {
     "data": {
      "text/plain": [
       "[('GI_15967158-A', 0.8766),\n",
       " ('GI_19923365-S', 0.7224),\n",
       " ('GI_13375757-S', 0.6191),\n",
       " ('GI_20070278-S', 0.594),\n",
       " ('GI_10835229-S', 0.5828),\n",
       " ('GI_16936521-S', 0.5806),\n",
       " ('GI_14249315-S', 0.5698),\n",
       " ('GI_16306593-I', 0.5566),\n",
       " ('GI_14589875-A', 0.5529),\n",
       " ('GI_16506819-S', 0.5498),\n",
       " ('GI_21264595-A', 0.5493),\n",
       " ('GI_10835100-S', 0.5475),\n",
       " ('GI_13430867-S', 0.5243),\n",
       " ('GI_16507197-S', 0.5241),\n",
       " ('GI_11968050-S', 0.5237)]"
      ]
     },
     "execution_count": 316,
     "metadata": {},
     "output_type": "execute_result"
    }
   ],
   "source": [
    "weights = getWeights(\"linearSVM\")\n",
    "sorted_weights = sorted(weights.items(), key=operator.itemgetter(1), reverse=True)\n",
    "sorted_weights[0:15]"
   ]
  },
  {
   "cell_type": "markdown",
   "metadata": {},
   "source": [
    "### 2.5\tWith the linear kernel, how should we select the top features? Your answer gives rise to a feature selection method. Now choose the top 100 genes using your method and compare them with the result from P2(4) above.\n",
    "\n"
   ]
  },
  {
   "cell_type": "markdown",
   "metadata": {},
   "source": [
    "We can choose the top 100 genes that have the highest 100 absolute weight values, which is shown in the following code block. "
   ]
  },
  {
   "cell_type": "code",
   "execution_count": 317,
   "metadata": {
    "collapsed": false
   },
   "outputs": [
    {
     "data": {
      "text/plain": [
       "[('GI_15967158-A', 0.8766),\n",
       " ('GI_19923365-S', 0.7224),\n",
       " ('GI_13375757-S', 0.6191),\n",
       " ('GI_20070278-S', 0.594),\n",
       " ('GI_10835229-S', 0.5828),\n",
       " ('GI_16936521-S', 0.5806),\n",
       " ('GI_14249315-S', 0.5698),\n",
       " ('GI_16306593-I', 0.5566),\n",
       " ('GI_14589875-A', 0.5529),\n",
       " ('GI_16506819-S', 0.5498),\n",
       " ('GI_21264595-A', 0.5493),\n",
       " ('GI_10835100-S', 0.5475),\n",
       " ('GI_13430867-S', 0.5243),\n",
       " ('GI_16507197-S', 0.5241),\n",
       " ('GI_11968050-S', 0.5237),\n",
       " ('GI_14702170-I', 0.5219),\n",
       " ('GI_14249449-S', 0.5125),\n",
       " ('GI_13375845-S', 0.5079),\n",
       " ('GI_20270388-S', 0.503),\n",
       " ('GI_19557644-S', 0.4923),\n",
       " ('GI_11140810-S', 0.4921),\n",
       " ('GI_21071059-S', 0.4893),\n",
       " ('GI_11119413-S', 0.4866),\n",
       " ('GI_11184225-S', 0.4848),\n",
       " ('GI_16950596-A', 0.4737),\n",
       " ('GI_18640747-S', 0.471),\n",
       " ('GI_14150057-S', 0.47),\n",
       " ('GI_16933541-I', 0.4634),\n",
       " ('GI_16905502-A', 0.4627),\n",
       " ('GI_14249125-S', 0.4595),\n",
       " ('GI_16936531-I', 0.4565),\n",
       " ('GI_13376229-S', 0.4549),\n",
       " ('GI_14277673-S', 0.4542),\n",
       " ('GI_14141173-S', 0.4539),\n",
       " ('GI_20127606-S', 0.4532),\n",
       " ('GI_13514821-A', 0.4529),\n",
       " ('GI_13129105-S', 0.4527),\n",
       " ('GI_16933539-S', 0.4475),\n",
       " ('GI_19923361-S', 0.4465),\n",
       " ('GI_14149858-S', 0.4451),\n",
       " ('GI_20149672-A', 0.4415),\n",
       " ('GI_19882236-S', 0.4407),\n",
       " ('GI_17978499-A', 0.4387),\n",
       " ('GI_19557683-S', 0.4376),\n",
       " ('GI_13259500-A', 0.4365),\n",
       " ('GI_19263344-S', 0.4354),\n",
       " ('GI_15812197-S', 0.4342),\n",
       " ('GI_14670393-I', 0.4296),\n",
       " ('GI_17017983-S', 0.4282),\n",
       " ('GI_13518031-S', 0.4261),\n",
       " ('GI_13375886-S', 0.4254),\n",
       " ('GI_20143951-A', 0.4243),\n",
       " ('GI_10092596-S', 0.4218),\n",
       " ('GI_19923785-S', 0.417),\n",
       " ('GI_13129023-S', 0.416),\n",
       " ('GI_14602451-S', 0.414),\n",
       " ('GI_20544178-S', 0.4079),\n",
       " ('GI_10938020-S', 0.4077),\n",
       " ('GI_10835046-S', 0.4042),\n",
       " ('GI_11037060-A', 0.4042),\n",
       " ('GI_14150040-S', 0.4035),\n",
       " ('GI_18379326-S', 0.3987),\n",
       " ('GI_13376370-S', 0.3953),\n",
       " ('GI_14149929-S', 0.3952),\n",
       " ('GI_14591930-S', 0.3941),\n",
       " ('GI_13129067-S', 0.394),\n",
       " ('GI_17921988-S', 0.394),\n",
       " ('GI_17975773-A', 0.3917),\n",
       " ('GI_13124772-S', 0.3905),\n",
       " ('GI_12545386-S', 0.3873),\n",
       " ('GI_13430855-S', 0.3855),\n",
       " ('GI_16418400-S', 0.3847),\n",
       " ('GI_18765747-A', 0.3829),\n",
       " ('GI_18426889-S', 0.3825),\n",
       " ('GI_19923826-S', 0.3818),\n",
       " ('GI_20127496-S', 0.3785),\n",
       " ('GI_19920316-S', 0.3772),\n",
       " ('GI_16950627-I', 0.3751),\n",
       " ('GI_20127527-S', 0.375),\n",
       " ('GI_20127554-S', 0.3731),\n",
       " ('GI_19743807-S', 0.3719),\n",
       " ('GI_17999533-S', 0.3694),\n",
       " ('GI_13899296-S', 0.3694),\n",
       " ('GI_18104987-S', 0.367),\n",
       " ('GI_14249307-S', 0.3669),\n",
       " ('GI_18641372-S', 0.3643),\n",
       " ('GI_19913395-I', 0.3636),\n",
       " ('GI_21040361-A', 0.363),\n",
       " ('GI_18375506-S', 0.3626),\n",
       " ('GI_13699837-S', 0.3624),\n",
       " ('GI_13376815-S', 0.3605),\n",
       " ('GI_13129013-S', 0.3597),\n",
       " ('GI_13129115-S', 0.3568),\n",
       " ('GI_14150046-S', 0.356),\n",
       " ('GI_14149608-S', 0.3559),\n",
       " ('GI_19913391-A', 0.3555),\n",
       " ('GI_16507961-I', 0.3535),\n",
       " ('GI_20149650-S', 0.3528),\n",
       " ('GI_20149632-S', 0.3521),\n",
       " ('GI_18641351-S', 0.3519)]"
      ]
     },
     "execution_count": 317,
     "metadata": {},
     "output_type": "execute_result"
    }
   ],
   "source": [
    "top100_genes_based_on_weights = sorted_weights[0:100]\n",
    "top100_genes_based_on_weights"
   ]
  },
  {
   "cell_type": "code",
   "execution_count": 318,
   "metadata": {
    "collapsed": false
   },
   "outputs": [],
   "source": [
    "# This is the function to parse the feature frequency from the random forest model\n",
    "# input: weka generated frequence files using random forest model\n",
    "# output: dictionary mapping each feature to its frequency\n",
    "import re\n",
    "import operator\n",
    "def getTuple(filename):\n",
    "    frequencies = []\n",
    "    with open(filename) as f:\n",
    "        lines = f.readlines()\n",
    "    r = re.compile(\".*?\\((.*?)\\)\")\n",
    "    for line in lines:\n",
    "        freq = int(r.match(line).group(1))\n",
    "        feature = line.strip().split(')')[1]\n",
    "        frequencies.append((feature, freq) )\n",
    "    return frequencies"
   ]
  },
  {
   "cell_type": "code",
   "execution_count": 319,
   "metadata": {
    "collapsed": false
   },
   "outputs": [],
   "source": [
    "#random forest genes frequencies with 900 features and 70% instance and 500 trees\n",
    "frequencies_based_on_forest = getTuple('900f')"
   ]
  },
  {
   "cell_type": "code",
   "execution_count": 320,
   "metadata": {
    "collapsed": false
   },
   "outputs": [
    {
     "data": {
      "text/plain": [
       "100"
      ]
     },
     "execution_count": 320,
     "metadata": {},
     "output_type": "execute_result"
    }
   ],
   "source": [
    "numberOfDifference(top100_based_on_forest, top100_genes_based_on_weights,100)"
   ]
  },
  {
   "cell_type": "markdown",
   "metadata": {},
   "source": [
    "The top 100 genes selected by feature frequency of random forest and weight information of SVM are totally different...\n",
    "\n",
    "There are two factors we could consider here. Firstly, SVM with linear kernel model gave us only 46.7% accuracy, meaning the model performed pretty bad on our dataset, which could lead to bad feature selection. Secondly, from part1, we discussed that it is not accurate to select top 100 genes only based on frequencies. A much better way is to consider the \"feature importance\", which are usually given as max information gain/entropy parameters in the model."
   ]
  },
  {
   "cell_type": "markdown",
   "metadata": {
    "collapsed": true
   },
   "source": [
    "### 2.6\tWhich of the two quadratic kernels is better for feature selection and why?\n",
    "\n",
    "From lecture slides, we know that\n",
    "\n",
    "Homogenous kernel: $\\varphi$(x) = (x<sub>1</sub><sup>2</sup> , x<sub>2</sub><sup>2</sup> , $\\sqrt{2}$x<sub>1</sub>x<sub>2</sub>)\n",
    "\n",
    "Inhomogenous kernel: $\\varphi$(x) = (x<sub>1</sub><sup>2</sup> , x<sub>2</sub><sup>2</sup> , $\\sqrt{2}$x<sub>1</sub>x<sub>2</sub> ,$\\sqrt{2}$x<sub>1</sub>, $\\sqrt{2}$x<sub>2</sub>)\n",
    "\n",
    "Here we could see that inhomogenous kernel has two more lower terms compared with homogenous kernel. Therefore, theorectically, its performance should be better. \n",
    "\n",
    "This is consistent with our experimental analysis, where the inhomogenous kernel showed an accuracy of 64.3% whereas homogenous kernel showed an accuracy of 61.8%. Since inhomogenous kernel has better accuracy, it would be a better choice for feature selection."
   ]
  },
  {
   "cell_type": "markdown",
   "metadata": {
    "collapsed": true
   },
   "source": [
    "### 2.7 With the two quadratic kernels, can we find correlated features (genes)?  Why? \n"
   ]
  },
  {
   "cell_type": "markdown",
   "metadata": {
    "collapsed": true
   },
   "source": [
    "Yes, we could find the correlated features.\n",
    "\n",
    "In both kernels, the number of support vectors is 319. The output is a weighed combination of kernel evaluations involving the support vectors (shown in <>) and a test point X. In order to find the correlated features, we need to take a look at the weights for $\\sqrt{2}$x<sub>1</sub>x<sub>2</sub> term. We will use a homogenous kernel for example.\n",
    "\n",
    "Consider a small example where we have 3 features(genes) {x1,x2,x3} for each data point; after mapping to feature space, for each data point we will have\n",
    "\n",
    "< x<sub>1</sub><sup>2</sup> , x<sub>2</sub><sup>2</sup> , x<sub>3</sub><sup>2</sup> , $\\sqrt{2}$x<sub>1</sub>x<sub>2</sub>, $\\sqrt{2}$x<sub>1</sub>x<sub>3</sub>, $\\sqrt{2}$x<sub>2</sub>x<sub>3</sub>  >\n",
    "\n",
    "Now each data point wil have six features.\n",
    "\n",
    "\n",
    "After calculation, we will get weight factors for x<sub>1</sub>x<sub>2</sub>, x<sub>1</sub>x<sub>3</sub>, x<sub>2</sub>x<sub>3</sub> terms seperately. Suppose they are w1, w2, w3 seperately. \n",
    "\n",
    "To see if x1 and x2 correlated, we need to see if w1/(w1 + w2 + w3) large enough.\n",
    "\n",
    "To see if x2 and x3 correlated, we need to see if w3/(w1 + w2 + w3) large enough.\n",
    "\n",
    "To see if x1 and x3 correlated, we need to see if w2/(w1 + w2 + w3) large enough."
   ]
  },
  {
   "cell_type": "code",
   "execution_count": null,
   "metadata": {
    "collapsed": true
   },
   "outputs": [],
   "source": []
  }
 ],
 "metadata": {
  "anaconda-cloud": {},
  "kernelspec": {
   "display_name": "Python [Root]",
   "language": "python",
   "name": "Python [Root]"
  },
  "language_info": {
   "codemirror_mode": {
    "name": "ipython",
    "version": 2
   },
   "file_extension": ".py",
   "mimetype": "text/x-python",
   "name": "python",
   "nbconvert_exporter": "python",
   "pygments_lexer": "ipython2",
   "version": "2.7.11"
  }
 },
 "nbformat": 4,
 "nbformat_minor": 0
}
