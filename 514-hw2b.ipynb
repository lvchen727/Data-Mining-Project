{
 "cells": [
  {
   "cell_type": "markdown",
   "metadata": {
    "collapsed": false
   },
   "source": [
    "# P3: Association Rule (AR) mining for redundant feature identification applied to complex disease study (20pt)\n",
    "\n",
    "The problem: We are going to use the AR method to find possible gene regulation in Alzheimer’s disease using the AD data you already have (from HW1). The purpose here is to show you how a difficult biology problem can be approached with a datamining technique. \n",
    "In part 1, you performed feature selection on the AD data using random forest and SVM. Section of features is just one way to get rid of features that are not important to the problem at hand.  Another way is to explicitly identify and remove redundant features. Now, using the results of ARs that you learned from the data, develop a method \n"
   ]
  },
  {
   "cell_type": "markdown",
   "metadata": {},
   "source": [
    "# 0. Data preprocessing"
   ]
  },
  {
   "cell_type": "code",
   "execution_count": 70,
   "metadata": {
    "collapsed": false
   },
   "outputs": [
    {
     "name": "stdout",
     "output_type": "stream",
     "text": [
      " Case.gex has 176 data points with 8560 variables each.\n"
     ]
    }
   ],
   "source": [
    "# Import libraries necessary for this project\n",
    "import numpy as np\n",
    "import pandas as pd\n",
    "from sklearn.cross_validation import ShuffleSplit\n",
    "import matplotlib.pyplot as plt\n",
    "# Pretty display for notebooks\n",
    "%matplotlib inline\n",
    "# Load the positive data\n",
    "case = pd.read_csv('AD/case.gex',sep=\"\\t\", index_col=0)\n",
    "case = case.T\n",
    "#We are going to look at only the first 1800 genes\n",
    "case = case.iloc[:,1:]\n",
    "# Data Profile\n",
    "print \" Case.gex has {} data points with {} variables each.\".format(*case.shape)"
   ]
  },
  {
   "cell_type": "code",
   "execution_count": 72,
   "metadata": {
    "collapsed": false
   },
   "outputs": [
    {
     "name": "stdout",
     "output_type": "stream",
     "text": [
      "Ctrl.gex has 188 data points with 8560 variables each.\n"
     ]
    }
   ],
   "source": [
    "# Load the negative data \n",
    "# ctrl = pd.read_csv('AD/ctrl.gex',sep=\" \")\n",
    "ctrl = pd.read_table('AD/ctrl.gex', delim_whitespace=True,index_col= 0)\n",
    "ctrl = ctrl.T\n",
    "#We are going to look at only the first 1800 genes\n",
    "ctrl = ctrl.iloc[:,1:]\n",
    "print \"Ctrl.gex has {} data points with {} variables each.\".format(*ctrl.shape)"
   ]
  },
  {
   "cell_type": "code",
   "execution_count": 73,
   "metadata": {
    "collapsed": true
   },
   "outputs": [],
   "source": [
    "# fill NA with 0\n",
    "case = case.fillna(0)\n",
    "case = case.astype(float)\n",
    "ctrl = ctrl.fillna(0).replace('NA.54E-18', 0)\n",
    "ctrl = ctrl.astype(float)"
   ]
  },
  {
   "cell_type": "code",
   "execution_count": 74,
   "metadata": {
    "collapsed": false
   },
   "outputs": [],
   "source": [
    "# the function turn the gene expression matrix of the given data into a new 1/0 matrix, \n",
    "#where (i, j) = 1 if the i-th person has the expression of the j-th gene (item) among the \n",
    "#top 10% highest expression levels, or 0 otherwise. \n",
    "def convert(array):\n",
    "    # top 10% index\n",
    "    n = (int)(len(array) * 0.1) - 1\n",
    "    nth_num = array[np.argsort(array)[::-1]][n]\n",
    "    new_array = [(int)(num >= nth_num) for num in array]     \n",
    "    return np.array(new_array)"
   ]
  },
  {
   "cell_type": "code",
   "execution_count": 75,
   "metadata": {
    "collapsed": false
   },
   "outputs": [
    {
     "data": {
      "text/html": [
       "<div>\n",
       "<table border=\"1\" class=\"dataframe\">\n",
       "  <thead>\n",
       "    <tr style=\"text-align: right;\">\n",
       "      <th></th>\n",
       "      <th>GI_10047091-S</th>\n",
       "      <th>GI_10047093-S</th>\n",
       "      <th>GI_10047103-S</th>\n",
       "      <th>GI_10047133-A</th>\n",
       "      <th>GI_10092596-S</th>\n",
       "      <th>GI_10092600-S</th>\n",
       "      <th>GI_10092616-S</th>\n",
       "      <th>GI_10092618-S</th>\n",
       "      <th>GI_10092672-S</th>\n",
       "      <th>GI_10190705-S</th>\n",
       "      <th>...</th>\n",
       "      <th>GI_9257221-S</th>\n",
       "      <th>GI_9257224-S</th>\n",
       "      <th>GI_9257226-S</th>\n",
       "      <th>GI_9257237-S</th>\n",
       "      <th>GI_9257239-A</th>\n",
       "      <th>GI_9257241-S</th>\n",
       "      <th>GI_9257243-S</th>\n",
       "      <th>GI_9257244-A</th>\n",
       "      <th>GI_9257245-I</th>\n",
       "      <th>GI_9257247-S</th>\n",
       "    </tr>\n",
       "  </thead>\n",
       "  <tbody>\n",
       "    <tr>\n",
       "      <th>0</th>\n",
       "      <td>0</td>\n",
       "      <td>1</td>\n",
       "      <td>0</td>\n",
       "      <td>0</td>\n",
       "      <td>0</td>\n",
       "      <td>0</td>\n",
       "      <td>0</td>\n",
       "      <td>0</td>\n",
       "      <td>0</td>\n",
       "      <td>0</td>\n",
       "      <td>...</td>\n",
       "      <td>0</td>\n",
       "      <td>0</td>\n",
       "      <td>0</td>\n",
       "      <td>0</td>\n",
       "      <td>0</td>\n",
       "      <td>1</td>\n",
       "      <td>0</td>\n",
       "      <td>0</td>\n",
       "      <td>0</td>\n",
       "      <td>0</td>\n",
       "    </tr>\n",
       "    <tr>\n",
       "      <th>1</th>\n",
       "      <td>0</td>\n",
       "      <td>0</td>\n",
       "      <td>0</td>\n",
       "      <td>0</td>\n",
       "      <td>1</td>\n",
       "      <td>0</td>\n",
       "      <td>0</td>\n",
       "      <td>0</td>\n",
       "      <td>0</td>\n",
       "      <td>0</td>\n",
       "      <td>...</td>\n",
       "      <td>0</td>\n",
       "      <td>0</td>\n",
       "      <td>0</td>\n",
       "      <td>0</td>\n",
       "      <td>0</td>\n",
       "      <td>0</td>\n",
       "      <td>0</td>\n",
       "      <td>0</td>\n",
       "      <td>0</td>\n",
       "      <td>0</td>\n",
       "    </tr>\n",
       "    <tr>\n",
       "      <th>2</th>\n",
       "      <td>0</td>\n",
       "      <td>0</td>\n",
       "      <td>0</td>\n",
       "      <td>0</td>\n",
       "      <td>0</td>\n",
       "      <td>0</td>\n",
       "      <td>0</td>\n",
       "      <td>0</td>\n",
       "      <td>0</td>\n",
       "      <td>0</td>\n",
       "      <td>...</td>\n",
       "      <td>0</td>\n",
       "      <td>0</td>\n",
       "      <td>0</td>\n",
       "      <td>0</td>\n",
       "      <td>0</td>\n",
       "      <td>0</td>\n",
       "      <td>0</td>\n",
       "      <td>0</td>\n",
       "      <td>0</td>\n",
       "      <td>0</td>\n",
       "    </tr>\n",
       "    <tr>\n",
       "      <th>3</th>\n",
       "      <td>0</td>\n",
       "      <td>0</td>\n",
       "      <td>0</td>\n",
       "      <td>0</td>\n",
       "      <td>0</td>\n",
       "      <td>0</td>\n",
       "      <td>0</td>\n",
       "      <td>0</td>\n",
       "      <td>0</td>\n",
       "      <td>0</td>\n",
       "      <td>...</td>\n",
       "      <td>0</td>\n",
       "      <td>0</td>\n",
       "      <td>0</td>\n",
       "      <td>0</td>\n",
       "      <td>0</td>\n",
       "      <td>0</td>\n",
       "      <td>0</td>\n",
       "      <td>0</td>\n",
       "      <td>0</td>\n",
       "      <td>0</td>\n",
       "    </tr>\n",
       "    <tr>\n",
       "      <th>4</th>\n",
       "      <td>0</td>\n",
       "      <td>0</td>\n",
       "      <td>0</td>\n",
       "      <td>0</td>\n",
       "      <td>0</td>\n",
       "      <td>0</td>\n",
       "      <td>0</td>\n",
       "      <td>0</td>\n",
       "      <td>0</td>\n",
       "      <td>0</td>\n",
       "      <td>...</td>\n",
       "      <td>0</td>\n",
       "      <td>0</td>\n",
       "      <td>0</td>\n",
       "      <td>0</td>\n",
       "      <td>0</td>\n",
       "      <td>0</td>\n",
       "      <td>0</td>\n",
       "      <td>0</td>\n",
       "      <td>0</td>\n",
       "      <td>0</td>\n",
       "    </tr>\n",
       "  </tbody>\n",
       "</table>\n",
       "<p>5 rows × 8560 columns</p>\n",
       "</div>"
      ],
      "text/plain": [
       "   GI_10047091-S  GI_10047093-S  GI_10047103-S  GI_10047133-A  GI_10092596-S  \\\n",
       "0              0              1              0              0              0   \n",
       "1              0              0              0              0              1   \n",
       "2              0              0              0              0              0   \n",
       "3              0              0              0              0              0   \n",
       "4              0              0              0              0              0   \n",
       "\n",
       "   GI_10092600-S  GI_10092616-S  GI_10092618-S  GI_10092672-S  GI_10190705-S  \\\n",
       "0              0              0              0              0              0   \n",
       "1              0              0              0              0              0   \n",
       "2              0              0              0              0              0   \n",
       "3              0              0              0              0              0   \n",
       "4              0              0              0              0              0   \n",
       "\n",
       "       ...       GI_9257221-S  GI_9257224-S  GI_9257226-S  GI_9257237-S  \\\n",
       "0      ...                  0             0             0             0   \n",
       "1      ...                  0             0             0             0   \n",
       "2      ...                  0             0             0             0   \n",
       "3      ...                  0             0             0             0   \n",
       "4      ...                  0             0             0             0   \n",
       "\n",
       "   GI_9257239-A  GI_9257241-S  GI_9257243-S  GI_9257244-A  GI_9257245-I  \\\n",
       "0             0             1             0             0             0   \n",
       "1             0             0             0             0             0   \n",
       "2             0             0             0             0             0   \n",
       "3             0             0             0             0             0   \n",
       "4             0             0             0             0             0   \n",
       "\n",
       "   GI_9257247-S  \n",
       "0             0  \n",
       "1             0  \n",
       "2             0  \n",
       "3             0  \n",
       "4             0  \n",
       "\n",
       "[5 rows x 8560 columns]"
      ]
     },
     "execution_count": 75,
     "metadata": {},
     "output_type": "execute_result"
    }
   ],
   "source": [
    "new_ctrl = pd.DataFrame()\n",
    "for x in ctrl.columns:\n",
    "    new_ctrl[x] = convert(ctrl[x])\n",
    "new_ctrl.head()"
   ]
  },
  {
   "cell_type": "code",
   "execution_count": 76,
   "metadata": {
    "collapsed": false
   },
   "outputs": [
    {
     "name": "stdout",
     "output_type": "stream",
     "text": [
      " new_ctrl data has 188 data points with 8560 variables each.\n"
     ]
    }
   ],
   "source": [
    "new_ctrl.to_csv(\"newctrl.csv\")\n",
    "print \" new_ctrl data has {} data points with {} variables each.\".format(*new_ctrl.shape)"
   ]
  },
  {
   "cell_type": "code",
   "execution_count": 77,
   "metadata": {
    "collapsed": false
   },
   "outputs": [],
   "source": [
    "confirm = pd.read_csv('ctrl_10percent_confirm.csv')"
   ]
  },
  {
   "cell_type": "code",
   "execution_count": 78,
   "metadata": {
    "collapsed": false
   },
   "outputs": [
    {
     "data": {
      "text/html": [
       "<div>\n",
       "<table border=\"1\" class=\"dataframe\">\n",
       "  <thead>\n",
       "    <tr style=\"text-align: right;\">\n",
       "      <th></th>\n",
       "      <th>GI_10047091-S</th>\n",
       "      <th>GI_10047093-S</th>\n",
       "      <th>GI_10047103-S</th>\n",
       "      <th>GI_10047133-A</th>\n",
       "      <th>GI_10092596-S</th>\n",
       "      <th>GI_10092600-S</th>\n",
       "      <th>GI_10092616-S</th>\n",
       "      <th>GI_10092618-S</th>\n",
       "      <th>GI_10092672-S</th>\n",
       "      <th>GI_10190705-S</th>\n",
       "      <th>Unnamed: 10</th>\n",
       "      <th>Total</th>\n",
       "    </tr>\n",
       "  </thead>\n",
       "  <tbody>\n",
       "    <tr>\n",
       "      <th>0</th>\n",
       "      <td>0.0</td>\n",
       "      <td>1.0</td>\n",
       "      <td>0.0</td>\n",
       "      <td>0.0</td>\n",
       "      <td>0.0</td>\n",
       "      <td>0.0</td>\n",
       "      <td>0.0</td>\n",
       "      <td>0.0</td>\n",
       "      <td>0.0</td>\n",
       "      <td>0.0</td>\n",
       "      <td>NaN</td>\n",
       "      <td>914</td>\n",
       "    </tr>\n",
       "    <tr>\n",
       "      <th>1</th>\n",
       "      <td>0.0</td>\n",
       "      <td>0.0</td>\n",
       "      <td>0.0</td>\n",
       "      <td>0.0</td>\n",
       "      <td>1.0</td>\n",
       "      <td>0.0</td>\n",
       "      <td>0.0</td>\n",
       "      <td>0.0</td>\n",
       "      <td>0.0</td>\n",
       "      <td>0.0</td>\n",
       "      <td>NaN</td>\n",
       "      <td>470</td>\n",
       "    </tr>\n",
       "    <tr>\n",
       "      <th>2</th>\n",
       "      <td>0.0</td>\n",
       "      <td>0.0</td>\n",
       "      <td>0.0</td>\n",
       "      <td>0.0</td>\n",
       "      <td>0.0</td>\n",
       "      <td>0.0</td>\n",
       "      <td>0.0</td>\n",
       "      <td>0.0</td>\n",
       "      <td>0.0</td>\n",
       "      <td>0.0</td>\n",
       "      <td>NaN</td>\n",
       "      <td>205</td>\n",
       "    </tr>\n",
       "    <tr>\n",
       "      <th>3</th>\n",
       "      <td>0.0</td>\n",
       "      <td>0.0</td>\n",
       "      <td>0.0</td>\n",
       "      <td>0.0</td>\n",
       "      <td>0.0</td>\n",
       "      <td>0.0</td>\n",
       "      <td>0.0</td>\n",
       "      <td>0.0</td>\n",
       "      <td>0.0</td>\n",
       "      <td>0.0</td>\n",
       "      <td>NaN</td>\n",
       "      <td>230</td>\n",
       "    </tr>\n",
       "    <tr>\n",
       "      <th>4</th>\n",
       "      <td>0.0</td>\n",
       "      <td>0.0</td>\n",
       "      <td>0.0</td>\n",
       "      <td>0.0</td>\n",
       "      <td>0.0</td>\n",
       "      <td>0.0</td>\n",
       "      <td>0.0</td>\n",
       "      <td>0.0</td>\n",
       "      <td>0.0</td>\n",
       "      <td>0.0</td>\n",
       "      <td>NaN</td>\n",
       "      <td>648</td>\n",
       "    </tr>\n",
       "  </tbody>\n",
       "</table>\n",
       "</div>"
      ],
      "text/plain": [
       "   GI_10047091-S  GI_10047093-S  GI_10047103-S  GI_10047133-A  GI_10092596-S  \\\n",
       "0            0.0            1.0            0.0            0.0            0.0   \n",
       "1            0.0            0.0            0.0            0.0            1.0   \n",
       "2            0.0            0.0            0.0            0.0            0.0   \n",
       "3            0.0            0.0            0.0            0.0            0.0   \n",
       "4            0.0            0.0            0.0            0.0            0.0   \n",
       "\n",
       "   GI_10092600-S  GI_10092616-S  GI_10092618-S  GI_10092672-S  GI_10190705-S  \\\n",
       "0            0.0            0.0            0.0            0.0            0.0   \n",
       "1            0.0            0.0            0.0            0.0            0.0   \n",
       "2            0.0            0.0            0.0            0.0            0.0   \n",
       "3            0.0            0.0            0.0            0.0            0.0   \n",
       "4            0.0            0.0            0.0            0.0            0.0   \n",
       "\n",
       "   Unnamed: 10  Total  \n",
       "0          NaN    914  \n",
       "1          NaN    470  \n",
       "2          NaN    205  \n",
       "3          NaN    230  \n",
       "4          NaN    648  "
      ]
     },
     "execution_count": 78,
     "metadata": {},
     "output_type": "execute_result"
    }
   ],
   "source": [
    "confirm.head()"
   ]
  },
  {
   "cell_type": "code",
   "execution_count": 79,
   "metadata": {
    "collapsed": false
   },
   "outputs": [
    {
     "data": {
      "text/plain": [
       "0     914\n",
       "1     470\n",
       "2     205\n",
       "3     230\n",
       "4     648\n",
       "5     274\n",
       "6     791\n",
       "7    1353\n",
       "8     692\n",
       "9     889\n",
       "Name: Total, dtype: int64"
      ]
     },
     "execution_count": 79,
     "metadata": {},
     "output_type": "execute_result"
    }
   ],
   "source": [
    "# 10% data provided by professor\n",
    "total = confirm[\"Total\"][:-2]\n",
    "total[:10]"
   ]
  },
  {
   "cell_type": "code",
   "execution_count": 80,
   "metadata": {
    "collapsed": false,
    "scrolled": true
   },
   "outputs": [
    {
     "data": {
      "text/plain": [
       "0     914\n",
       "1     470\n",
       "2     205\n",
       "3     230\n",
       "4     648\n",
       "5     274\n",
       "6     791\n",
       "7    1353\n",
       "8     692\n",
       "9     889\n",
       "dtype: int64"
      ]
     },
     "execution_count": 80,
     "metadata": {},
     "output_type": "execute_result"
    }
   ],
   "source": [
    "# my preprocessed data\n",
    "mytotal = new_ctrl.sum(axis=1)\n",
    "mytotal[:10]"
   ]
  },
  {
   "cell_type": "code",
   "execution_count": 81,
   "metadata": {
    "collapsed": false
   },
   "outputs": [
    {
     "data": {
      "text/plain": [
       "(188, 188)"
      ]
     },
     "execution_count": 81,
     "metadata": {},
     "output_type": "execute_result"
    }
   ],
   "source": [
    "len(mytotal), len(total)"
   ]
  },
  {
   "cell_type": "code",
   "execution_count": 82,
   "metadata": {
    "collapsed": false
   },
   "outputs": [],
   "source": [
    "for i in range(len(total)):\n",
    "    if total[i] != mytotal[i]:\n",
    "        # if my result is different from the provided file, print the index of the sample\n",
    "        print i, total[i], mytotal[i]"
   ]
  },
  {
   "cell_type": "markdown",
   "metadata": {},
   "source": [
    "**The above function checks that my data preprocessing result is exactly the same as the confirmation file provided.**"
   ]
  },
  {
   "cell_type": "code",
   "execution_count": 83,
   "metadata": {
    "collapsed": false
   },
   "outputs": [
    {
     "data": {
      "text/plain": [
       "154080"
      ]
     },
     "execution_count": 83,
     "metadata": {},
     "output_type": "execute_result"
    }
   ],
   "source": [
    "sum(new_ctrl.sum(axis=1))"
   ]
  },
  {
   "cell_type": "code",
   "execution_count": 84,
   "metadata": {
    "collapsed": false
   },
   "outputs": [
    {
     "data": {
      "text/html": [
       "<div>\n",
       "<table border=\"1\" class=\"dataframe\">\n",
       "  <thead>\n",
       "    <tr style=\"text-align: right;\">\n",
       "      <th></th>\n",
       "      <th>GI_10047091-S</th>\n",
       "      <th>GI_10047093-S</th>\n",
       "      <th>GI_10047103-S</th>\n",
       "      <th>GI_10047133-A</th>\n",
       "      <th>GI_10092596-S</th>\n",
       "      <th>GI_10092600-S</th>\n",
       "      <th>GI_10092616-S</th>\n",
       "      <th>GI_10092618-S</th>\n",
       "      <th>GI_10092672-S</th>\n",
       "      <th>GI_10190705-S</th>\n",
       "      <th>...</th>\n",
       "      <th>GI_9257221-S</th>\n",
       "      <th>GI_9257224-S</th>\n",
       "      <th>GI_9257226-S</th>\n",
       "      <th>GI_9257237-S</th>\n",
       "      <th>GI_9257239-A</th>\n",
       "      <th>GI_9257241-S</th>\n",
       "      <th>GI_9257243-S</th>\n",
       "      <th>GI_9257244-A</th>\n",
       "      <th>GI_9257245-I</th>\n",
       "      <th>GI_9257247-S</th>\n",
       "    </tr>\n",
       "  </thead>\n",
       "  <tbody>\n",
       "    <tr>\n",
       "      <th>0</th>\n",
       "      <td>0</td>\n",
       "      <td>0</td>\n",
       "      <td>0</td>\n",
       "      <td>0</td>\n",
       "      <td>0</td>\n",
       "      <td>0</td>\n",
       "      <td>0</td>\n",
       "      <td>0</td>\n",
       "      <td>0</td>\n",
       "      <td>0</td>\n",
       "      <td>...</td>\n",
       "      <td>0</td>\n",
       "      <td>0</td>\n",
       "      <td>0</td>\n",
       "      <td>0</td>\n",
       "      <td>0</td>\n",
       "      <td>0</td>\n",
       "      <td>0</td>\n",
       "      <td>0</td>\n",
       "      <td>0</td>\n",
       "      <td>0</td>\n",
       "    </tr>\n",
       "    <tr>\n",
       "      <th>1</th>\n",
       "      <td>0</td>\n",
       "      <td>0</td>\n",
       "      <td>0</td>\n",
       "      <td>0</td>\n",
       "      <td>0</td>\n",
       "      <td>0</td>\n",
       "      <td>0</td>\n",
       "      <td>1</td>\n",
       "      <td>0</td>\n",
       "      <td>0</td>\n",
       "      <td>...</td>\n",
       "      <td>1</td>\n",
       "      <td>1</td>\n",
       "      <td>0</td>\n",
       "      <td>0</td>\n",
       "      <td>0</td>\n",
       "      <td>0</td>\n",
       "      <td>0</td>\n",
       "      <td>0</td>\n",
       "      <td>0</td>\n",
       "      <td>0</td>\n",
       "    </tr>\n",
       "    <tr>\n",
       "      <th>2</th>\n",
       "      <td>1</td>\n",
       "      <td>1</td>\n",
       "      <td>0</td>\n",
       "      <td>0</td>\n",
       "      <td>0</td>\n",
       "      <td>0</td>\n",
       "      <td>0</td>\n",
       "      <td>0</td>\n",
       "      <td>1</td>\n",
       "      <td>0</td>\n",
       "      <td>...</td>\n",
       "      <td>0</td>\n",
       "      <td>0</td>\n",
       "      <td>0</td>\n",
       "      <td>0</td>\n",
       "      <td>1</td>\n",
       "      <td>0</td>\n",
       "      <td>0</td>\n",
       "      <td>0</td>\n",
       "      <td>0</td>\n",
       "      <td>0</td>\n",
       "    </tr>\n",
       "    <tr>\n",
       "      <th>3</th>\n",
       "      <td>0</td>\n",
       "      <td>0</td>\n",
       "      <td>0</td>\n",
       "      <td>0</td>\n",
       "      <td>1</td>\n",
       "      <td>0</td>\n",
       "      <td>0</td>\n",
       "      <td>0</td>\n",
       "      <td>0</td>\n",
       "      <td>0</td>\n",
       "      <td>...</td>\n",
       "      <td>0</td>\n",
       "      <td>0</td>\n",
       "      <td>0</td>\n",
       "      <td>0</td>\n",
       "      <td>0</td>\n",
       "      <td>0</td>\n",
       "      <td>0</td>\n",
       "      <td>0</td>\n",
       "      <td>0</td>\n",
       "      <td>0</td>\n",
       "    </tr>\n",
       "    <tr>\n",
       "      <th>4</th>\n",
       "      <td>0</td>\n",
       "      <td>0</td>\n",
       "      <td>0</td>\n",
       "      <td>0</td>\n",
       "      <td>0</td>\n",
       "      <td>1</td>\n",
       "      <td>0</td>\n",
       "      <td>0</td>\n",
       "      <td>0</td>\n",
       "      <td>1</td>\n",
       "      <td>...</td>\n",
       "      <td>0</td>\n",
       "      <td>1</td>\n",
       "      <td>1</td>\n",
       "      <td>0</td>\n",
       "      <td>0</td>\n",
       "      <td>0</td>\n",
       "      <td>0</td>\n",
       "      <td>0</td>\n",
       "      <td>0</td>\n",
       "      <td>0</td>\n",
       "    </tr>\n",
       "  </tbody>\n",
       "</table>\n",
       "<p>5 rows × 8560 columns</p>\n",
       "</div>"
      ],
      "text/plain": [
       "   GI_10047091-S  GI_10047093-S  GI_10047103-S  GI_10047133-A  GI_10092596-S  \\\n",
       "0              0              0              0              0              0   \n",
       "1              0              0              0              0              0   \n",
       "2              1              1              0              0              0   \n",
       "3              0              0              0              0              1   \n",
       "4              0              0              0              0              0   \n",
       "\n",
       "   GI_10092600-S  GI_10092616-S  GI_10092618-S  GI_10092672-S  GI_10190705-S  \\\n",
       "0              0              0              0              0              0   \n",
       "1              0              0              1              0              0   \n",
       "2              0              0              0              1              0   \n",
       "3              0              0              0              0              0   \n",
       "4              1              0              0              0              1   \n",
       "\n",
       "       ...       GI_9257221-S  GI_9257224-S  GI_9257226-S  GI_9257237-S  \\\n",
       "0      ...                  0             0             0             0   \n",
       "1      ...                  1             1             0             0   \n",
       "2      ...                  0             0             0             0   \n",
       "3      ...                  0             0             0             0   \n",
       "4      ...                  0             1             1             0   \n",
       "\n",
       "   GI_9257239-A  GI_9257241-S  GI_9257243-S  GI_9257244-A  GI_9257245-I  \\\n",
       "0             0             0             0             0             0   \n",
       "1             0             0             0             0             0   \n",
       "2             1             0             0             0             0   \n",
       "3             0             0             0             0             0   \n",
       "4             0             0             0             0             0   \n",
       "\n",
       "   GI_9257247-S  \n",
       "0             0  \n",
       "1             0  \n",
       "2             0  \n",
       "3             0  \n",
       "4             0  \n",
       "\n",
       "[5 rows x 8560 columns]"
      ]
     },
     "execution_count": 84,
     "metadata": {},
     "output_type": "execute_result"
    }
   ],
   "source": [
    "new_case = pd.DataFrame()\n",
    "for x in case.columns:\n",
    "    new_case[x] = convert(case[x])\n",
    "new_case.head()"
   ]
  },
  {
   "cell_type": "code",
   "execution_count": 85,
   "metadata": {
    "collapsed": false
   },
   "outputs": [
    {
     "name": "stdout",
     "output_type": "stream",
     "text": [
      " new_case data has 176 data points with 8560 variables each.\n"
     ]
    }
   ],
   "source": [
    "new_case.to_csv(\"newcase.csv\")\n",
    "print \" new_case data has {} data points with {} variables each.\".format(*new_case.shape)"
   ]
  },
  {
   "cell_type": "markdown",
   "metadata": {},
   "source": [
    "**Discuss**\n",
    "\n",
    "The count of ones for all controls are exactly the same as those given by the professor. Therefore, I assume my data preprocessing is correctly. Since we only need to work on the first 1800 genes. I am going to thrink case and ctrl table to include only the first 1800 genes or 1000 genes"
   ]
  },
  {
   "cell_type": "code",
   "execution_count": 86,
   "metadata": {
    "collapsed": true
   },
   "outputs": [],
   "source": [
    "# return a list of all feature names for those features are 1 for each sample\n",
    "def getOnesNames(row):\n",
    "    features = []\n",
    "    for i in range(len(row)):\n",
    "        if row[i] == 1:\n",
    "            features.append(row.index[i])\n",
    "    return features"
   ]
  },
  {
   "cell_type": "code",
   "execution_count": 87,
   "metadata": {
    "collapsed": false
   },
   "outputs": [],
   "source": [
    "# The function extract the expressed features for each sample\n",
    "# df: 0/1 matrix of original data containing 8560 features\n",
    "# n: number of features we are going to look at. In this case: 1800\n",
    "# return a list of samples' expressed feature names\n",
    "def generateFeatures(df, n):\n",
    "    sub_df = df.iloc[:,0:n]\n",
    "    print \"data has {} data points with {} variables each.\".format(*sub_df.shape)\n",
    "    samples_features = []\n",
    "    for index, row in sub_df.iterrows():\n",
    "        samples_features.append(getOnesNames(row))\n",
    "    return samples_features"
   ]
  },
  {
   "cell_type": "code",
   "execution_count": 88,
   "metadata": {
    "collapsed": false
   },
   "outputs": [],
   "source": [
    "# generate file for Apriori\n",
    "def generateFileForApriori(df,n, filename):\n",
    "    samples = generateFeatures(df, n)\n",
    "    with open(filename,'wb') as file:\n",
    "        for sample in samples:\n",
    "            file.write(','.join(sample))\n",
    "            file.write('\\n')"
   ]
  },
  {
   "cell_type": "code",
   "execution_count": 89,
   "metadata": {
    "collapsed": false
   },
   "outputs": [
    {
     "name": "stdout",
     "output_type": "stream",
     "text": [
      "data has 176 data points with 1800 variables each.\n"
     ]
    }
   ],
   "source": [
    "# prepare case file for Apriori algorithm with first 1800 features\n",
    "generateFileForApriori(new_case, 1800, \"case1800.csv\")"
   ]
  },
  {
   "cell_type": "code",
   "execution_count": 90,
   "metadata": {
    "collapsed": false
   },
   "outputs": [
    {
     "name": "stdout",
     "output_type": "stream",
     "text": [
      "data has 188 data points with 1800 variables each.\n"
     ]
    }
   ],
   "source": [
    "# prepare control file for Apriori algorithm with first 1800 features\n",
    "generateFileForApriori(new_ctrl, 1800, \"ctrl1800.csv\")"
   ]
  },
  {
   "cell_type": "code",
   "execution_count": 91,
   "metadata": {
    "collapsed": false
   },
   "outputs": [
    {
     "name": "stdout",
     "output_type": "stream",
     "text": [
      "data has 176 data points with 1000 variables each.\n"
     ]
    }
   ],
   "source": [
    "# prepare case file for Apriori algorithm with first 1000 features\n",
    "generateFileForApriori(new_case, 1000, \"case1000.csv\")"
   ]
  },
  {
   "cell_type": "code",
   "execution_count": 92,
   "metadata": {
    "collapsed": false
   },
   "outputs": [
    {
     "name": "stdout",
     "output_type": "stream",
     "text": [
      "data has 188 data points with 1000 variables each.\n"
     ]
    }
   ],
   "source": [
    "# prepare control file for Apriori algorithm with first 1000 features\n",
    "generateFileForApriori(new_ctrl, 1000, \"ctrl1000.csv\")"
   ]
  },
  {
   "cell_type": "markdown",
   "metadata": {},
   "source": [
    "# 1. Generate all frequent item sets and interesting ARs "
   ]
  },
  {
   "cell_type": "code",
   "execution_count": 93,
   "metadata": {
    "collapsed": false
   },
   "outputs": [],
   "source": [
    "# Apriori algorithm \n",
    "# copyright from https://github.com/asaini/Apriori\n",
    "\n",
    "# I edited Asaini's code into two versions. One for running in these notebook, \n",
    "# the other for processing the data in terminal via command lines\n",
    "# The main algorithms are the same, just the output is \n",
    "\n",
    "# The following version of apriori code was to generate the data in the notebook\n",
    "import sys\n",
    "from itertools import chain, combinations\n",
    "from collections import defaultdict\n",
    "from optparse import OptionParser\n",
    "\n",
    "\n",
    "def subsets(arr):\n",
    "    \"\"\" Returns non empty subsets of arr\"\"\"\n",
    "    return chain(*[combinations(arr, i + 1) for i, a in enumerate(arr)])\n",
    "\n",
    "\n",
    "def returnItemsWithMinSupport(itemSet, transactionList, minSupport, freqSet):\n",
    "        \"\"\"calculates the support for items in the itemSet and returns a subset\n",
    "       of the itemSet each of whose elements satisfies the minimum support\"\"\"\n",
    "        _itemSet = set()\n",
    "        localSet = defaultdict(int)\n",
    "\n",
    "        for item in itemSet:\n",
    "                for transaction in transactionList:\n",
    "                        if item.issubset(transaction):\n",
    "                                freqSet[item] += 1\n",
    "                                localSet[item] += 1\n",
    "\n",
    "        for item, count in localSet.items():\n",
    "                support = float(count)/len(transactionList)\n",
    "\n",
    "                if support >= minSupport:\n",
    "                        _itemSet.add(item)\n",
    "\n",
    "        return _itemSet\n",
    "\n",
    "\n",
    "def joinSet(itemSet, length):\n",
    "        \"\"\"Join a set with itself and returns the n-element itemsets\"\"\"\n",
    "        return set([i.union(j) for i in itemSet for j in itemSet if len(i.union(j)) == length])\n",
    "\n",
    "\n",
    "def getItemSetTransactionList(data_iterator):\n",
    "    transactionList = list()\n",
    "    itemSet = set()\n",
    "    for record in data_iterator:\n",
    "        transaction = frozenset(record)\n",
    "        transactionList.append(transaction)\n",
    "        for item in transaction:\n",
    "            itemSet.add(frozenset([item]))              # Generate 1-itemSets\n",
    "    return itemSet, transactionList\n",
    "\n",
    "\n",
    "def runApriori(data_iter, minSupport, minConfidence):\n",
    "    \"\"\"\n",
    "    run the apriori algorithm. data_iter is a record iterator\n",
    "    Return both:\n",
    "     - items (tuple, support)\n",
    "     - rules ((pretuple, posttuple), confidence)\n",
    "    \"\"\"\n",
    "    itemSet, transactionList = getItemSetTransactionList(data_iter)\n",
    "\n",
    "    freqSet = defaultdict(int)\n",
    "    largeSet = dict()\n",
    "    # Global dictionary which stores (key=n-itemSets,value=support)\n",
    "    # which satisfy minSupport\n",
    "\n",
    "    assocRules = dict()\n",
    "    # Dictionary which stores Association Rules\n",
    "\n",
    "    oneCSet = returnItemsWithMinSupport(itemSet,\n",
    "                                        transactionList,\n",
    "                                        minSupport,\n",
    "                                        freqSet)\n",
    "\n",
    "    currentLSet = oneCSet\n",
    "    k = 2\n",
    "    while(currentLSet != set([])):\n",
    "        largeSet[k-1] = currentLSet\n",
    "        currentLSet = joinSet(currentLSet, k)\n",
    "        currentCSet = returnItemsWithMinSupport(currentLSet,\n",
    "                                                transactionList,\n",
    "                                                minSupport,\n",
    "                                                freqSet)\n",
    "        currentLSet = currentCSet\n",
    "        k = k + 1\n",
    "\n",
    "    def getSupport(item):\n",
    "            \"\"\"local function which Returns the support of an item\"\"\"\n",
    "            return float(freqSet[item])/len(transactionList)\n",
    "\n",
    "    toRetItems = []\n",
    "    for key, value in largeSet.items():\n",
    "        toRetItems.extend([(tuple(item), getSupport(item))\n",
    "                           for item in value])\n",
    "\n",
    "    toRetRules = []\n",
    "    for key, value in largeSet.items()[1:]:\n",
    "        for item in value:\n",
    "            _subsets = map(frozenset, [x for x in subsets(item)])\n",
    "            for element in _subsets:\n",
    "                remain = item.difference(element)\n",
    "                if len(remain) > 0:\n",
    "                    confidence = getSupport(item)/getSupport(element)\n",
    "                    if confidence >= minConfidence:\n",
    "                        toRetRules.append(((tuple(element), tuple(remain)),\n",
    "                                           confidence))\n",
    "    return toRetItems, toRetRules\n",
    "\n",
    "\n",
    "def dataFromFile(fname):\n",
    "        \"\"\"Function which reads from the file and yields a generator\"\"\"\n",
    "        file_iter = open(fname, 'rU')\n",
    "        for line in file_iter:\n",
    "                line = line.strip().rstrip(',')                         # Remove trailing comma\n",
    "                record = frozenset(line.split(','))\n",
    "                yield record\n",
    "\n",
    "def generateResult(fname, minSupport,minConfidence):\n",
    "    inFile = dataFromFile(fname)\n",
    "    items, rules = runApriori(inFile, minSupport, minConfidence)\n",
    "    items_support = sorted(items, key=lambda (item, support): support, reverse = True)\n",
    "    rules_confidence = sorted(rules, key=lambda (rule, confidence): confidence, reverse = True)\n",
    "    return items_support, rules_confidence"
   ]
  },
  {
   "cell_type": "markdown",
   "metadata": {},
   "source": [
    "## Problem 1\n",
    "Given the two basket datasets created above, find all frequent item sets and interesting ARs with the minimal support from 2% to 8% (with an increment of 2%) and the minimal confidence from 50% to 90% (with an increment of 10%). Draw 3D plots, for AD and controls separately, showing the total number of frequent itemsets and ARs discovered (in separate figures) as a function of the min support and min confidence. (note you should have 4 plots)\n",
    "Tip: make sure you turn the 1/0 matrices into the right basket data format for the software you use. \n"
   ]
  },
  {
   "cell_type": "markdown",
   "metadata": {},
   "source": [
    "## Answer:\n",
    "\n",
    "## Implementation\n",
    "These part of work was run on google cloud instance using the second version of Apriori algorithm provided above. Apriori uses a \"bottom up\" approach, where frequent subsets are extended one item at a time (a step known as candidate generation), and groups of candidates are tested against the data. The algorithm terminates when no further successful extensions are found. Apriori uses breadth-first search and a Hash tree structure to count candidate item sets efficiently. It generates candidate item sets of length  k from item sets of length  k-1. Then it prunes the candidates which have an infrequent sub pattern. According to the downward closure lemma, the candidate set contains all frequent k-length item sets. After that, it scans the transaction database to determine frequent item sets among the candidates.\n",
    "\n",
    "\n",
    "The console print out the [outputfilename, number of frequent item sets, number of ARs]. The python code was used to process the data when min_support equals 0.08 or 0.06 considering the processing time was okay.\n",
    "\n",
    "#### I used spark to process the data when min_support equals 0.04 or 0.02 since python takes forever to run... I used google cloud cluster and spark FP growth API (https://spark.apache.org/docs/2.2.0/mllib-frequent-pattern-mining.html).  Please see the below code blocks for details. \n",
    "\n",
    "The FP-growth algorithm is described in the paper Han et al., Mining frequent patterns without candidate generation, where “FP” stands for frequent pattern. Given a dataset of transactions, the first step of FP-growth is to calculate item frequencies and identify frequent items. Different from Apriori-like algorithms designed for the same purpose, the second step of FP-growth uses a suffix tree (FP-tree) structure to encode transactions without generating candidate sets explicitly, which are usually expensive to generate. After the second step, the frequent itemsets can be extracted from the FP-tree. \n",
    "\n",
    "**Note:** The input and output for both algorithms should be the same! However, there is a stackoverflow problem. I was only able to get number of frequents sets for case data with min_support of 0.04."
   ]
  },
  {
   "cell_type": "markdown",
   "metadata": {},
   "source": [
    "#### command lines for running one condition in pyspark"
   ]
  },
  {
   "cell_type": "markdown",
   "metadata": {},
   "source": [
    "\n",
    "``` scala\n",
    "from pyspark.sql.functions import split\n",
    "from pyspark.ml.fpm import FPGrowth\n",
    "data = (spark.read.text(\"case1800.txt\").select(split(\"value\", \"\\s+\").alias(\"items\")))\n",
    "fp = FPGrowth(minSupport=0.08, minConfidence=0.9)\n",
    "fpm = fp.fit(data)\n",
    "freqs = fpm.freqItemsets.collect()\n",
    "rules = fpm.associationRules.collect()\n",
    "print len(freqs),len(rules)\n",
    "``` "
   ]
  },
  {
   "cell_type": "markdown",
   "metadata": {},
   "source": [
    "#### command lines for running one condition using python"
   ]
  },
  {
   "cell_type": "markdown",
   "metadata": {},
   "source": [
    "```python\n",
    "python apriori.py -f case1000.csv -s minSupport  -c minConfidence -o case1000\n",
    "```"
   ]
  },
  {
   "cell_type": "markdown",
   "metadata": {},
   "source": [
    "## Result\n",
    "\n",
    "### Each line of output is the [filename, number of frequent item sets, number of ARs]\n",
    "\n",
    "### Part 1 : With 1000 genes:\n",
    "\n",
    "### 1.1 ctrl\n",
    "### ctrl data with 1000 genes, min_support = 0.1, min_confidence =  [0.5, 0.6, 0.7, 0.8, 0.9]\n",
    "* ctrl1000_s_0.1_c_0.5.txt 0 0\n",
    "* ctrl1000_s_0.1_c_0.6.txt 0 0\n",
    "* ctrl1000_s_0.1_c_0.7.txt 0 0\n",
    "* ctrl1000_s_0.1_c_0.8.txt 0 0\n",
    "* ctrl1000_s_0.1_c_0.9.txt 0 0\n",
    "\n",
    "### ctrl data with 1000 genes, min_support = 0.09, min_confidence =  [0.5, 0.6, 0.7, 0.8, 0.9]\n",
    "* ctrl1000_s_0.09_c_0.5.txt 1001 2\n",
    "* ctrl1000_s_0.09_c_0.6.txt 1001 2\n",
    "* ctrl1000_s_0.09_c_0.7.txt 1001 2\n",
    "* ctrl1000_s_0.09_c_0.8.txt 1001 2\n",
    "* ctrl1000_s_0.09_c_0.9.txt 1001 2\n",
    "\n",
    "### ctrl data with 1000 genes, min_support = 0.08, min_confidence = [0.5, 0.6, 0.7, 0.8, 0.9]\n",
    "\n",
    "* ctrl1000_s_0.08_c_0.5.txt 1004 8\n",
    "* ctrl1000_s_0.08_c_0.6.txt 1004 8\n",
    "* ctrl1000_s_0.08_c_0.7.txt 1004 8\n",
    "* ctrl1000_s_0.08_c_0.8.txt 1004 8\n",
    "* ctrl1000_s_0.08_c_0.9.txt 1004 2\n",
    "\n",
    "### ctrl data with 1000 genes, min_support = 0.07, min_confidence =  [0.5, 0.6, 0.7, 0.8, 0.9]\n",
    "* ctrl1000_s_0.07_c_0.5.txt 1118 272\n",
    "* ctrl1000_s_0.07_c_0.6.txt 1118 272\n",
    "* ctrl1000_s_0.07_c_0.7.txt 1118 272\n",
    "* ctrl1000_s_0.07_c_0.8.txt 1118 73\n",
    "* ctrl1000_s_0.07_c_0.9.txt 1118 24\n",
    "\n",
    "### ctrl data with 1000 genes, min_support = 0.06, min_confidence =  [0.5, 0.6, 0.7, 0.8, 0.9]\n",
    "* ctrl1000_s_0.06_c_0.5.txt 2686 7196\n",
    "* ctrl1000_s_0.06_c_0.6.txt 2686 7196\n",
    "* ctrl1000_s_0.06_c_0.7.txt 2686 4043\n",
    "* ctrl1000_s_0.06_c_0.8.txt 2686 2796\n",
    "* ctrl1000_s_0.06_c_0.9.txt 2686 2046\n",
    "\n",
    "### ctrl data with 1000 genes, min_support = 0.04, min_confidence =  [0.5, 0.6, 0.7, 0.8, 0.9]\n",
    "* NA\n",
    "\n",
    "\n",
    "### ctrl data with 1000 genes, min_support = 0.02, min_confidence =  [0.5, 0.6, 0.7, 0.8, 0.9]\n",
    "* NA\n",
    "\n"
   ]
  },
  {
   "cell_type": "code",
   "execution_count": 65,
   "metadata": {
    "collapsed": false
   },
   "outputs": [
    {
     "data": {
      "image/png": "[encoded data removed]",
      "text/plain": [
       "<matplotlib.figure.Figure at 0x10a593610>"
      ]
     },
     "metadata": {},
     "output_type": "display_data"
    }
   ],
   "source": [
    "%matplotlib inline\n",
    "import matplotlib.pyplot as plt\n",
    "from pylab import *\n",
    "from mpl_toolkits.mplot3d import Axes3D\n",
    "import numpy as np\n",
    "rcParams['figure.figsize'] = 10, 10\n",
    "xlist = [0.06, 0.07, 0.08, 0.09, 0.1]\n",
    "ylist =  [0.5, 0.6, 0.7, 0.8, 0.9]\n",
    "#ylist =  [0.9, 0.8, 0.7, 0.6, 0.5]\n",
    "Z = np.array([[7196, 272, 8, 2, 1],[7196, 272, 8, 2, 1],[4043, 272, 8, 2, 1],[2796, 73, 8, 2, 1],[2046,24, 2, 2, 1]])\n",
    "#Z = np.array([[1,2,8,272,7196],[1,2,8,272,7196],[1,2,8,272,4043],[1,2,8,73,2796],[1,2,2,24,2046]])\n",
    "fig = plt.figure()\n",
    "ax = fig.add_subplot(1,1,1, projection='3d')\n",
    "X, Y = np.meshgrid(xlist, ylist)\n",
    "ax.plot_surface(X, Y, np.log(Z), color = 'w', rstride = 1, cstride = 1)\n",
    "ax.set_ylabel('min confidence')\n",
    "ax.set_xlabel('min support')\n",
    "ax.set_zlabel('log of number of ARs')\n",
    "plt.title('ctrl data - 1000 features : minsupport vs min confidence vs number of ARs')\n",
    "plt.show()"
   ]
  },
  {
   "cell_type": "code",
   "execution_count": 62,
   "metadata": {
    "collapsed": false
   },
   "outputs": [
    {
     "data": {
      "image/png": "[encoded data removed]",
      "text/plain": [
       "<matplotlib.figure.Figure at 0x108f3b510>"
      ]
     },
     "metadata": {},
     "output_type": "display_data"
    }
   ],
   "source": [
    "%matplotlib inline\n",
    "import matplotlib.pyplot as plt\n",
    "import pylab\n",
    "from mpl_toolkits.mplot3d import Axes3D\n",
    "import numpy as np\n",
    "rcParams['figure.figsize'] = 10, 10\n",
    "xlist = [0.06, 0.07, 0.08, 0.09, 0.1]\n",
    "ylist =  [0.5, 0.6, 0.7, 0.8, 0.9]\n",
    "Z = np.array([[2686,1118,1004,1001,0],[2686,1118,1004,1001,0],[2686,1118,1004,1001,0],[2686,1118,1004,1001,0],[2686,1118,1004,1001,0]])\n",
    "fig = plt.figure()\n",
    "ax = fig.add_subplot(1,1,1, projection='3d')\n",
    "X, Y = np.meshgrid(xlist, ylist)\n",
    "ax.plot_surface(X, Y, Z, color = 'w', rstride = 1, cstride = 1)\n",
    "ax.set_ylabel('min confidence')\n",
    "ax.set_xlabel('min support')\n",
    "ax.set_zlabel('log of number of frequent sets')\n",
    "plt.title('ctrl data - 1000 features: min support vs min confidence vs number of frequent sets')\n",
    "plt.show()"
   ]
  },
  {
   "cell_type": "markdown",
   "metadata": {},
   "source": [
    "### 1.2. case\n",
    "\n",
    "### case data with 1000 genes, min_support = 0.1, min_confidence =  [0.5, 0.6, 0.7, 0.8, 0.9]\n",
    "* case1000_s_0.1_c_0.5.txt 0 0\n",
    "* case1000_s_0.1_c_0.6.txt 0 0\n",
    "* case1000_s_0.1_c_0.7.txt 0 0\n",
    "* case1000_s_0.1_c_0.8.txt 0 0\n",
    "* case1000_s_0.1_c_0.9.txt 0 0\n",
    "\n",
    "### case data with 1000 genes, min_support = 0.09, min_confidence =  [0.5, 0.6, 0.7, 0.8, 0.9]\n",
    "* case1000_s_0.09_c_0.5.txt 1000 0\n",
    "* case1000_s_0.09_c_0.6.txt 1000 0\n",
    "* case1000_s_0.09_c_0.6.txt 1000 0\n",
    "* case1000_s_0.09_c_0.6.txt 1000 0\n",
    "* case1000_s_0.09_c_0.6.txt 1000 0\n",
    "\n",
    "### case data with 1000 genes, min_support = 0.08, min_confidence =  [0.5, 0.6, 0.7, 0.8, 0.9]\n",
    "* case1000_s_0.08_c_0.5.txt 1006 12 \n",
    "* case1000_s_0.08_c_0.6.txt 1006 12\n",
    "* case1000_s_0.08_c_0.7.txt 1006 12\n",
    "* case1000_s_0.08_c_0.8.txt 1006 12\n",
    "* case1000_s_0.08_c_0.9.txt 1006 0\n",
    "\n",
    "### case data with 1000 genes, min_support = 0.07, min_confidence =  [0.5, 0.6, 0.7, 0.8, 0.9]\n",
    "* case1000_s_0.07_c_0.5.txt 1206 624\n",
    "* case1000_s_0.07_c_0.7.txt 1206 624\n",
    "* case1000_s_0.07_c_0.6.txt 1206 624\n",
    "* case1000_s_0.07_c_0.8.txt 1206 272\n",
    "* case1000_s_0.07_c_0.9.txt 1206 141\n",
    "\n",
    "\n",
    "### case data with 1000 genes, min_support = 0.06, min_confidence =  [0.5, 0.6, 0.7, 0.8, 0.9]\n",
    "* case1000_s_0.06_c_0.5.txt 3788 33096\n",
    "* case1000_s_0.06_c_0.6.txt 3788 33096\n",
    "* case1000_s_0.06_c_0.7.txt 3788 26047\n",
    "* case1000_s_0.06_c_0.8.txt 3788 21471\n",
    "* case1000_s_0.06_c_0.9.txt 3788 17211\n",
    "\n",
    "\n",
    "### case data with 1000 genes, min_support = 0.04, min_confidence =  [0.5, 0.6, 0.7, 0.8, 0.9]\n",
    "* case1000_s_0.04_c_0.5.txt 2625063 NA\n",
    "* case1000_s_0.04_c_0.6.txt 2625063 NA\n",
    "* case1000_s_0.04_c_0.7.txt 2625063 NA\n",
    "* case1000_s_0.04_c_0.8.txt 2625063 NA\n",
    "* case1000_s_0.04_c_0.9.txt 2625063 NA\n",
    "\n",
    "### case data with 1000 genes, min_support = 0.02, min_confidence =  [0.5, 0.6, 0.7, 0.8, 0.9]\n",
    "* NA"
   ]
  },
  {
   "cell_type": "code",
   "execution_count": 67,
   "metadata": {
    "collapsed": false
   },
   "outputs": [
    {
     "data": {
      "image/png": "[encoded data removed]",
      "text/plain": [
       "<matplotlib.figure.Figure at 0x108eca410>"
      ]
     },
     "metadata": {},
     "output_type": "display_data"
    }
   ],
   "source": [
    "%matplotlib inline\n",
    "import matplotlib.pyplot as plt\n",
    "from pylab import *\n",
    "from mpl_toolkits.mplot3d import Axes3D\n",
    "import numpy as np\n",
    "rcParams['figure.figsize'] = 10, 10\n",
    "xlist = [0.06, 0.07, 0.08, 0.09, 0.1]\n",
    "ylist =  [0.5, 0.6, 0.7, 0.8, 0.9]\n",
    "\n",
    "# replace 0 with 1 so that the log value is 0\n",
    "Z = np.array([[33096,624, 12, 1, 1],[33096, 624, 12, 1, 1],[26047, 624, 12, 1, 1],[21471, 272, 12, 1, 1],[17211,141, 1, 1, 1]])\n",
    "\n",
    "fig = plt.figure()\n",
    "ax = fig.add_subplot(1,1,1, projection='3d')\n",
    "X, Y = np.meshgrid(xlist, ylist)\n",
    "ax.plot_surface(X, Y, np.log(Z), color = 'w', rstride = 1, cstride = 1)\n",
    "ax.set_ylabel('min confidence')\n",
    "ax.set_xlabel('min support')\n",
    "ax.set_zlabel('log of number of ARs')\n",
    "plt.title('case data - 1000 features : minsupport vs min confidence vs number of ARs')\n",
    "plt.show()"
   ]
  },
  {
   "cell_type": "code",
   "execution_count": 68,
   "metadata": {
    "collapsed": false
   },
   "outputs": [
    {
     "data": {
      "image/png": "[encoded data removed]",
      "text/plain": [
       "<matplotlib.figure.Figure at 0x1090449d0>"
      ]
     },
     "metadata": {},
     "output_type": "display_data"
    }
   ],
   "source": [
    "%matplotlib inline\n",
    "import matplotlib.pyplot as plt\n",
    "import pylab\n",
    "from mpl_toolkits.mplot3d import Axes3D\n",
    "import numpy as np\n",
    "rcParams['figure.figsize'] = 10, 10\n",
    "xlist = [0.06, 0.07, 0.08, 0.09, 0.1]\n",
    "ylist =  [0.5, 0.6, 0.7, 0.8, 0.9]\n",
    "Z = np.array([[3788,1206 ,1006,1000,0],[3788,1206 ,1006,1000,0],[3788,1206 ,1006,1000,0],[3788,1206 ,1006,1000,0],[3788,1206 ,1006,1000,0]])\n",
    "fig = plt.figure()\n",
    "ax = fig.add_subplot(1,1,1, projection='3d')\n",
    "X, Y = np.meshgrid(xlist, ylist)\n",
    "ax.plot_surface(X, Y, Z, color = 'w', rstride = 1, cstride = 1)\n",
    "ax.set_ylabel('min confidence')\n",
    "ax.set_xlabel('min support')\n",
    "ax.set_zlabel('log of number of frequent sets')\n",
    "plt.title('case data - 1000 features: min support vs min confidence vs number of frequent sets')\n",
    "plt.show()"
   ]
  },
  {
   "cell_type": "markdown",
   "metadata": {
    "collapsed": true
   },
   "source": [
    "### Part 2 : With 1800 genes:\n",
    "### 2.1. ctrl\n",
    "### ctrl data with 1800 genes, min_support = 0.08, min_confidence = [0.5, 0.6, 0.7, 0.8, 0.9]\n",
    "\n",
    "* ctrl1800_s_0.08_c_0.5.txt 1813 26\n",
    "* ctrl1800_s_0.08_c_0.6.txt 1813 26\n",
    "* ctrl1800_s_0.08_c_0.7.txt 1813 26\n",
    "* ctrl1800_s_0.08_c_0.8.txt 1813 26\n",
    "* ctrl1800_s_0.08_c_0.9.txt 1813 4\n",
    "\n",
    "### ctrl data with 1800 genes, min_support = 0.06, min_confidence =  [0.5, 0.6, 0.7, 0.8, 0.9]\n",
    "* ctrl1800_s_0.06_c_0.5.txt 14678 274232\n",
    "* ctrl1800_s_0.06_c_0.6.txt 14678 274232\n",
    "* ctrl1800_s_0.06_c_0.7.txt 14678 233206\n",
    "* ctrl1800_s_0.06_c_0.8.txt 14678 211497\n",
    "* ctrl1800_s_0.06_c_0.9.txt 14678 186188\n",
    "\n",
    "### ctrl data with 1800 genes, min_support = 0.04, min_confidence =  [0.5, 0.6, 0.7, 0.8, 0.9]\n",
    "* NA\n",
    "\n",
    "\n",
    "### ctrl data with 1800 genes, min_support = 0.02, min_confidence =  [0.5, 0.6, 0.7, 0.8, 0.9]\n",
    "* NA\n",
    "\n",
    "### 2.2. case\n",
    "### case data with 1800 genes, min_support = 0.08, min_confidence =  [0.5, 0.6, 0.7, 0.8, 0.9]\n",
    "* case1800_s_0.08_c_0.5.txt 1825 54\n",
    "* case1800_s_0.08_c_0.6.txt 1825 54\n",
    "* case1800_s_0.08_c_0.7.txt 1825 54\n",
    "* case1800_s_0.08_c_0.8.txt 1825 54\n",
    "* case1800_s_0.08_c_0.9.txt 1825 5\n",
    "\n",
    "\n",
    "### case data with 1800 genes, min_support = 0.06, min_confidence =  [0.5, 0.6, 0.7, 0.8, 0.9]\n",
    "* case1800_s_0.06_c_0.5.txt 32127 2186282\n",
    "* case1800_s_0.06_c_0.6.txt 32127 2186282\n",
    "* case1800_s_0.06_c_0.7.txt 32127 2045817\n",
    "* case1800_s_0.06_c_0.8.txt 32127 1902667\n",
    "* case1800_s_0.06_c_0.9.txt 32127 1702758\n",
    "\n",
    "\n",
    "### case data with 1800 genes, min_support = 0.04, min_confidence =  [0.5, 0.6, 0.7, 0.8, 0.9]\n",
    "* NA\n",
    "\n",
    "### case data with 1800 genes, min_support = 0.02, min_confidence =  [0.5, 0.6, 0.7, 0.8, 0.9]\n",
    "* NA"
   ]
  },
  {
   "cell_type": "markdown",
   "metadata": {},
   "source": [
    "# Problem 2\n",
    "Sort the frequent itemsets with supports greater than min support of 5%, from the highest frequency to the lowest, and report the top 50 most frequent itemsets. Also report all the ARs whose confidences are greater than the min confidence level of 80%.\n"
   ]
  },
  {
   "cell_type": "markdown",
   "metadata": {},
   "source": [
    "## Answer"
   ]
  },
  {
   "cell_type": "markdown",
   "metadata": {},
   "source": [
    "## Part 1 : With 1000 features"
   ]
  },
  {
   "cell_type": "markdown",
   "metadata": {},
   "source": [
    "### 1.1 with 1000 features: top50 frequent sets for Case data"
   ]
  },
  {
   "cell_type": "code",
   "execution_count": 95,
   "metadata": {
    "collapsed": false
   },
   "outputs": [],
   "source": [
    "# run Apriori algorithm on case data\n",
    "# return the frequent sets: case_items_support\n",
    "# and ARs: case_fules_confidence\n",
    "case_items_support, case_rules_confidence = generateResult(\"case1000.csv\",0.06, 0.8)"
   ]
  },
  {
   "cell_type": "code",
   "execution_count": 159,
   "metadata": {
    "collapsed": false
   },
   "outputs": [],
   "source": [
    "# For frequent set\n",
    "# We are not interested in frequent sets containing only one item, \n",
    "#therefore, we will exclude these from the set list\n",
    "interest_case_items_support = [item for item in case_items_support if len(item[0]) != 1]\n",
    "top_50_case = interest_case_items_support[0:50]"
   ]
  },
  {
   "cell_type": "code",
   "execution_count": 160,
   "metadata": {
    "collapsed": false
   },
   "outputs": [
    {
     "data": {
      "text/plain": [
       "[(('GI_10864030-S', 'GI_14916472-S'), 0.08522727272727272),\n",
       " (('GI_15011917-S', 'GI_14589955-S'), 0.08522727272727272),\n",
       " (('GI_10864030-S', 'GI_14249467-I'), 0.08522727272727272),\n",
       " (('GI_13376532-S', 'GI_12232430-S'), 0.08522727272727272),\n",
       " (('GI_13787194-S', 'GI_14165460-I'), 0.08522727272727272),\n",
       " (('GI_14589955-S', 'GI_16753216-A'), 0.08522727272727272),\n",
       " (('GI_12597630-S', 'GI_12232456-S'), 0.07954545454545454),\n",
       " (('GI_14249309-S', 'GI_10800147-S'), 0.07954545454545454),\n",
       " (('GI_15011917-S', 'GI_11321582-S'), 0.07954545454545454),\n",
       " (('GI_16905511-S', 'GI_16905512-S'), 0.07954545454545454),\n",
       " (('GI_16306562-S', 'GI_15011937-S'), 0.07954545454545454),\n",
       " (('GI_14249309-S', 'GI_14165460-I'), 0.07954545454545454),\n",
       " (('GI_14591913-S', 'GI_14591915-S'), 0.07954545454545454),\n",
       " (('GI_14249251-S', 'GI_14249309-S'), 0.07954545454545454),\n",
       " (('GI_13375741-S', 'GI_14150038-S'), 0.07954545454545454),\n",
       " (('GI_13376477-S', 'GI_11056009-S'), 0.07954545454545454),\n",
       " (('GI_13376672-S', 'GI_13376746-S'), 0.07954545454545454),\n",
       " (('GI_13540508-S', 'GI_13787194-S'), 0.07954545454545454),\n",
       " (('GI_16905511-S', 'GI_14141192-S'), 0.07954545454545454),\n",
       " (('GI_16905511-S', 'GI_14591914-S'), 0.07954545454545454),\n",
       " (('GI_13376532-S', 'GI_13540508-S'), 0.07954545454545454),\n",
       " (('GI_14165460-I', 'GI_10800147-S'), 0.07954545454545454),\n",
       " (('GI_13430873-S', 'GI_14165460-I'), 0.07954545454545454),\n",
       " (('GI_16117790-S', 'GI_16306562-S'), 0.07954545454545454),\n",
       " (('GI_13787194-S', 'GI_13376746-S'), 0.07954545454545454),\n",
       " (('GI_14211842-S', 'GI_14589955-S'), 0.07954545454545454),\n",
       " (('GI_13376532-S', 'GI_13787194-S'), 0.07954545454545454),\n",
       " (('GI_13376528-S', 'GI_10864030-S'), 0.07954545454545454),\n",
       " (('GI_14249309-S', 'GI_13376746-S'), 0.07954545454545454),\n",
       " (('GI_13376746-S', 'GI_10800147-S'), 0.07954545454545454),\n",
       " (('GI_14456711-S', 'GI_14043068-S'), 0.07954545454545454),\n",
       " (('GI_14249251-S', 'GI_13376672-S'), 0.07954545454545454),\n",
       " (('GI_14916472-S', 'GI_14249467-I'), 0.07954545454545454),\n",
       " (('GI_13787194-S', 'GI_10800147-S'), 0.07954545454545454),\n",
       " (('GI_13376532-S', 'GI_14042952-S'), 0.07954545454545454),\n",
       " (('GI_14589955-S', 'GI_11321582-S'), 0.07954545454545454),\n",
       " (('GI_12232456-S', 'GI_13376553-S'), 0.07954545454545454),\n",
       " (('GI_15451903-S', 'GI_14211842-S'), 0.07954545454545454),\n",
       " (('GI_15011917-S', 'GI_16753216-A'), 0.07954545454545454),\n",
       " (('GI_12232430-S', 'GI_14042952-S'), 0.07954545454545454),\n",
       " (('GI_14165460-I', 'GI_12545396-I'), 0.07954545454545454),\n",
       " (('GI_10863874-S', 'GI_15812219-S'), 0.07954545454545454),\n",
       " (('GI_14211842-S', 'GI_15011917-S'), 0.07954545454545454),\n",
       " (('GI_13376672-S', 'GI_10800147-S'), 0.07954545454545454),\n",
       " (('GI_14195633-S', 'GI_11545919-S'), 0.07954545454545454),\n",
       " (('GI_12232456-S', 'GI_11056009-S'), 0.07954545454545454),\n",
       " (('GI_13904868-S', 'GI_16306560-S'), 0.07954545454545454),\n",
       " (('GI_14249251-S', 'GI_10800147-S'), 0.07954545454545454),\n",
       " (('GI_15011917-S', 'GI_14589955-S', 'GI_16753216-A'), 0.07954545454545454),\n",
       " (('GI_10800147-S', 'GI_13787194-S', 'GI_14165460-I'), 0.07954545454545454)]"
      ]
     },
     "execution_count": 160,
     "metadata": {},
     "output_type": "execute_result"
    }
   ],
   "source": [
    "# display top 50 frequent sets for case data with their corresponding support value\n",
    "top_50_case"
   ]
  },
  {
   "cell_type": "markdown",
   "metadata": {},
   "source": [
    "### 1.2 with 1000 features: top50 frequent sets for Ctrl data"
   ]
  },
  {
   "cell_type": "code",
   "execution_count": 98,
   "metadata": {
    "collapsed": true
   },
   "outputs": [],
   "source": [
    "# I repeated the above steps for control data\n",
    "# 1. run Apriori algorithm on control data, return frequent sets and ARs\n",
    "ctrl_items_support, ctrl_rules_confidence = generateResult(\"ctrl1000.csv\",0.06, 0.8)"
   ]
  },
  {
   "cell_type": "code",
   "execution_count": 99,
   "metadata": {
    "collapsed": true
   },
   "outputs": [],
   "source": [
    "# We are not interested in frequent sets containing only one item, \n",
    "# therefore, we will exclude these from the set list\n",
    "interest_ctrl_items_support = [item for item in ctrl_items_support if len(item[0]) != 1]\n",
    "top_50_ctrl = interest_ctrl_items_support[0:50]"
   ]
  },
  {
   "cell_type": "code",
   "execution_count": 100,
   "metadata": {
    "collapsed": false,
    "scrolled": true
   },
   "outputs": [
    {
     "data": {
      "text/plain": [
       "[(('GI_13376477-S', 'GI_11056009-S'), 0.09042553191489362),\n",
       " (('GI_12232430-S', 'GI_12232456-S'), 0.0851063829787234),\n",
       " (('GI_12025664-S', 'GI_14589955-S'), 0.0851063829787234),\n",
       " (('GI_11641260-S', 'GI_13376659-S'), 0.0851063829787234),\n",
       " (('GI_12232456-S', 'GI_14042952-S'), 0.0797872340425532),\n",
       " (('GI_13540514-S', 'GI_13376847-S'), 0.0797872340425532),\n",
       " (('GI_14249309-S', 'GI_14165460-I'), 0.0797872340425532),\n",
       " (('GI_13128859-S', 'GI_11545766-S'), 0.0797872340425532),\n",
       " (('GI_16554603-S', 'GI_14589955-S'), 0.0797872340425532),\n",
       " (('GI_13376321-S', 'GI_13112047-A'), 0.0797872340425532),\n",
       " (('GI_13376746-S', 'GI_14249467-I'), 0.0797872340425532),\n",
       " (('GI_14589955-S', 'GI_16554576-S'), 0.0797872340425532),\n",
       " (('GI_11641260-S', 'GI_10864030-S'), 0.0797872340425532),\n",
       " (('GI_14249309-S', 'GI_13787194-S'), 0.0797872340425532),\n",
       " (('GI_14456711-S', 'GI_14043068-S'), 0.0797872340425532),\n",
       " (('GI_14165460-I', 'GI_10800147-S'), 0.0797872340425532),\n",
       " (('GI_13787194-S', 'GI_13376182-S'), 0.0797872340425532),\n",
       " (('GI_13787194-S', 'GI_12232456-S'), 0.0797872340425532),\n",
       " (('GI_13376477-S', 'GI_12232430-S'), 0.0797872340425532),\n",
       " (('GI_10864030-S', 'GI_13376746-S'), 0.0797872340425532),\n",
       " (('GI_14916472-S', 'GI_14249467-I'), 0.0797872340425532),\n",
       " (('GI_10864030-S', 'GI_14249467-I'), 0.0797872340425532),\n",
       " (('GI_13376659-S', 'GI_10864030-S'), 0.0797872340425532),\n",
       " (('GI_12232430-S', 'GI_13787194-S'), 0.07446808510638298),\n",
       " (('GI_15812199-A', 'GI_14589955-S'), 0.07446808510638298),\n",
       " (('GI_13899341-S', 'GI_13376321-S'), 0.07446808510638298),\n",
       " (('GI_12025664-S', 'GI_16554576-S'), 0.07446808510638298),\n",
       " (('GI_14249309-S', 'GI_10800147-S'), 0.07446808510638298),\n",
       " (('GI_13904867-S', 'GI_14141191-S'), 0.07446808510638298),\n",
       " (('GI_16117792-S', 'GI_14141191-S'), 0.07446808510638298),\n",
       " (('GI_12025664-S', 'GI_13027654-A'), 0.07446808510638298),\n",
       " (('GI_16905511-S', 'GI_15431289-S'), 0.07446808510638298),\n",
       " (('GI_14042967-S', 'GI_13376207-S'), 0.07446808510638298),\n",
       " (('GI_13376551-S', 'GI_13129063-S'), 0.07446808510638298),\n",
       " (('GI_15890084-A', 'GI_11096339-S'), 0.07446808510638298),\n",
       " (('GI_11545766-S', 'GI_11038670-S'), 0.07446808510638298),\n",
       " (('GI_10864008-I', 'GI_12965196-S'), 0.07446808510638298),\n",
       " (('GI_14249309-S', 'GI_13376182-S'), 0.07446808510638298),\n",
       " (('GI_12232430-S', 'GI_14249499-S'), 0.07446808510638298),\n",
       " (('GI_13112047-A', 'GI_13540554-S'), 0.07446808510638298),\n",
       " (('GI_14165460-I', 'GI_13376553-S'), 0.07446808510638298),\n",
       " (('GI_15718688-A', 'GI_16306563-S'), 0.07446808510638298),\n",
       " (('GI_13376528-S', 'GI_13376746-S'), 0.07446808510638298),\n",
       " (('GI_13112047-A', 'GI_13376030-A'), 0.07446808510638298),\n",
       " (('GI_10864030-S', 'GI_14916472-S'), 0.07446808510638298),\n",
       " (('GI_13027637-S', 'GI_16554576-S'), 0.07446808510638298),\n",
       " (('GI_14141189-S', 'GI_13904868-S'), 0.07446808510638298),\n",
       " (('GI_12025664-S', 'GI_11321582-S'), 0.07446808510638298),\n",
       " (('GI_14670372-A', 'GI_13540554-S'), 0.07446808510638298),\n",
       " (('GI_14042967-S', 'GI_14670372-A'), 0.07446808510638298)]"
      ]
     },
     "execution_count": 100,
     "metadata": {},
     "output_type": "execute_result"
    }
   ],
   "source": [
    "# display top 50 frequent sets for control data with their corresponding support value\n",
    "top_50_ctrl"
   ]
  },
  {
   "cell_type": "markdown",
   "metadata": {},
   "source": [
    "### 1.3 with 1000 features: ARs with min confidence > 0.8 for Case data"
   ]
  },
  {
   "cell_type": "code",
   "execution_count": 101,
   "metadata": {
    "collapsed": true
   },
   "outputs": [],
   "source": [
    "# get top 50 frequent sets for case and ctrl data repectively\n",
    "top_50_case_frequent_set = [item[0] for item in top_50_case]\n",
    "top_50_ctrl_frequent_set = [item[0] for item in top_50_ctrl]"
   ]
  },
  {
   "cell_type": "code",
   "execution_count": 102,
   "metadata": {
    "collapsed": false
   },
   "outputs": [],
   "source": [
    "# store top 50 frequent sets for case data(1000 features) into file top50case.csv\n",
    "with open(\"top50case.csv\",'wb') as file:\n",
    "    for s in top_50_case_frequent_set:\n",
    "        file.write(','.join(s))\n",
    "        file.write('\\n')"
   ]
  },
  {
   "cell_type": "code",
   "execution_count": 103,
   "metadata": {
    "collapsed": false
   },
   "outputs": [],
   "source": [
    "# store top 50 fequent sets for ctrl data(1000 features) into file top50ctrl.csv\n",
    "with open(\"top50ctrl.csv\",'wb') as file:\n",
    "    for s in top_50_ctrl_frequent_set:\n",
    "        file.write(','.join(s))\n",
    "        file.write('\\n')"
   ]
  },
  {
   "cell_type": "code",
   "execution_count": 104,
   "metadata": {
    "collapsed": true
   },
   "outputs": [],
   "source": [
    "# The function print ARs in good format\n",
    "def printARs(ARs):\n",
    "    for rule, confidence in ARs:     \n",
    "        pre, post = rule     \n",
    "        print \"Rule: %s ==> %s , %.3f\" % (str(pre), str(post), confidence)"
   ]
  },
  {
   "cell_type": "code",
   "execution_count": 161,
   "metadata": {
    "collapsed": false
   },
   "outputs": [],
   "source": [
    "# We run apriori algorithm on top50 frequent sets with min confidence as 0.8 for case data(1000 features)\n",
    "# top50_case_ARs stores ARs from top50 frequent sets with min confidenece as 0.8 for case data(1000 features)\n",
    "top50_case_freq_set, top50_case_ARs = generateResult(\"top50case.csv\", 0, 0.8)"
   ]
  },
  {
   "cell_type": "code",
   "execution_count": 162,
   "metadata": {
    "collapsed": false
   },
   "outputs": [
    {
     "name": "stdout",
     "output_type": "stream",
     "text": [
      "Rule: ('GI_14591914-S',) ==> ('GI_16905511-S',) , 1.000\n",
      "Rule: ('GI_14456711-S',) ==> ('GI_14043068-S',) , 1.000\n",
      "Rule: ('GI_14043068-S',) ==> ('GI_14456711-S',) , 1.000\n",
      "Rule: ('GI_14195633-S',) ==> ('GI_11545919-S',) , 1.000\n",
      "Rule: ('GI_11545919-S',) ==> ('GI_14195633-S',) , 1.000\n",
      "Rule: ('GI_13430873-S',) ==> ('GI_14165460-I',) , 1.000\n",
      "Rule: ('GI_16117790-S',) ==> ('GI_16306562-S',) , 1.000\n",
      "Rule: ('GI_14591913-S',) ==> ('GI_14591915-S',) , 1.000\n",
      "Rule: ('GI_14591915-S',) ==> ('GI_14591913-S',) , 1.000\n",
      "Rule: ('GI_13376528-S',) ==> ('GI_10864030-S',) , 1.000\n",
      "Rule: ('GI_13375741-S',) ==> ('GI_14150038-S',) , 1.000\n",
      "Rule: ('GI_14150038-S',) ==> ('GI_13375741-S',) , 1.000\n",
      "Rule: ('GI_14141192-S',) ==> ('GI_16905511-S',) , 1.000\n",
      "Rule: ('GI_12597630-S',) ==> ('GI_12232456-S',) , 1.000\n",
      "Rule: ('GI_12545396-I',) ==> ('GI_14165460-I',) , 1.000\n",
      "Rule: ('GI_15011937-S',) ==> ('GI_16306562-S',) , 1.000\n",
      "Rule: ('GI_13904868-S',) ==> ('GI_16306560-S',) , 1.000\n",
      "Rule: ('GI_16306560-S',) ==> ('GI_13904868-S',) , 1.000\n",
      "Rule: ('GI_13376553-S',) ==> ('GI_12232456-S',) , 1.000\n",
      "Rule: ('GI_10863874-S',) ==> ('GI_15812219-S',) , 1.000\n",
      "Rule: ('GI_15812219-S',) ==> ('GI_10863874-S',) , 1.000\n",
      "Rule: ('GI_16905512-S',) ==> ('GI_16905511-S',) , 1.000\n",
      "Rule: ('GI_13376477-S',) ==> ('GI_11056009-S',) , 1.000\n",
      "Rule: ('GI_15451903-S',) ==> ('GI_14211842-S',) , 1.000\n"
     ]
    }
   ],
   "source": [
    "#print ARs and its corresponding confidence sore\n",
    "printARs(top50_case_ARs)"
   ]
  },
  {
   "cell_type": "code",
   "execution_count": 163,
   "metadata": {
    "collapsed": false
   },
   "outputs": [
    {
     "name": "stdout",
     "output_type": "stream",
     "text": [
      "There are  24  ARs with min confidence > 0.8 among top50 frequent sets in case data.\n"
     ]
    }
   ],
   "source": [
    "print \"There are \", len(top50_case_ARs), \" ARs with min confidence > 0.8 among top50 frequent sets in case data.\""
   ]
  },
  {
   "cell_type": "markdown",
   "metadata": {},
   "source": [
    "###  1.4 with 1000 features: ARs with min confidence > 0.8 for Ctrl data"
   ]
  },
  {
   "cell_type": "code",
   "execution_count": 164,
   "metadata": {
    "collapsed": true
   },
   "outputs": [],
   "source": [
    "# We run apriori algorithm on top50 frequent sets with min confidence as 0.8 for ctrl data(1000 features)\n",
    "# top50_case_ARs stores ARs from top50 frequent sets with min confidenece as 0.8 for ctrl data(1000 features)\n",
    "top50_ctrl_freq_set, top50_ctrl_ARs = generateResult(\"top50ctrl.csv\", 0, 0.8)"
   ]
  },
  {
   "cell_type": "code",
   "execution_count": 165,
   "metadata": {
    "collapsed": false
   },
   "outputs": [
    {
     "name": "stdout",
     "output_type": "stream",
     "text": [
      "Rule: ('GI_14042952-S',) ==> ('GI_12232456-S',) , 1.000\n",
      "Rule: ('GI_15890084-A',) ==> ('GI_11096339-S',) , 1.000\n",
      "Rule: ('GI_11096339-S',) ==> ('GI_15890084-A',) , 1.000\n",
      "Rule: ('GI_13376528-S',) ==> ('GI_13376746-S',) , 1.000\n",
      "Rule: ('GI_13376207-S',) ==> ('GI_14042967-S',) , 1.000\n",
      "Rule: ('GI_13128859-S',) ==> ('GI_11545766-S',) , 1.000\n",
      "Rule: ('GI_14456711-S',) ==> ('GI_14043068-S',) , 1.000\n",
      "Rule: ('GI_14043068-S',) ==> ('GI_14456711-S',) , 1.000\n",
      "Rule: ('GI_10864008-I',) ==> ('GI_12965196-S',) , 1.000\n",
      "Rule: ('GI_12965196-S',) ==> ('GI_10864008-I',) , 1.000\n",
      "Rule: ('GI_11038670-S',) ==> ('GI_11545766-S',) , 1.000\n",
      "Rule: ('GI_14249499-S',) ==> ('GI_12232430-S',) , 1.000\n",
      "Rule: ('GI_16117792-S',) ==> ('GI_14141191-S',) , 1.000\n",
      "Rule: ('GI_13540514-S',) ==> ('GI_13376847-S',) , 1.000\n",
      "Rule: ('GI_13376847-S',) ==> ('GI_13540514-S',) , 1.000\n",
      "Rule: ('GI_16905511-S',) ==> ('GI_15431289-S',) , 1.000\n",
      "Rule: ('GI_15431289-S',) ==> ('GI_16905511-S',) , 1.000\n",
      "Rule: ('GI_14141189-S',) ==> ('GI_13904868-S',) , 1.000\n",
      "Rule: ('GI_13904868-S',) ==> ('GI_14141189-S',) , 1.000\n",
      "Rule: ('GI_13376553-S',) ==> ('GI_14165460-I',) , 1.000\n",
      "Rule: ('GI_11321582-S',) ==> ('GI_12025664-S',) , 1.000\n",
      "Rule: ('GI_13027637-S',) ==> ('GI_16554576-S',) , 1.000\n",
      "Rule: ('GI_13129063-S',) ==> ('GI_13376551-S',) , 1.000\n",
      "Rule: ('GI_13376551-S',) ==> ('GI_13129063-S',) , 1.000\n",
      "Rule: ('GI_16554603-S',) ==> ('GI_14589955-S',) , 1.000\n",
      "Rule: ('GI_15718688-A',) ==> ('GI_16306563-S',) , 1.000\n",
      "Rule: ('GI_16306563-S',) ==> ('GI_15718688-A',) , 1.000\n",
      "Rule: ('GI_15812199-A',) ==> ('GI_14589955-S',) , 1.000\n",
      "Rule: ('GI_13376030-A',) ==> ('GI_13112047-A',) , 1.000\n",
      "Rule: ('GI_13027654-A',) ==> ('GI_12025664-S',) , 1.000\n",
      "Rule: ('GI_13899341-S',) ==> ('GI_13376321-S',) , 1.000\n",
      "Rule: ('GI_11056009-S',) ==> ('GI_13376477-S',) , 1.000\n",
      "Rule: ('GI_13904867-S',) ==> ('GI_14141191-S',) , 1.000\n"
     ]
    }
   ],
   "source": [
    "# print ARs and its corresponding confidence score\n",
    "printARs(top50_ctrl_ARs)"
   ]
  },
  {
   "cell_type": "code",
   "execution_count": 110,
   "metadata": {
    "collapsed": false
   },
   "outputs": [
    {
     "name": "stdout",
     "output_type": "stream",
     "text": [
      "There are  33  ARs with min confidence > 0.8 among top50 frequent sets in control data.\n"
     ]
    }
   ],
   "source": [
    "print \"There are \", len(top50_ctrl_ARs), \" ARs with min confidence > 0.8 among top50 frequent sets in control data.\""
   ]
  },
  {
   "cell_type": "markdown",
   "metadata": {},
   "source": [
    "## Part 2 : With 1800 features"
   ]
  },
  {
   "cell_type": "markdown",
   "metadata": {},
   "source": [
    "###  2.1 with 1800 features:  top50 frequent sets for Case data"
   ]
  },
  {
   "cell_type": "code",
   "execution_count": 111,
   "metadata": {
    "collapsed": false
   },
   "outputs": [],
   "source": [
    "# run Apriori algorithm on case data(1800 features)\n",
    "# return the sorted frequent sets: case_items_support\n",
    "# and sorted ARs: case_fules_confidence\n",
    "case1800_items_support, case1800_rules_confidence = generateResult(\"case1800.csv\",0.06, 0.8)"
   ]
  },
  {
   "cell_type": "code",
   "execution_count": 112,
   "metadata": {
    "collapsed": false
   },
   "outputs": [],
   "source": [
    "# For frequent set\n",
    "# We are not interested in frequent sets containing only one item, \n",
    "#therefore, we will exclude these from the set list\n",
    "interest_case1800_items_support = [item for item in case1800_items_support if len(item[0]) != 1]\n",
    "top_50_case1800 = interest_case1800_items_support[0:50]"
   ]
  },
  {
   "cell_type": "code",
   "execution_count": 113,
   "metadata": {
    "collapsed": false
   },
   "outputs": [
    {
     "data": {
      "text/plain": [
       "[(('GI_17978503-A', 'GI_17978501-A'), 0.09090909090909091),\n",
       " (('GI_18105001-I', 'GI_13376746-S'), 0.08522727272727272),\n",
       " (('GI_13376532-S', 'GI_12232430-S'), 0.08522727272727272),\n",
       " (('GI_20336255-I', 'GI_13376528-S'), 0.08522727272727272),\n",
       " (('GI_20336255-I', 'GI_14916472-S'), 0.08522727272727272),\n",
       " (('GI_19923324-S', 'GI_12545396-I'), 0.08522727272727272),\n",
       " (('GI_20336255-I', 'GI_19924114-I'), 0.08522727272727272),\n",
       " (('GI_20336255-I', 'GI_14249467-I'), 0.08522727272727272),\n",
       " (('GI_18141306-S', 'GI_14249467-I'), 0.08522727272727272),\n",
       " (('GI_14589955-S', 'GI_16753216-A'), 0.08522727272727272),\n",
       " (('GI_14916472-S', 'GI_10864030-S'), 0.08522727272727272),\n",
       " (('GI_13787194-S', 'GI_14165460-I'), 0.08522727272727272),\n",
       " (('GI_13376477-S', 'GI_19743870-I'), 0.08522727272727272),\n",
       " (('GI_20357531-S', 'GI_19923159-S'), 0.08522727272727272),\n",
       " (('GI_15011917-S', 'GI_14589955-S'), 0.08522727272727272),\n",
       " (('GI_20070184-S', 'GI_14165460-I'), 0.08522727272727272),\n",
       " (('GI_20336255-I', 'GI_10864030-S'), 0.08522727272727272),\n",
       " (('GI_19924114-I', 'GI_13376528-S'), 0.08522727272727272),\n",
       " (('GI_20357531-S', 'GI_14165460-I'), 0.08522727272727272),\n",
       " (('GI_19923589-S', 'GI_13376746-S'), 0.08522727272727272),\n",
       " (('GI_10864030-S', 'GI_14249467-I'), 0.08522727272727272),\n",
       " (('GI_11641260-S', 'GI_18490986-S'), 0.08522727272727272),\n",
       " (('GI_20070184-S', 'GI_19923854-S'), 0.08522727272727272),\n",
       " (('GI_13376659-S', 'GI_18141306-S'), 0.08522727272727272),\n",
       " (('GI_20336255-I', 'GI_13376528-S', 'GI_19924114-I'), 0.08522727272727272),\n",
       " (('GI_13375741-S', 'GI_14150038-S'), 0.07954545454545454),\n",
       " (('GI_18141306-S', 'GI_14916472-S'), 0.07954545454545454),\n",
       " (('GI_17105395-S', 'GI_17158043-S'), 0.07954545454545454),\n",
       " (('GI_16579891-A', 'GI_20357538-A'), 0.07954545454545454),\n",
       " (('GI_19743893-I', 'GI_14165460-I'), 0.07954545454545454),\n",
       " (('GI_19111149-S', 'GI_19923829-S'), 0.07954545454545454),\n",
       " (('GI_16306562-S', 'GI_17105393-S'), 0.07954545454545454),\n",
       " (('GI_14456711-S', 'GI_14043068-S'), 0.07954545454545454),\n",
       " (('GI_19923159-S', 'GI_14042952-S'), 0.07954545454545454),\n",
       " (('GI_19923783-S', 'GI_14589955-S'), 0.07954545454545454),\n",
       " (('GI_11056009-S', 'GI_19743870-I'), 0.07954545454545454),\n",
       " (('GI_14165460-I', 'GI_12545396-I'), 0.07954545454545454),\n",
       " (('GI_20070184-S', 'GI_13376553-S'), 0.07954545454545454),\n",
       " (('GI_13376528-S', 'GI_10864030-S'), 0.07954545454545454),\n",
       " (('GI_13540508-S', 'GI_19743893-I'), 0.07954545454545454),\n",
       " (('GI_12232456-S', 'GI_11056009-S'), 0.07954545454545454),\n",
       " (('GI_16905511-S', 'GI_17105395-S'), 0.07954545454545454),\n",
       " (('GI_14165460-I', 'GI_19923854-S'), 0.07954545454545454),\n",
       " (('GI_13376746-S', 'GI_20149601-S'), 0.07954545454545454),\n",
       " (('GI_17105393-S', 'GI_15431298-S'), 0.07954545454545454),\n",
       " (('GI_20070184-S', 'GI_12232456-S'), 0.07954545454545454),\n",
       " (('GI_13904868-S', 'GI_16306560-S'), 0.07954545454545454),\n",
       " (('GI_20357531-S', 'GI_13787194-S'), 0.07954545454545454),\n",
       " (('GI_14589955-S', 'GI_11321582-S'), 0.07954545454545454),\n",
       " (('GI_19924114-I', 'GI_10864030-S'), 0.07954545454545454)]"
      ]
     },
     "execution_count": 113,
     "metadata": {},
     "output_type": "execute_result"
    }
   ],
   "source": [
    "# display top 50 frequent sets for case data with their corresponding support value\n",
    "top_50_case1800"
   ]
  },
  {
   "cell_type": "markdown",
   "metadata": {},
   "source": [
    "### 2.2 with 1800 features:  top50 frequent sets for Ctrl data"
   ]
  },
  {
   "cell_type": "code",
   "execution_count": 114,
   "metadata": {
    "collapsed": true
   },
   "outputs": [],
   "source": [
    "# I repeated the above steps for control data\n",
    "# run Apriori algorithm on control data, return frequent sets and ARs\n",
    "ctrl1800_items_support, ctrl1800_rules_confidence = generateResult(\"ctrl1800.csv\",0.06, 0.8)"
   ]
  },
  {
   "cell_type": "code",
   "execution_count": 115,
   "metadata": {
    "collapsed": true
   },
   "outputs": [],
   "source": [
    "# We are not interested in frequent sets containing only one item, \n",
    "# therefore, we will exclude these from the set list\n",
    "interest_ctrl1800_items_support = [item for item in ctrl1800_items_support if len(item[0]) != 1]\n",
    "top_50_ctrl1800 = interest_ctrl1800_items_support[0:50]"
   ]
  },
  {
   "cell_type": "code",
   "execution_count": 116,
   "metadata": {
    "collapsed": false,
    "scrolled": true
   },
   "outputs": [
    {
     "data": {
      "text/plain": [
       "[(('GI_17978503-A', 'GI_17978501-A'), 0.09042553191489362),\n",
       " (('GI_13376477-S', 'GI_11056009-S'), 0.09042553191489362),\n",
       " (('GI_21237744-A', 'GI_21264573-S'), 0.0851063829787234),\n",
       " (('GI_19924114-I', 'GI_18765737-A'), 0.0851063829787234),\n",
       " (('GI_19923589-S', 'GI_10864030-S'), 0.0851063829787234),\n",
       " (('GI_12025664-S', 'GI_14589955-S'), 0.0851063829787234),\n",
       " (('GI_20336255-I', 'GI_13376746-S'), 0.0851063829787234),\n",
       " (('GI_19924114-I', 'GI_19923854-S'), 0.0851063829787234),\n",
       " (('GI_12232430-S', 'GI_12232456-S'), 0.0851063829787234),\n",
       " (('GI_13376528-S', 'GI_19923854-S'), 0.0851063829787234),\n",
       " (('GI_11641260-S', 'GI_13376659-S'), 0.0851063829787234),\n",
       " (('GI_14249309-S', 'GI_20070320-S'), 0.0851063829787234),\n",
       " (('GI_20070320-S', 'GI_14165460-I'), 0.0851063829787234),\n",
       " (('GI_13376030-A', 'GI_19923334-S'), 0.0797872340425532),\n",
       " (('GI_18141306-S', 'GI_14916472-S'), 0.0797872340425532),\n",
       " (('GI_16554603-S', 'GI_14589955-S'), 0.0797872340425532),\n",
       " (('GI_19743893-I', 'GI_14165460-I'), 0.0797872340425532),\n",
       " (('GI_18105053-S', 'GI_19718771-A'), 0.0797872340425532),\n",
       " (('GI_20336255-I', 'GI_13376528-S'), 0.0797872340425532),\n",
       " (('GI_19743893-I', 'GI_14600335-S'), 0.0797872340425532),\n",
       " (('GI_14165470-S', 'GI_21237729-A'), 0.0797872340425532),\n",
       " (('GI_20336255-I', 'GI_19923854-S'), 0.0797872340425532),\n",
       " (('GI_14456711-S', 'GI_14043068-S'), 0.0797872340425532),\n",
       " (('GI_11321582-S', 'GI_20127469-S'), 0.0797872340425532),\n",
       " (('GI_18765742-S', 'GI_21237729-A'), 0.0797872340425532),\n",
       " (('GI_19923159-S', 'GI_14042952-S'), 0.0797872340425532),\n",
       " (('GI_20336255-I', 'GI_14249467-I'), 0.0797872340425532),\n",
       " (('GI_13787194-S', 'GI_12232456-S'), 0.0797872340425532),\n",
       " (('GI_10864030-S', 'GI_13376746-S'), 0.0797872340425532),\n",
       " (('GI_14165257-S', 'GI_20127566-S'), 0.0797872340425532),\n",
       " (('GI_18105059-I', 'GI_19924114-I'), 0.0797872340425532),\n",
       " (('GI_14916472-S', 'GI_14249467-I'), 0.0797872340425532),\n",
       " (('GI_18765737-A', 'GI_19923854-S'), 0.0797872340425532),\n",
       " (('GI_20070184-S', 'GI_12232456-S'), 0.0797872340425532),\n",
       " (('GI_19743893-I', 'GI_19923589-S'), 0.0797872340425532),\n",
       " (('GI_13376321-S', 'GI_13112047-A'), 0.0797872340425532),\n",
       " (('GI_19743893-I', 'GI_20070320-S'), 0.0797872340425532),\n",
       " (('GI_13128859-S', 'GI_11545766-S'), 0.0797872340425532),\n",
       " (('GI_14600335-S', 'GI_19923589-S'), 0.0797872340425532),\n",
       " (('GI_19923589-S', 'GI_20149601-S'), 0.0797872340425532),\n",
       " (('GI_13112047-A', 'GI_21237729-A'), 0.0797872340425532),\n",
       " (('GI_14249309-S', 'GI_13787194-S'), 0.0797872340425532),\n",
       " (('GI_19743893-I', 'GI_12232456-S'), 0.0797872340425532),\n",
       " (('GI_13376746-S', 'GI_14249467-I'), 0.0797872340425532),\n",
       " (('GI_13376659-S', 'GI_18141306-S'), 0.0797872340425532),\n",
       " (('GI_19923130-S', 'GI_16554576-S'), 0.0797872340425532),\n",
       " (('GI_10800413-S', 'GI_20127469-S'), 0.0797872340425532),\n",
       " (('GI_13376659-S', 'GI_19924114-I'), 0.0797872340425532),\n",
       " (('GI_19923589-S', 'GI_20070320-S'), 0.0797872340425532),\n",
       " (('GI_18105059-I', 'GI_19923854-S'), 0.0797872340425532)]"
      ]
     },
     "execution_count": 116,
     "metadata": {},
     "output_type": "execute_result"
    }
   ],
   "source": [
    "# display top 50 frequent sets for control data with their corresponding support value\n",
    "top_50_ctrl1800"
   ]
  },
  {
   "cell_type": "markdown",
   "metadata": {},
   "source": [
    "### 2.3 with 1800 features:  ARs with min confidence > 0.8 for Case data"
   ]
  },
  {
   "cell_type": "code",
   "execution_count": 117,
   "metadata": {
    "collapsed": false
   },
   "outputs": [],
   "source": [
    "# get top 50 frequent sets for case and ctrl data （1800 features） repectively\n",
    "top_50_case1800_frequent_set = [item[0] for item in top_50_case1800]\n",
    "top_50_ctrl1800_frequent_set = [item[0] for item in top_50_ctrl1800]"
   ]
  },
  {
   "cell_type": "code",
   "execution_count": 118,
   "metadata": {
    "collapsed": true
   },
   "outputs": [],
   "source": [
    "# store top 50 fequent sets for case data(1800 features) into file top50case1800.csv\n",
    "with open(\"top50case1800.csv\",'wb') as file:\n",
    "    for s in top_50_case1800_frequent_set:\n",
    "        file.write(','.join(s))\n",
    "        file.write('\\n')"
   ]
  },
  {
   "cell_type": "code",
   "execution_count": 119,
   "metadata": {
    "collapsed": false
   },
   "outputs": [],
   "source": [
    "# store top 50 fequent sets for ctrl data(1800 features) into file top50ctrl1800.csv\n",
    "with open(\"top50ctrl1800.csv\",'wb') as file:\n",
    "    for s in top_50_ctrl1800_frequent_set:\n",
    "        file.write(','.join(s))\n",
    "        file.write('\\n')"
   ]
  },
  {
   "cell_type": "code",
   "execution_count": 120,
   "metadata": {
    "collapsed": false
   },
   "outputs": [],
   "source": [
    "# We run apriori algorithm on top50 frequent sets with min confidence as 0.8 for case data(1800 features)\n",
    "# top50_case1800_ARs stores ARs from top50 frequent sets with min confidenece as 0.8 for case data(1800 features)\n",
    "top50_case1800_freq_set, top50_case1800_ARs = generateResult(\"top50case1800.csv\", 0, 0.8)"
   ]
  },
  {
   "cell_type": "code",
   "execution_count": 121,
   "metadata": {
    "collapsed": false
   },
   "outputs": [
    {
     "name": "stdout",
     "output_type": "stream",
     "text": [
      "Rule: ('GI_11321582-S',) ==> ('GI_14589955-S',) , 1.000\n",
      "Rule: ('GI_16306562-S',) ==> ('GI_17105393-S',) , 1.000\n",
      "Rule: ('GI_17158043-S',) ==> ('GI_17105395-S',) , 1.000\n",
      "Rule: ('GI_14042952-S',) ==> ('GI_19923159-S',) , 1.000\n",
      "Rule: ('GI_13376659-S',) ==> ('GI_18141306-S',) , 1.000\n",
      "Rule: ('GI_20149601-S',) ==> ('GI_13376746-S',) , 1.000\n",
      "Rule: ('GI_14456711-S',) ==> ('GI_14043068-S',) , 1.000\n",
      "Rule: ('GI_14043068-S',) ==> ('GI_14456711-S',) , 1.000\n",
      "Rule: ('GI_19111149-S',) ==> ('GI_19923829-S',) , 1.000\n",
      "Rule: ('GI_19923829-S',) ==> ('GI_19111149-S',) , 1.000\n",
      "Rule: ('GI_19923783-S',) ==> ('GI_14589955-S',) , 1.000\n",
      "Rule: ('GI_13376553-S',) ==> ('GI_20070184-S',) , 1.000\n",
      "Rule: ('GI_13376477-S',) ==> ('GI_19743870-I',) , 1.000\n",
      "Rule: ('GI_15011917-S',) ==> ('GI_14589955-S',) , 1.000\n",
      "Rule: ('GI_19923589-S',) ==> ('GI_13376746-S',) , 1.000\n",
      "Rule: ('GI_13904868-S',) ==> ('GI_16306560-S',) , 1.000\n",
      "Rule: ('GI_16306560-S',) ==> ('GI_13904868-S',) , 1.000\n",
      "Rule: ('GI_16753216-A',) ==> ('GI_14589955-S',) , 1.000\n",
      "Rule: ('GI_13540508-S',) ==> ('GI_19743893-I',) , 1.000\n",
      "Rule: ('GI_18105001-I',) ==> ('GI_13376746-S',) , 1.000\n",
      "Rule: ('GI_17978503-A',) ==> ('GI_17978501-A',) , 1.000\n",
      "Rule: ('GI_17978501-A',) ==> ('GI_17978503-A',) , 1.000\n",
      "Rule: ('GI_13376532-S',) ==> ('GI_12232430-S',) , 1.000\n",
      "Rule: ('GI_12232430-S',) ==> ('GI_13376532-S',) , 1.000\n",
      "Rule: ('GI_16905511-S',) ==> ('GI_17105395-S',) , 1.000\n",
      "Rule: ('GI_16579891-A',) ==> ('GI_20357538-A',) , 1.000\n",
      "Rule: ('GI_20357538-A',) ==> ('GI_16579891-A',) , 1.000\n",
      "Rule: ('GI_15431298-S',) ==> ('GI_17105393-S',) , 1.000\n",
      "Rule: ('GI_11641260-S',) ==> ('GI_18490986-S',) , 1.000\n",
      "Rule: ('GI_18490986-S',) ==> ('GI_11641260-S',) , 1.000\n",
      "Rule: ('GI_13375741-S',) ==> ('GI_14150038-S',) , 1.000\n",
      "Rule: ('GI_14150038-S',) ==> ('GI_13375741-S',) , 1.000\n",
      "Rule: ('GI_19923324-S',) ==> ('GI_12545396-I',) , 1.000\n"
     ]
    }
   ],
   "source": [
    "#print ARs and its corresponding confidence sore\n",
    "printARs(top50_case1800_ARs)"
   ]
  },
  {
   "cell_type": "markdown",
   "metadata": {},
   "source": [
    "### 2.4 with 1800 features:  ARs with min confidence > 0.8 for Ctrl data"
   ]
  },
  {
   "cell_type": "code",
   "execution_count": 122,
   "metadata": {
    "collapsed": true
   },
   "outputs": [],
   "source": [
    "# We run apriori algorithm on top50 frequent sets with min confidence as 0.8 for ctrl data(1800 features)\n",
    "# top50_ctrl1800_ARs stores ARs from top50 frequent sets with min confidenece as 0.8 for ctrl data(1800 features)\n",
    "top50_ctrl1800_freq_set, top50_ctrl1800_ARs = generateResult(\"top50ctrl1800.csv\", 0, 0.8)"
   ]
  },
  {
   "cell_type": "code",
   "execution_count": 123,
   "metadata": {
    "collapsed": false
   },
   "outputs": [
    {
     "name": "stdout",
     "output_type": "stream",
     "text": [
      "Rule: ('GI_11321582-S',) ==> ('GI_20127469-S',) , 1.000\n",
      "Rule: ('GI_17978503-A',) ==> ('GI_17978501-A',) , 1.000\n",
      "Rule: ('GI_17978501-A',) ==> ('GI_17978503-A',) , 1.000\n",
      "Rule: ('GI_14165470-S',) ==> ('GI_21237729-A',) , 1.000\n",
      "Rule: ('GI_18105053-S',) ==> ('GI_19718771-A',) , 1.000\n",
      "Rule: ('GI_19718771-A',) ==> ('GI_18105053-S',) , 1.000\n",
      "Rule: ('GI_13376321-S',) ==> ('GI_13112047-A',) , 1.000\n",
      "Rule: ('GI_19923159-S',) ==> ('GI_14042952-S',) , 1.000\n",
      "Rule: ('GI_14042952-S',) ==> ('GI_19923159-S',) , 1.000\n",
      "Rule: ('GI_12025664-S',) ==> ('GI_14589955-S',) , 1.000\n",
      "Rule: ('GI_13128859-S',) ==> ('GI_11545766-S',) , 1.000\n",
      "Rule: ('GI_11545766-S',) ==> ('GI_13128859-S',) , 1.000\n",
      "Rule: ('GI_11641260-S',) ==> ('GI_13376659-S',) , 1.000\n",
      "Rule: ('GI_14456711-S',) ==> ('GI_14043068-S',) , 1.000\n",
      "Rule: ('GI_14043068-S',) ==> ('GI_14456711-S',) , 1.000\n",
      "Rule: ('GI_10800413-S',) ==> ('GI_20127469-S',) , 1.000\n",
      "Rule: ('GI_19923130-S',) ==> ('GI_16554576-S',) , 1.000\n",
      "Rule: ('GI_16554576-S',) ==> ('GI_19923130-S',) , 1.000\n",
      "Rule: ('GI_20070184-S',) ==> ('GI_12232456-S',) , 1.000\n",
      "Rule: ('GI_14165257-S',) ==> ('GI_20127566-S',) , 1.000\n",
      "Rule: ('GI_20127566-S',) ==> ('GI_14165257-S',) , 1.000\n",
      "Rule: ('GI_18765742-S',) ==> ('GI_21237729-A',) , 1.000\n",
      "Rule: ('GI_12232430-S',) ==> ('GI_12232456-S',) , 1.000\n",
      "Rule: ('GI_16554603-S',) ==> ('GI_14589955-S',) , 1.000\n",
      "Rule: ('GI_13376030-A',) ==> ('GI_19923334-S',) , 1.000\n",
      "Rule: ('GI_19923334-S',) ==> ('GI_13376030-A',) , 1.000\n",
      "Rule: ('GI_13376477-S',) ==> ('GI_11056009-S',) , 1.000\n",
      "Rule: ('GI_11056009-S',) ==> ('GI_13376477-S',) , 1.000\n",
      "Rule: ('GI_21237744-A',) ==> ('GI_21264573-S',) , 1.000\n",
      "Rule: ('GI_21264573-S',) ==> ('GI_21237744-A',) , 1.000\n",
      "Rule: ('GI_20149601-S',) ==> ('GI_19923589-S',) , 1.000\n"
     ]
    }
   ],
   "source": [
    "# print ARs and its corresponding confidence score\n",
    "printARs(top50_ctrl1800_ARs)"
   ]
  },
  {
   "cell_type": "markdown",
   "metadata": {},
   "source": [
    "# Problem 3\n",
    "Answer the following question: What information does a discovered AR give us? Or, What is the meaning of an AR here?\n"
   ]
  },
  {
   "cell_type": "markdown",
   "metadata": {
    "collapsed": true
   },
   "source": [
    "## Answer\n",
    "Association rules are rules that are above a certain minimum support level and a certain minimum confidence. Support is an indication of how frequently the items appear in the database. Confidence indicates the number of times the if/then statements have been found to be true. Therefore, a discovered AR A => B  means that if we saw A,  we would expect to see B as well with high confidence. \n",
    "In this problem, an AR gene1 => gene2 means that if the gene1 is expressed, there is high confidence that gene2 is expressed too, meaning the expression of gene2 is dependent on the expression on gene1. Gene2 is a redundant feature."
   ]
  },
  {
   "cell_type": "markdown",
   "metadata": {},
   "source": [
    "# Problem 4\n",
    "Design a strategy to identify independent features (genes) and features (genes) that are dependent on the independent features using the result from AR mining.\n",
    "Tip: You only need to describe the main idea and rationale of your strategy, and a pseudo code may help.  The key should be your rationale.\n"
   ]
  },
  {
   "cell_type": "markdown",
   "metadata": {
    "collapsed": true
   },
   "source": [
    "## Answer\n",
    "If A => B, B is a dependent features. If none of the features => A, A is an independt feature.\n",
    "\n",
    "Pseudocode:\n",
    "```code\n",
    "dependent_features = []\n",
    "\n",
    "# in the first loop, we find all independent features\n",
    "for [A, B] in ARs:\n",
    "    dependent_features.append[B]\n",
    "independent_features = all_features exclude dependent_feature.keys\n",
    "\n",
    "# in the second loop, we find dependent features for each independent feature\n",
    "independent_features_dict = {}\n",
    "for [A, B] in ARs:\n",
    "    if A in independent_features:\n",
    "        independent_features[A].append(B)\n",
    "return dependent_feature, independent feature\n",
    "```\n"
   ]
  },
  {
   "cell_type": "markdown",
   "metadata": {},
   "source": [
    "# Problem 5\n",
    "Apply your strategy to the results of 2) above (i.e., ARs (confidence > 80%) from the top 50 most frequent itemsets with support > 5%) and list the independent features and their associated redundant features (genes).\n"
   ]
  },
  {
   "cell_type": "markdown",
   "metadata": {},
   "source": [
    "## Answer\n"
   ]
  },
  {
   "cell_type": "code",
   "execution_count": 1,
   "metadata": {
    "collapsed": false
   },
   "outputs": [],
   "source": [
    "# the function generate independent features and their corresponding dependent features from ARs\n",
    "# return a dictionary: key is independent feature, value is dependent feature\n",
    "def getIndependtAndDepedent(ARs):\n",
    "    all_features = []\n",
    "    dependent_features = []\n",
    "    \n",
    "    # find all features and dependent features in the loop\n",
    "    for ar in ARs:\n",
    "        # a -> b\n",
    "        a = ar[0][0][0] \n",
    "        b = ar[0][1][0]\n",
    "        all_features.append(a)\n",
    "        all_features.append(b) \n",
    "        dependent_features.append(b)\n",
    "    all_features = set(all_features)\n",
    "    dependent_features = set(dependent_features)\n",
    "    \n",
    "    # independent features = all features exclude dependent features\n",
    "    independent_features = [feature for feature in all_features if feature not in dependent_features]\n",
    "    \n",
    "    # find dependent features that depend on each independent features\n",
    "    independent_features_dict = {}\n",
    "    for feature in independent_features:\n",
    "        independent_features_dict[feature] = []\n",
    "    for ar in ARs:\n",
    "        a = ar[0][0][0]\n",
    "        b = ar[0][1][0]\n",
    "        if a in independent_features:\n",
    "            independent_features_dict[a].append(b)\n",
    "    return independent_features_dict"
   ]
  },
  {
   "cell_type": "markdown",
   "metadata": {
    "collapsed": true
   },
   "source": [
    "## Part 1 : With 1000 features"
   ]
  },
  {
   "cell_type": "markdown",
   "metadata": {},
   "source": [
    "### 1.1 with 1000 features: top50 frequent sets for Case data"
   ]
  },
  {
   "cell_type": "code",
   "execution_count": 226,
   "metadata": {
    "collapsed": false
   },
   "outputs": [],
   "source": [
    "top50_case_ARs_independent = getIndependtAndDepedent(top50_case_ARs)"
   ]
  },
  {
   "cell_type": "code",
   "execution_count": 228,
   "metadata": {
    "collapsed": false
   },
   "outputs": [
    {
     "data": {
      "text/plain": [
       "{'GI_12545396-I': ['GI_14165460-I'],\n",
       " 'GI_12597630-S': ['GI_12232456-S'],\n",
       " 'GI_13376477-S': ['GI_11056009-S'],\n",
       " 'GI_13376528-S': ['GI_10864030-S'],\n",
       " 'GI_13376553-S': ['GI_12232456-S'],\n",
       " 'GI_13430873-S': ['GI_14165460-I'],\n",
       " 'GI_14141192-S': ['GI_16905511-S'],\n",
       " 'GI_14591914-S': ['GI_16905511-S'],\n",
       " 'GI_15011937-S': ['GI_16306562-S'],\n",
       " 'GI_15451903-S': ['GI_14211842-S'],\n",
       " 'GI_16117790-S': ['GI_16306562-S'],\n",
       " 'GI_16905512-S': ['GI_16905511-S']}"
      ]
     },
     "execution_count": 228,
     "metadata": {},
     "output_type": "execute_result"
    }
   ],
   "source": [
    "# each line : independent feature : redundant feature\n",
    "# print independent features and their corresponding dependent features \n",
    "# generated from ARs from top 50 frequent sets in case data considering 1000 features\n",
    "top50_case_ARs_independent"
   ]
  },
  {
   "cell_type": "markdown",
   "metadata": {},
   "source": [
    "### 1.2 with 1000 features: top50 frequent sets for Ctrl data"
   ]
  },
  {
   "cell_type": "code",
   "execution_count": 229,
   "metadata": {
    "collapsed": true
   },
   "outputs": [],
   "source": [
    "top50_ctrl_ARs_independent = getIndependtAndDepedent(top50_ctrl_ARs)"
   ]
  },
  {
   "cell_type": "code",
   "execution_count": 230,
   "metadata": {
    "collapsed": false
   },
   "outputs": [
    {
     "data": {
      "text/plain": [
       "{'GI_11038670-S': ['GI_11545766-S'],\n",
       " 'GI_11056009-S': ['GI_13376477-S'],\n",
       " 'GI_11321582-S': ['GI_12025664-S'],\n",
       " 'GI_13027637-S': ['GI_16554576-S'],\n",
       " 'GI_13027654-A': ['GI_12025664-S'],\n",
       " 'GI_13128859-S': ['GI_11545766-S'],\n",
       " 'GI_13376030-A': ['GI_13112047-A'],\n",
       " 'GI_13376207-S': ['GI_14042967-S'],\n",
       " 'GI_13376528-S': ['GI_13376746-S'],\n",
       " 'GI_13376553-S': ['GI_14165460-I'],\n",
       " 'GI_13899341-S': ['GI_13376321-S'],\n",
       " 'GI_13904867-S': ['GI_14141191-S'],\n",
       " 'GI_14042952-S': ['GI_12232456-S'],\n",
       " 'GI_14249499-S': ['GI_12232430-S'],\n",
       " 'GI_15812199-A': ['GI_14589955-S'],\n",
       " 'GI_16117792-S': ['GI_14141191-S'],\n",
       " 'GI_16554603-S': ['GI_14589955-S']}"
      ]
     },
     "execution_count": 230,
     "metadata": {},
     "output_type": "execute_result"
    }
   ],
   "source": [
    "# each line : independent feature : redundant feature\n",
    "# independent features and their corresponding dependent features \n",
    "# for ARs from top 50 frequent sets in ctrl data considering 1000 features\n",
    "top50_ctrl_ARs_independent"
   ]
  },
  {
   "cell_type": "markdown",
   "metadata": {
    "collapsed": true
   },
   "source": [
    "## Part 2 : With 1800 features"
   ]
  },
  {
   "cell_type": "markdown",
   "metadata": {},
   "source": [
    "### 2.1 with 1800 features: top50 frequent sets for Case data"
   ]
  },
  {
   "cell_type": "code",
   "execution_count": 231,
   "metadata": {
    "collapsed": true
   },
   "outputs": [],
   "source": [
    "top50_case1800_ARs_independent = getIndependtAndDepedent(top50_case1800_ARs)"
   ]
  },
  {
   "cell_type": "code",
   "execution_count": 232,
   "metadata": {
    "collapsed": false
   },
   "outputs": [
    {
     "data": {
      "text/plain": [
       "{'GI_11321582-S': ['GI_14589955-S'],\n",
       " 'GI_13376477-S': ['GI_19743870-I'],\n",
       " 'GI_13376553-S': ['GI_20070184-S'],\n",
       " 'GI_13376659-S': ['GI_18141306-S'],\n",
       " 'GI_13540508-S': ['GI_19743893-I'],\n",
       " 'GI_14042952-S': ['GI_19923159-S'],\n",
       " 'GI_15011917-S': ['GI_14589955-S'],\n",
       " 'GI_15431298-S': ['GI_17105393-S'],\n",
       " 'GI_16306562-S': ['GI_17105393-S'],\n",
       " 'GI_16753216-A': ['GI_14589955-S'],\n",
       " 'GI_16905511-S': ['GI_17105395-S'],\n",
       " 'GI_17158043-S': ['GI_17105395-S'],\n",
       " 'GI_18105001-I': ['GI_13376746-S'],\n",
       " 'GI_19923324-S': ['GI_12545396-I'],\n",
       " 'GI_19923589-S': ['GI_13376746-S'],\n",
       " 'GI_19923783-S': ['GI_14589955-S'],\n",
       " 'GI_20149601-S': ['GI_13376746-S']}"
      ]
     },
     "execution_count": 232,
     "metadata": {},
     "output_type": "execute_result"
    }
   ],
   "source": [
    "# each line : independent feature : redundant feature\n",
    "# independent features and their corresponding dependent features \n",
    "# for ARs from top 50 frequent sets in case data considering 1800 features\n",
    "top50_case1800_ARs_independent"
   ]
  },
  {
   "cell_type": "markdown",
   "metadata": {},
   "source": [
    "### 2.2 with 1800 features: top50 frequent sets for Ctrl data"
   ]
  },
  {
   "cell_type": "code",
   "execution_count": 233,
   "metadata": {
    "collapsed": true
   },
   "outputs": [],
   "source": [
    "top50_ctrl1800_ARs_independent = getIndependtAndDepedent(top50_ctrl1800_ARs)"
   ]
  },
  {
   "cell_type": "code",
   "execution_count": 234,
   "metadata": {
    "collapsed": false
   },
   "outputs": [
    {
     "data": {
      "text/plain": [
       "{'GI_10800413-S': ['GI_20127469-S'],\n",
       " 'GI_11321582-S': ['GI_20127469-S'],\n",
       " 'GI_11641260-S': ['GI_13376659-S'],\n",
       " 'GI_12025664-S': ['GI_14589955-S'],\n",
       " 'GI_12232430-S': ['GI_12232456-S'],\n",
       " 'GI_13376321-S': ['GI_13112047-A'],\n",
       " 'GI_14165470-S': ['GI_21237729-A'],\n",
       " 'GI_16554603-S': ['GI_14589955-S'],\n",
       " 'GI_18765742-S': ['GI_21237729-A'],\n",
       " 'GI_20070184-S': ['GI_12232456-S'],\n",
       " 'GI_20149601-S': ['GI_19923589-S']}"
      ]
     },
     "execution_count": 234,
     "metadata": {},
     "output_type": "execute_result"
    }
   ],
   "source": [
    "# each line : independent feature : redundant feature\n",
    "# independent features and their corresponding dependent features \n",
    "# for ARs from top 50 frequent sets in ctrl data considering 1800 features\n",
    "top50_ctrl1800_ARs_independent"
   ]
  }
 ],
 "metadata": {
  "anaconda-cloud": {},
  "kernelspec": {
   "display_name": "Python [Root]",
   "language": "python",
   "name": "Python [Root]"
  },
  "language_info": {
   "codemirror_mode": {
    "name": "ipython",
    "version": 2
   },
   "file_extension": ".py",
   "mimetype": "text/x-python",
   "name": "python",
   "nbconvert_exporter": "python",
   "pygments_lexer": "ipython2",
   "version": "2.7.11"
  }
 },
 "nbformat": 4,
 "nbformat_minor": 0
}
