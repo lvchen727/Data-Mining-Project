{
 "cells": [
  {
   "cell_type": "markdown",
   "metadata": {},
   "source": [
    "# Problem Description"
   ]
  },
  {
   "cell_type": "markdown",
   "metadata": {},
   "source": [
    "All the problems below are about when some snow gooses will come out to play on a particular day, depending on temperature, humidity, light and weather (cloud).  To simplify our problems, let’s just consider the time, which is the target we try to predict, to be in two classes: – (time with the “–” sign for some of the data items below) and + (otherwise).  That is, we want to predict if the gooses will come out early (–) or late (+) based on temperature, humidity, light and weather (cloud).  All the data before 1/11/88 are training examples and all data after that are testing examples.  We can ignore the two days with missing values (on 1/04/88 and 1/06/88)."
   ]
  },
  {
   "cell_type": "markdown",
   "metadata": {},
   "source": [
    "### 0.1 Lest's take a look at data\n",
    "Your first step is to perform an initial study (or inspection) of the given samples (not the test cases), which may include a brief analysis of the distribution of the samples over one attribute or other properties you think that are worthwhile to exam.\n"
   ]
  },
  {
   "cell_type": "code",
   "execution_count": 2,
   "metadata": {
    "collapsed": false
   },
   "outputs": [
    {
     "name": "stdout",
     "output_type": "stream",
     "text": [
      "Dataset has 36 data points with 6 variables each.\n"
     ]
    },
    {
     "name": "stderr",
     "output_type": "stream",
     "text": [
      "/Users/Chen/anaconda2/lib/python2.7/site-packages/ipykernel/pylab/config.py:66: DeprecationWarning: metadata {'config': True} was set from the constructor.  Metadata should be set using the .tag() method, e.g., Int().tag(key1='value1', key2='value2')\n",
      "  inline backend.\"\"\"\n",
      "/Users/Chen/anaconda2/lib/python2.7/site-packages/ipykernel/pylab/config.py:71: DeprecationWarning: metadata {'config': True} was set from the constructor.  Metadata should be set using the .tag() method, e.g., Int().tag(key1='value1', key2='value2')\n",
      "  'retina', 'jpeg', 'svg', 'pdf'.\"\"\")\n",
      "/Users/Chen/anaconda2/lib/python2.7/site-packages/ipykernel/pylab/config.py:85: DeprecationWarning: metadata {'config': True} was set from the constructor.  Metadata should be set using the .tag() method, e.g., Int().tag(key1='value1', key2='value2')\n",
      "  use `figure_formats` instead)\"\"\")\n",
      "/Users/Chen/anaconda2/lib/python2.7/site-packages/ipykernel/pylab/config.py:95: DeprecationWarning: metadata {'config': True} was set from the constructor.  Metadata should be set using the .tag() method, e.g., Int().tag(key1='value1', key2='value2')\n",
      "  \"\"\"\n",
      "/Users/Chen/anaconda2/lib/python2.7/site-packages/ipykernel/pylab/config.py:114: DeprecationWarning: metadata {'config': True} was set from the constructor.  Metadata should be set using the .tag() method, e.g., Int().tag(key1='value1', key2='value2')\n",
      "  \"\"\")\n",
      "/Users/Chen/anaconda2/lib/python2.7/site-packages/ipykernel/pylab/config.py:44: DeprecationWarning: InlineBackend._config_changed is deprecated: use @observe and @unobserve instead.\n",
      "  def _config_changed(self, name, old, new):\n",
      "/Users/Chen/anaconda2/lib/python2.7/site-packages/traitlets/traitlets.py:770: DeprecationWarning: A parent of InlineBackend._config_changed has adopted the new @observe(change) API\n",
      "  clsname, change_or_name), DeprecationWarning)\n",
      "/Users/Chen/anaconda2/lib/python2.7/site-packages/IPython/core/formatters.py:98: DeprecationWarning: DisplayFormatter._formatters_default is deprecated: use @default decorator instead.\n",
      "  def _formatters_default(self):\n",
      "/Users/Chen/anaconda2/lib/python2.7/site-packages/IPython/core/formatters.py:677: DeprecationWarning: PlainTextFormatter._deferred_printers_default is deprecated: use @default decorator instead.\n",
      "  def _deferred_printers_default(self):\n",
      "/Users/Chen/anaconda2/lib/python2.7/site-packages/IPython/core/formatters.py:669: DeprecationWarning: PlainTextFormatter._singleton_printers_default is deprecated: use @default decorator instead.\n",
      "  def _singleton_printers_default(self):\n",
      "/Users/Chen/anaconda2/lib/python2.7/site-packages/IPython/core/formatters.py:672: DeprecationWarning: PlainTextFormatter._type_printers_default is deprecated: use @default decorator instead.\n",
      "  def _type_printers_default(self):\n",
      "/Users/Chen/anaconda2/lib/python2.7/site-packages/IPython/core/formatters.py:672: DeprecationWarning: PlainTextFormatter._type_printers_default is deprecated: use @default decorator instead.\n",
      "  def _type_printers_default(self):\n",
      "/Users/Chen/anaconda2/lib/python2.7/site-packages/IPython/core/formatters.py:677: DeprecationWarning: PlainTextFormatter._deferred_printers_default is deprecated: use @default decorator instead.\n",
      "  def _deferred_printers_default(self):\n",
      "/Users/Chen/anaconda2/lib/python2.7/site-packages/IPython/core/formatters.py:92: DeprecationWarning: DisplayFormatter._ipython_display_formatter_default is deprecated: use @default decorator instead.\n",
      "  def _ipython_display_formatter_default(self):\n",
      "/Users/Chen/anaconda2/lib/python2.7/site-packages/IPython/core/formatters.py:669: DeprecationWarning: PlainTextFormatter._singleton_printers_default is deprecated: use @default decorator instead.\n",
      "  def _singleton_printers_default(self):\n"
     ]
    },
    {
     "data": {
      "text/html": [
       "<div>\n",
       "<table border=\"1\" class=\"dataframe\">\n",
       "  <thead>\n",
       "    <tr style=\"text-align: right;\">\n",
       "      <th></th>\n",
       "      <th>DATE</th>\n",
       "      <th>TIME</th>\n",
       "      <th>TEMP</th>\n",
       "      <th>HUM</th>\n",
       "      <th>LIGHT</th>\n",
       "      <th>CLOUD</th>\n",
       "    </tr>\n",
       "  </thead>\n",
       "  <tbody>\n",
       "    <tr>\n",
       "      <th>0</th>\n",
       "      <td>11/10/87</td>\n",
       "      <td>11</td>\n",
       "      <td>11</td>\n",
       "      <td>78.0</td>\n",
       "      <td>12.6</td>\n",
       "      <td>100</td>\n",
       "    </tr>\n",
       "    <tr>\n",
       "      <th>1</th>\n",
       "      <td>11/13/87</td>\n",
       "      <td>2</td>\n",
       "      <td>11</td>\n",
       "      <td>88.0</td>\n",
       "      <td>10.8</td>\n",
       "      <td>80</td>\n",
       "    </tr>\n",
       "    <tr>\n",
       "      <th>2</th>\n",
       "      <td>11/14/87</td>\n",
       "      <td>-2</td>\n",
       "      <td>11</td>\n",
       "      <td>100.0</td>\n",
       "      <td>9.7</td>\n",
       "      <td>30</td>\n",
       "    </tr>\n",
       "    <tr>\n",
       "      <th>3</th>\n",
       "      <td>11/15/87</td>\n",
       "      <td>-11</td>\n",
       "      <td>20</td>\n",
       "      <td>83.0</td>\n",
       "      <td>12.2</td>\n",
       "      <td>50</td>\n",
       "    </tr>\n",
       "    <tr>\n",
       "      <th>4</th>\n",
       "      <td>11/17/87</td>\n",
       "      <td>-5</td>\n",
       "      <td>8</td>\n",
       "      <td>100.0</td>\n",
       "      <td>14.2</td>\n",
       "      <td>0</td>\n",
       "    </tr>\n",
       "    <tr>\n",
       "      <th>5</th>\n",
       "      <td>11/18/87</td>\n",
       "      <td>2</td>\n",
       "      <td>12</td>\n",
       "      <td>90.0</td>\n",
       "      <td>10.5</td>\n",
       "      <td>90</td>\n",
       "    </tr>\n",
       "    <tr>\n",
       "      <th>6</th>\n",
       "      <td>11/21/87</td>\n",
       "      <td>-6</td>\n",
       "      <td>6</td>\n",
       "      <td>87.0</td>\n",
       "      <td>12.5</td>\n",
       "      <td>30</td>\n",
       "    </tr>\n",
       "    <tr>\n",
       "      <th>7</th>\n",
       "      <td>11/22/87</td>\n",
       "      <td>22</td>\n",
       "      <td>18</td>\n",
       "      <td>82.0</td>\n",
       "      <td>12.9</td>\n",
       "      <td>20</td>\n",
       "    </tr>\n",
       "    <tr>\n",
       "      <th>8</th>\n",
       "      <td>11/23/87</td>\n",
       "      <td>22</td>\n",
       "      <td>19</td>\n",
       "      <td>91.0</td>\n",
       "      <td>12.3</td>\n",
       "      <td>80</td>\n",
       "    </tr>\n",
       "    <tr>\n",
       "      <th>9</th>\n",
       "      <td>11/25/87</td>\n",
       "      <td>21</td>\n",
       "      <td>21</td>\n",
       "      <td>92.0</td>\n",
       "      <td>9.4</td>\n",
       "      <td>100</td>\n",
       "    </tr>\n",
       "  </tbody>\n",
       "</table>\n",
       "</div>"
      ],
      "text/plain": [
       "       DATE  TIME  TEMP    HUM  LIGHT  CLOUD\n",
       "0  11/10/87    11    11   78.0   12.6    100\n",
       "1  11/13/87     2    11   88.0   10.8     80\n",
       "2  11/14/87    -2    11  100.0    9.7     30\n",
       "3  11/15/87   -11    20   83.0   12.2     50\n",
       "4  11/17/87    -5     8  100.0   14.2      0\n",
       "5  11/18/87     2    12   90.0   10.5     90\n",
       "6  11/21/87    -6     6   87.0   12.5     30\n",
       "7  11/22/87    22    18   82.0   12.9     20\n",
       "8  11/23/87    22    19   91.0   12.3     80\n",
       "9  11/25/87    21    21   92.0    9.4    100"
      ]
     },
     "execution_count": 2,
     "metadata": {},
     "output_type": "execute_result"
    }
   ],
   "source": [
    "# Import libraries necessary for this project\n",
    "import numpy as np\n",
    "import pandas as pd\n",
    "from sklearn.cross_validation import ShuffleSplit\n",
    "import matplotlib.pyplot as plt\n",
    "# Pretty display for notebooks\n",
    "%matplotlib inline\n",
    "\n",
    "# Load the data\n",
    "data = pd.read_csv('514_HW1_Data.csv')\n",
    "\n",
    "# Drop missing values\n",
    "data = data.dropna();\n",
    "    \n",
    "# Data Profile\n",
    "print \"Dataset has {} data points with {} variables each.\".format(*data.shape)\n",
    "data.head(n = 10)"
   ]
  },
  {
   "cell_type": "markdown",
   "metadata": {},
   "source": [
    "### 0.2 Calculate some statistics"
   ]
  },
  {
   "cell_type": "code",
   "execution_count": 3,
   "metadata": {
    "collapsed": false
   },
   "outputs": [
    {
     "name": "stdout",
     "output_type": "stream",
     "text": [
      "Statistics for dataset:\n",
      "\n",
      "Minimum TIME: -29.00\n",
      "Maximum TIME: 25.00\n",
      "Mean TIME: -4.36\n",
      "Median TIME -6.50\n",
      "Standard deviation of TIME: 15.29\n"
     ]
    },
    {
     "data": {
      "image/png": "[encoded data removed]",
      "text/plain": [
       "<matplotlib.figure.Figure at 0x10e0f21d0>"
      ]
     },
     "metadata": {},
     "output_type": "display_data"
    }
   ],
   "source": [
    "time = data['TIME']\n",
    "minimum_time = np.min(time)\n",
    "maximum_time = np.max(time)\n",
    "mean_time = np.mean(time)\n",
    "median_time = np.median(time)\n",
    "std_time = np.std(time)\n",
    "plt.hist(time)\n",
    "# Show the calculated statistics\n",
    "print \"Statistics for dataset:\\n\"\n",
    "print \"Minimum TIME: {:,.2f}\".format(minimum_time)\n",
    "print \"Maximum TIME: {:,.2f}\".format(maximum_time)\n",
    "print \"Mean TIME: {:,.2f}\".format(mean_time)\n",
    "print \"Median TIME {:,.2f}\".format(median_time)\n",
    "print \"Standard deviation of TIME: {:,.2f}\".format(std_time)"
   ]
  },
  {
   "cell_type": "markdown",
   "metadata": {},
   "source": [
    "### 0.3. For simplicity, let's set classified data into +1 and -1"
   ]
  },
  {
   "cell_type": "code",
   "execution_count": 4,
   "metadata": {
    "collapsed": true
   },
   "outputs": [],
   "source": [
    "def convert(time):\n",
    "    if time < 0:\n",
    "        return -1;\n",
    "    if time >0:\n",
    "        return 1;"
   ]
  },
  {
   "cell_type": "code",
   "execution_count": 5,
   "metadata": {
    "collapsed": false
   },
   "outputs": [],
   "source": [
    "data['TIME'] = data['TIME'].apply(lambda x: convert(x))"
   ]
  },
  {
   "cell_type": "code",
   "execution_count": 6,
   "metadata": {
    "collapsed": false
   },
   "outputs": [
    {
     "data": {
      "text/html": [
       "<div>\n",
       "<table border=\"1\" class=\"dataframe\">\n",
       "  <thead>\n",
       "    <tr style=\"text-align: right;\">\n",
       "      <th></th>\n",
       "      <th>DATE</th>\n",
       "      <th>TIME</th>\n",
       "      <th>TEMP</th>\n",
       "      <th>HUM</th>\n",
       "      <th>LIGHT</th>\n",
       "      <th>CLOUD</th>\n",
       "    </tr>\n",
       "  </thead>\n",
       "  <tbody>\n",
       "    <tr>\n",
       "      <th>0</th>\n",
       "      <td>11/10/87</td>\n",
       "      <td>1</td>\n",
       "      <td>11</td>\n",
       "      <td>78.0</td>\n",
       "      <td>12.6</td>\n",
       "      <td>100</td>\n",
       "    </tr>\n",
       "    <tr>\n",
       "      <th>1</th>\n",
       "      <td>11/13/87</td>\n",
       "      <td>1</td>\n",
       "      <td>11</td>\n",
       "      <td>88.0</td>\n",
       "      <td>10.8</td>\n",
       "      <td>80</td>\n",
       "    </tr>\n",
       "    <tr>\n",
       "      <th>2</th>\n",
       "      <td>11/14/87</td>\n",
       "      <td>-1</td>\n",
       "      <td>11</td>\n",
       "      <td>100.0</td>\n",
       "      <td>9.7</td>\n",
       "      <td>30</td>\n",
       "    </tr>\n",
       "    <tr>\n",
       "      <th>3</th>\n",
       "      <td>11/15/87</td>\n",
       "      <td>-1</td>\n",
       "      <td>20</td>\n",
       "      <td>83.0</td>\n",
       "      <td>12.2</td>\n",
       "      <td>50</td>\n",
       "    </tr>\n",
       "    <tr>\n",
       "      <th>4</th>\n",
       "      <td>11/17/87</td>\n",
       "      <td>-1</td>\n",
       "      <td>8</td>\n",
       "      <td>100.0</td>\n",
       "      <td>14.2</td>\n",
       "      <td>0</td>\n",
       "    </tr>\n",
       "  </tbody>\n",
       "</table>\n",
       "</div>"
      ],
      "text/plain": [
       "       DATE  TIME  TEMP    HUM  LIGHT  CLOUD\n",
       "0  11/10/87     1    11   78.0   12.6    100\n",
       "1  11/13/87     1    11   88.0   10.8     80\n",
       "2  11/14/87    -1    11  100.0    9.7     30\n",
       "3  11/15/87    -1    20   83.0   12.2     50\n",
       "4  11/17/87    -1     8  100.0   14.2      0"
      ]
     },
     "execution_count": 6,
     "metadata": {},
     "output_type": "execute_result"
    }
   ],
   "source": [
    "data.head()"
   ]
  },
  {
   "cell_type": "markdown",
   "metadata": {},
   "source": [
    "### 0.4. Feature observation\n",
    "* DATE: It is a categorical feature. Not included in the modeling\n",
    "* TEMP: Temperature\n",
    "* HUM: Humidity\n",
    "* LIGHT: Light\n",
    "* CLOUD: Weather\n",
    "We already assume that time depends on temperature, humidity, light and weather(cloud), which make sense. "
   ]
  },
  {
   "cell_type": "markdown",
   "metadata": {},
   "source": [
    "### 0.5. Split data into training data and testing data"
   ]
  },
  {
   "cell_type": "code",
   "execution_count": 7,
   "metadata": {
    "collapsed": false
   },
   "outputs": [],
   "source": [
    "idx = data[data['DATE'] == \"1/11/88\"].index[0]\n",
    "train = data.loc[:idx-1];\n",
    "test = data.loc[idx:];"
   ]
  },
  {
   "cell_type": "code",
   "execution_count": 8,
   "metadata": {
    "collapsed": false
   },
   "outputs": [
    {
     "data": {
      "text/html": [
       "<div>\n",
       "<table border=\"1\" class=\"dataframe\">\n",
       "  <thead>\n",
       "    <tr style=\"text-align: right;\">\n",
       "      <th></th>\n",
       "      <th>DATE</th>\n",
       "      <th>TIME</th>\n",
       "      <th>TEMP</th>\n",
       "      <th>HUM</th>\n",
       "      <th>LIGHT</th>\n",
       "      <th>CLOUD</th>\n",
       "    </tr>\n",
       "  </thead>\n",
       "  <tbody>\n",
       "    <tr>\n",
       "      <th>21</th>\n",
       "      <td>1/3/88</td>\n",
       "      <td>-1</td>\n",
       "      <td>6</td>\n",
       "      <td>60.0</td>\n",
       "      <td>7.6</td>\n",
       "      <td>100</td>\n",
       "    </tr>\n",
       "    <tr>\n",
       "      <th>23</th>\n",
       "      <td>1/5/88</td>\n",
       "      <td>-1</td>\n",
       "      <td>2</td>\n",
       "      <td>92.0</td>\n",
       "      <td>9.0</td>\n",
       "      <td>60</td>\n",
       "    </tr>\n",
       "    <tr>\n",
       "      <th>25</th>\n",
       "      <td>1/7/88</td>\n",
       "      <td>-1</td>\n",
       "      <td>2</td>\n",
       "      <td>96.0</td>\n",
       "      <td>7.1</td>\n",
       "      <td>100</td>\n",
       "    </tr>\n",
       "    <tr>\n",
       "      <th>26</th>\n",
       "      <td>1/8/88</td>\n",
       "      <td>-1</td>\n",
       "      <td>0</td>\n",
       "      <td>83.0</td>\n",
       "      <td>3.9</td>\n",
       "      <td>100</td>\n",
       "    </tr>\n",
       "    <tr>\n",
       "      <th>27</th>\n",
       "      <td>1/10/88</td>\n",
       "      <td>-1</td>\n",
       "      <td>-4</td>\n",
       "      <td>88.0</td>\n",
       "      <td>8.1</td>\n",
       "      <td>20</td>\n",
       "    </tr>\n",
       "  </tbody>\n",
       "</table>\n",
       "</div>"
      ],
      "text/plain": [
       "       DATE  TIME  TEMP   HUM  LIGHT  CLOUD\n",
       "21   1/3/88    -1     6  60.0    7.6    100\n",
       "23   1/5/88    -1     2  92.0    9.0     60\n",
       "25   1/7/88    -1     2  96.0    7.1    100\n",
       "26   1/8/88    -1     0  83.0    3.9    100\n",
       "27  1/10/88    -1    -4  88.0    8.1     20"
      ]
     },
     "execution_count": 8,
     "metadata": {},
     "output_type": "execute_result"
    }
   ],
   "source": [
    "train.tail()"
   ]
  },
  {
   "cell_type": "code",
   "execution_count": 9,
   "metadata": {
    "collapsed": false
   },
   "outputs": [
    {
     "data": {
      "text/html": [
       "<div>\n",
       "<table border=\"1\" class=\"dataframe\">\n",
       "  <thead>\n",
       "    <tr style=\"text-align: right;\">\n",
       "      <th></th>\n",
       "      <th>DATE</th>\n",
       "      <th>TIME</th>\n",
       "      <th>TEMP</th>\n",
       "      <th>HUM</th>\n",
       "      <th>LIGHT</th>\n",
       "      <th>CLOUD</th>\n",
       "    </tr>\n",
       "  </thead>\n",
       "  <tbody>\n",
       "    <tr>\n",
       "      <th>28</th>\n",
       "      <td>1/11/88</td>\n",
       "      <td>-1</td>\n",
       "      <td>-2</td>\n",
       "      <td>80.0</td>\n",
       "      <td>10.3</td>\n",
       "      <td>10</td>\n",
       "    </tr>\n",
       "    <tr>\n",
       "      <th>29</th>\n",
       "      <td>1/12/88</td>\n",
       "      <td>1</td>\n",
       "      <td>5</td>\n",
       "      <td>80.0</td>\n",
       "      <td>9.0</td>\n",
       "      <td>95</td>\n",
       "    </tr>\n",
       "    <tr>\n",
       "      <th>30</th>\n",
       "      <td>1/14/88</td>\n",
       "      <td>-1</td>\n",
       "      <td>5</td>\n",
       "      <td>61.0</td>\n",
       "      <td>5.1</td>\n",
       "      <td>95</td>\n",
       "    </tr>\n",
       "    <tr>\n",
       "      <th>31</th>\n",
       "      <td>1/15/88</td>\n",
       "      <td>-1</td>\n",
       "      <td>8</td>\n",
       "      <td>81.0</td>\n",
       "      <td>7.4</td>\n",
       "      <td>100</td>\n",
       "    </tr>\n",
       "    <tr>\n",
       "      <th>32</th>\n",
       "      <td>1/16/88</td>\n",
       "      <td>1</td>\n",
       "      <td>15</td>\n",
       "      <td>100.0</td>\n",
       "      <td>7.9</td>\n",
       "      <td>100</td>\n",
       "    </tr>\n",
       "  </tbody>\n",
       "</table>\n",
       "</div>"
      ],
      "text/plain": [
       "       DATE  TIME  TEMP    HUM  LIGHT  CLOUD\n",
       "28  1/11/88    -1    -2   80.0   10.3     10\n",
       "29  1/12/88     1     5   80.0    9.0     95\n",
       "30  1/14/88    -1     5   61.0    5.1     95\n",
       "31  1/15/88    -1     8   81.0    7.4    100\n",
       "32  1/16/88     1    15  100.0    7.9    100"
      ]
     },
     "execution_count": 9,
     "metadata": {},
     "output_type": "execute_result"
    }
   ],
   "source": [
    "test.head(n = 5)"
   ]
  },
  {
   "cell_type": "markdown",
   "metadata": {},
   "source": [
    "## Problem 1\n",
    "Build models for the given the training data for the snow gooses, using\n",
    "1.\tLogistic regression;\n",
    "2.\tK Nearest Neighbors with k = 1, 3 and 5;\n",
    "3.\tCompare these four models in terms of number of false prediction on the testing data. Briefly discuss why these models work or do not work well on the test cases.\n",
    "\n"
   ]
  },
  {
   "cell_type": "markdown",
   "metadata": {},
   "source": [
    "### 1.1 Develop a model and its performance on training data"
   ]
  },
  {
   "cell_type": "code",
   "execution_count": 10,
   "metadata": {
    "collapsed": true
   },
   "outputs": [],
   "source": [
    "X = data[['TEMP','HUM','LIGHT','CLOUD']];\n",
    "y = data['TIME'];"
   ]
  },
  {
   "cell_type": "code",
   "execution_count": 11,
   "metadata": {
    "collapsed": false
   },
   "outputs": [],
   "source": [
    "train_y = train['TIME'];\n",
    "train_X = train[['TEMP','HUM','LIGHT','CLOUD']];"
   ]
  },
  {
   "cell_type": "code",
   "execution_count": 13,
   "metadata": {
    "collapsed": false
   },
   "outputs": [
    {
     "data": {
      "text/html": [
       "<div>\n",
       "<table border=\"1\" class=\"dataframe\">\n",
       "  <thead>\n",
       "    <tr style=\"text-align: right;\">\n",
       "      <th></th>\n",
       "      <th>TEMP</th>\n",
       "      <th>HUM</th>\n",
       "      <th>LIGHT</th>\n",
       "      <th>CLOUD</th>\n",
       "    </tr>\n",
       "  </thead>\n",
       "  <tbody>\n",
       "    <tr>\n",
       "      <th>0</th>\n",
       "      <td>11</td>\n",
       "      <td>78.0</td>\n",
       "      <td>12.6</td>\n",
       "      <td>100</td>\n",
       "    </tr>\n",
       "    <tr>\n",
       "      <th>1</th>\n",
       "      <td>11</td>\n",
       "      <td>88.0</td>\n",
       "      <td>10.8</td>\n",
       "      <td>80</td>\n",
       "    </tr>\n",
       "    <tr>\n",
       "      <th>2</th>\n",
       "      <td>11</td>\n",
       "      <td>100.0</td>\n",
       "      <td>9.7</td>\n",
       "      <td>30</td>\n",
       "    </tr>\n",
       "    <tr>\n",
       "      <th>3</th>\n",
       "      <td>20</td>\n",
       "      <td>83.0</td>\n",
       "      <td>12.2</td>\n",
       "      <td>50</td>\n",
       "    </tr>\n",
       "    <tr>\n",
       "      <th>4</th>\n",
       "      <td>8</td>\n",
       "      <td>100.0</td>\n",
       "      <td>14.2</td>\n",
       "      <td>0</td>\n",
       "    </tr>\n",
       "    <tr>\n",
       "      <th>5</th>\n",
       "      <td>12</td>\n",
       "      <td>90.0</td>\n",
       "      <td>10.5</td>\n",
       "      <td>90</td>\n",
       "    </tr>\n",
       "    <tr>\n",
       "      <th>6</th>\n",
       "      <td>6</td>\n",
       "      <td>87.0</td>\n",
       "      <td>12.5</td>\n",
       "      <td>30</td>\n",
       "    </tr>\n",
       "    <tr>\n",
       "      <th>7</th>\n",
       "      <td>18</td>\n",
       "      <td>82.0</td>\n",
       "      <td>12.9</td>\n",
       "      <td>20</td>\n",
       "    </tr>\n",
       "    <tr>\n",
       "      <th>8</th>\n",
       "      <td>19</td>\n",
       "      <td>91.0</td>\n",
       "      <td>12.3</td>\n",
       "      <td>80</td>\n",
       "    </tr>\n",
       "    <tr>\n",
       "      <th>9</th>\n",
       "      <td>21</td>\n",
       "      <td>92.0</td>\n",
       "      <td>9.4</td>\n",
       "      <td>100</td>\n",
       "    </tr>\n",
       "    <tr>\n",
       "      <th>10</th>\n",
       "      <td>10</td>\n",
       "      <td>90.0</td>\n",
       "      <td>11.7</td>\n",
       "      <td>60</td>\n",
       "    </tr>\n",
       "    <tr>\n",
       "      <th>11</th>\n",
       "      <td>18</td>\n",
       "      <td>85.0</td>\n",
       "      <td>11.8</td>\n",
       "      <td>40</td>\n",
       "    </tr>\n",
       "    <tr>\n",
       "      <th>12</th>\n",
       "      <td>20</td>\n",
       "      <td>93.0</td>\n",
       "      <td>11.1</td>\n",
       "      <td>95</td>\n",
       "    </tr>\n",
       "    <tr>\n",
       "      <th>13</th>\n",
       "      <td>14</td>\n",
       "      <td>92.0</td>\n",
       "      <td>8.3</td>\n",
       "      <td>90</td>\n",
       "    </tr>\n",
       "    <tr>\n",
       "      <th>14</th>\n",
       "      <td>19</td>\n",
       "      <td>96.0</td>\n",
       "      <td>12.0</td>\n",
       "      <td>40</td>\n",
       "    </tr>\n",
       "    <tr>\n",
       "      <th>15</th>\n",
       "      <td>13</td>\n",
       "      <td>100.0</td>\n",
       "      <td>11.3</td>\n",
       "      <td>100</td>\n",
       "    </tr>\n",
       "    <tr>\n",
       "      <th>16</th>\n",
       "      <td>3</td>\n",
       "      <td>96.0</td>\n",
       "      <td>4.8</td>\n",
       "      <td>100</td>\n",
       "    </tr>\n",
       "    <tr>\n",
       "      <th>17</th>\n",
       "      <td>4</td>\n",
       "      <td>86.0</td>\n",
       "      <td>6.9</td>\n",
       "      <td>100</td>\n",
       "    </tr>\n",
       "    <tr>\n",
       "      <th>18</th>\n",
       "      <td>3</td>\n",
       "      <td>89.0</td>\n",
       "      <td>7.1</td>\n",
       "      <td>40</td>\n",
       "    </tr>\n",
       "    <tr>\n",
       "      <th>19</th>\n",
       "      <td>15</td>\n",
       "      <td>93.0</td>\n",
       "      <td>8.1</td>\n",
       "      <td>95</td>\n",
       "    </tr>\n",
       "    <tr>\n",
       "      <th>20</th>\n",
       "      <td>15</td>\n",
       "      <td>43.0</td>\n",
       "      <td>6.9</td>\n",
       "      <td>100</td>\n",
       "    </tr>\n",
       "    <tr>\n",
       "      <th>21</th>\n",
       "      <td>6</td>\n",
       "      <td>60.0</td>\n",
       "      <td>7.6</td>\n",
       "      <td>100</td>\n",
       "    </tr>\n",
       "    <tr>\n",
       "      <th>23</th>\n",
       "      <td>2</td>\n",
       "      <td>92.0</td>\n",
       "      <td>9.0</td>\n",
       "      <td>60</td>\n",
       "    </tr>\n",
       "    <tr>\n",
       "      <th>25</th>\n",
       "      <td>2</td>\n",
       "      <td>96.0</td>\n",
       "      <td>7.1</td>\n",
       "      <td>100</td>\n",
       "    </tr>\n",
       "    <tr>\n",
       "      <th>26</th>\n",
       "      <td>0</td>\n",
       "      <td>83.0</td>\n",
       "      <td>3.9</td>\n",
       "      <td>100</td>\n",
       "    </tr>\n",
       "    <tr>\n",
       "      <th>27</th>\n",
       "      <td>-4</td>\n",
       "      <td>88.0</td>\n",
       "      <td>8.1</td>\n",
       "      <td>20</td>\n",
       "    </tr>\n",
       "  </tbody>\n",
       "</table>\n",
       "</div>"
      ],
      "text/plain": [
       "    TEMP    HUM  LIGHT  CLOUD\n",
       "0     11   78.0   12.6    100\n",
       "1     11   88.0   10.8     80\n",
       "2     11  100.0    9.7     30\n",
       "3     20   83.0   12.2     50\n",
       "4      8  100.0   14.2      0\n",
       "5     12   90.0   10.5     90\n",
       "6      6   87.0   12.5     30\n",
       "7     18   82.0   12.9     20\n",
       "8     19   91.0   12.3     80\n",
       "9     21   92.0    9.4    100\n",
       "10    10   90.0   11.7     60\n",
       "11    18   85.0   11.8     40\n",
       "12    20   93.0   11.1     95\n",
       "13    14   92.0    8.3     90\n",
       "14    19   96.0   12.0     40\n",
       "15    13  100.0   11.3    100\n",
       "16     3   96.0    4.8    100\n",
       "17     4   86.0    6.9    100\n",
       "18     3   89.0    7.1     40\n",
       "19    15   93.0    8.1     95\n",
       "20    15   43.0    6.9    100\n",
       "21     6   60.0    7.6    100\n",
       "23     2   92.0    9.0     60\n",
       "25     2   96.0    7.1    100\n",
       "26     0   83.0    3.9    100\n",
       "27    -4   88.0    8.1     20"
      ]
     },
     "execution_count": 13,
     "metadata": {},
     "output_type": "execute_result"
    }
   ],
   "source": [
    "train_X"
   ]
  },
  {
   "cell_type": "markdown",
   "metadata": {},
   "source": [
    "### 1.1.1 Logistic regression"
   ]
  },
  {
   "cell_type": "code",
   "execution_count": 304,
   "metadata": {
    "collapsed": false
   },
   "outputs": [
    {
     "name": "stdout",
     "output_type": "stream",
     "text": [
      "Accuracy of logistic regression on training data is 0.85\n"
     ]
    }
   ],
   "source": [
    "# instantiate a logistic regression model, and fit with X and y\n",
    "from sklearn.linear_model import LogisticRegression\n",
    "logistic_model = LogisticRegression()\n",
    "logistic_model = logistic_model.fit(train_X,train_y)\n",
    "\n",
    "# check the accuracy on the training set\n",
    "print \"Accuracy of logistic regression on training data is {:,.2f}\".format(logistic_model.score(train_X, train_y))"
   ]
  },
  {
   "cell_type": "markdown",
   "metadata": {},
   "source": [
    "### 1.1.2. K Nearest Neighbors with k = 1, 3 and 5"
   ]
  },
  {
   "cell_type": "markdown",
   "metadata": {},
   "source": [
    "#### k = 1"
   ]
  },
  {
   "cell_type": "code",
   "execution_count": 305,
   "metadata": {
    "collapsed": false
   },
   "outputs": [
    {
     "name": "stdout",
     "output_type": "stream",
     "text": [
      "Accuracy of KNN(k=1) on training data is 1.00\n"
     ]
    }
   ],
   "source": [
    "from sklearn.neighbors import KNeighborsClassifier\n",
    "one_neigh_model = KNeighborsClassifier(n_neighbors=1)\n",
    "one_neigh_model.fit(train_X,train_y)\n",
    "one_neigh_model.score(train_X,train_y)\n",
    "print \"Accuracy of KNN(k=1) on training data is {:,.2f}\".format(one_neigh_model.score(train_X,train_y))"
   ]
  },
  {
   "cell_type": "markdown",
   "metadata": {},
   "source": [
    "#### k = 3"
   ]
  },
  {
   "cell_type": "code",
   "execution_count": 306,
   "metadata": {
    "collapsed": false
   },
   "outputs": [
    {
     "name": "stdout",
     "output_type": "stream",
     "text": [
      "Accuracy of KNN(k=3) on training data is 0.85\n"
     ]
    }
   ],
   "source": [
    "from sklearn.neighbors import KNeighborsClassifier\n",
    "three_neigh_model = KNeighborsClassifier(n_neighbors=3)\n",
    "three_neigh_model.fit(train_X,train_y)\n",
    "three_neigh_model.score(train_X,train_y)\n",
    "print \"Accuracy of KNN(k=3) on training data is {:,.2f}\".format(three_neigh_model.score(train_X,train_y))"
   ]
  },
  {
   "cell_type": "markdown",
   "metadata": {},
   "source": [
    "#### k = 5"
   ]
  },
  {
   "cell_type": "code",
   "execution_count": 307,
   "metadata": {
    "collapsed": false
   },
   "outputs": [
    {
     "name": "stdout",
     "output_type": "stream",
     "text": [
      "Accuracy of KNN(k=5) on training data is 0.73\n"
     ]
    }
   ],
   "source": [
    "from sklearn.neighbors import KNeighborsClassifier\n",
    "five_neigh_model = KNeighborsClassifier(n_neighbors=5)\n",
    "five_neigh_model.fit(train_X,train_y)\n",
    "five_neigh_model.score(train_X,train_y)\n",
    "print \"Accuracy of KNN(k=5) on training data is {:,.2f}\".format(five_neigh_model.score(train_X,train_y))"
   ]
  },
  {
   "cell_type": "markdown",
   "metadata": {},
   "source": [
    "### 1.2 Model Comparison\n",
    "Compare these four models in terms of number of false prediction on the testing data. Briefly discuss why these models work or do not work well on the test cases.\n"
   ]
  },
  {
   "cell_type": "code",
   "execution_count": 270,
   "metadata": {
    "collapsed": true
   },
   "outputs": [],
   "source": [
    "test_y = test['TIME'];\n",
    "test_X = test[['TEMP','HUM','LIGHT','CLOUD']];"
   ]
  },
  {
   "cell_type": "markdown",
   "metadata": {},
   "source": [
    "### 1.2.1 Predictions of 4 models on test data"
   ]
  },
  {
   "cell_type": "code",
   "execution_count": 280,
   "metadata": {
    "collapsed": true
   },
   "outputs": [],
   "source": [
    "predict1 = logistic_model.predict(test_X)\n",
    "predict2 = one_neigh_model.predict(test_X)\n",
    "predict3 = three_neigh_model.predict(test_X)\n",
    "predict4 = five_neigh_model.predict(test_X)"
   ]
  },
  {
   "cell_type": "code",
   "execution_count": 338,
   "metadata": {
    "collapsed": false
   },
   "outputs": [
    {
     "name": "stdout",
     "output_type": "stream",
     "text": [
      "Logistic regression prediction on testing data:  [-1 -1 -1 -1 -1 -1 -1 -1 -1 -1]\n",
      "KNN(k=1) prediction on testing data:  [-1 -1 -1 -1  1  1 -1 -1 -1 -1]\n",
      "KNN(k=3) prediction on testing data:  [-1 -1 -1 -1  1 -1 -1 -1 -1 -1]\n",
      "KNN(k=5) prediction on testing data:  [-1  1 -1 -1  1 -1 -1 -1 -1 -1]\n"
     ]
    }
   ],
   "source": [
    "print \"Logistic regression prediction on testing data: \", predict1\n",
    "print \"KNN(k=1) prediction on testing data: \", predict2\n",
    "print \"KNN(k=3) prediction on testing data: \", predict3\n",
    "print \"KNN(k=5) prediction on testing data: \", predict4"
   ]
  },
  {
   "cell_type": "markdown",
   "metadata": {},
   "source": [
    "### 1.2.2 Performance of 4 models on  test data"
   ]
  },
  {
   "cell_type": "code",
   "execution_count": 308,
   "metadata": {
    "collapsed": false
   },
   "outputs": [
    {
     "name": "stdout",
     "output_type": "stream",
     "text": [
      "Accuracy of logistic regression on testing data is 0.80\n"
     ]
    }
   ],
   "source": [
    "from sklearn import metrics\n",
    "print \"Accuracy of logistic regression on testing data is {:,.2f}\".format(metrics.accuracy_score(test_y, predict1))"
   ]
  },
  {
   "cell_type": "code",
   "execution_count": 309,
   "metadata": {
    "collapsed": false
   },
   "outputs": [
    {
     "name": "stdout",
     "output_type": "stream",
     "text": [
      "Accuracy of 1NN on testing data is 0.80\n"
     ]
    }
   ],
   "source": [
    "print \"Accuracy of 1NN on testing data is {:,.2f}\".format(metrics.accuracy_score(test_y, predict2))"
   ]
  },
  {
   "cell_type": "code",
   "execution_count": 310,
   "metadata": {
    "collapsed": false
   },
   "outputs": [
    {
     "name": "stdout",
     "output_type": "stream",
     "text": [
      "Accuracy of 3NN on testing data is 0.90\n"
     ]
    }
   ],
   "source": [
    "print \"Accuracy of 3NN on testing data is {:,.2f}\".format(metrics.accuracy_score(test_y, predict3))"
   ]
  },
  {
   "cell_type": "code",
   "execution_count": 311,
   "metadata": {
    "collapsed": false
   },
   "outputs": [
    {
     "name": "stdout",
     "output_type": "stream",
     "text": [
      "Accuracy of 5NN on testing data is 1.00\n"
     ]
    }
   ],
   "source": [
    "print \"Accuracy of 5NN on testing data is {:,.2f}\".format(metrics.accuracy_score(test_y, predict4))"
   ]
  },
  {
   "cell_type": "markdown",
   "metadata": {},
   "source": [
    "### 1.2.3 False count of 4 models on test data"
   ]
  },
  {
   "cell_type": "code",
   "execution_count": 286,
   "metadata": {
    "collapsed": false
   },
   "outputs": [],
   "source": [
    "def countFalse(predict, y):\n",
    "    count = 0\n",
    "    for p1, y1 in zip(list(predict), list(y)):\n",
    "        count += p1 != y1\n",
    "    return count"
   ]
  },
  {
   "cell_type": "code",
   "execution_count": 287,
   "metadata": {
    "collapsed": false
   },
   "outputs": [],
   "source": [
    "count1 = countFalse(test_y, predict1)\n",
    "count2 = countFalse(test_y, predict2)\n",
    "count3 = countFalse(test_y, predict3)\n",
    "count4 = countFalse(test_y, predict4)"
   ]
  },
  {
   "cell_type": "code",
   "execution_count": 288,
   "metadata": {
    "collapsed": false
   },
   "outputs": [
    {
     "name": "stdout",
     "output_type": "stream",
     "text": [
      "False Count of logistic regression on testing data is 2\n",
      "False Count of 1NN on testing data is 2\n",
      "False Count of 3NN on testing data is 1\n",
      "False Count of 5NN on testing data is 0\n"
     ]
    }
   ],
   "source": [
    "print \"False Count of logistic regression on testing data is {:,}\".format(count1)\n",
    "print \"False Count of 1NN on testing data is {:,}\".format(count2)\n",
    "print \"False Count of 3NN on testing data is {:,}\".format(count3)\n",
    "print \"False Count of 5NN on testing data is {:,}\".format(count4)"
   ]
  },
  {
   "cell_type": "markdown",
   "metadata": {},
   "source": [
    "### 1.2.4 Explanation on model comparison"
   ]
  },
  {
   "cell_type": "markdown",
   "metadata": {},
   "source": [
    "Since the size of dataset is so small, it is hard to see the contrast difference among the models. Based on the testing errors, 5NN has the best performance among the four models with an accuracy of 100% for testing data（0 False count）; 3NN ranked second with 90% accuracy on testing data (1 False count). On the other hand, 1NN and logistic regression performed worse with 80% accuracy on testing data (2 False count).\n",
    "\n",
    "The logistic regression does not perform best because we do not have enough data to train the model and estimate parameters. Logistic Regression usually requires large amount of data to train the model to estimate the parameters.It works well with numerical features and binary labels. Since the train data is pretty small, the logistic regression model was not performing well on the unseen data. \n",
    "\n",
    "KNN is often prefered when the dependent variable y is categority. KNN is a completely non-parametric lazy learning approach: no assumptions are made about the shape of the decision boundary. Therefore, we can expect this approach to dominate logistic regression when the decision boundary is highly non-linear. Also, KNN does not tell us which predictors are important, we just do the majority voting depending on the predictions given by K different labels. It is quite obvious that the accuracy may increase when we increase k, which is supported by the result."
   ]
  },
  {
   "cell_type": "markdown",
   "metadata": {},
   "source": [
    "## Problem 2\n",
    "Build models for the given the training data for the snow gooses, using\n",
    "1.\tDecision Trees with and without tree pruning (criterion for pruning: each leaf node must have no less than 3 samples; (remember we discussed two versions of DTs. Make it clear which one you use and why.)\n",
    "2.\tRandom Forest with 20 Decision Trees (criterion for generating boostrap datasets: 70% of attributes and 70% samples)\n",
    "3.\tSVM\n",
    "4.\tCompare these three models in terms of number of false prediction on the testing data. Briefly discuss why these models work or do not work well on the test cases.\n"
   ]
  },
  {
   "cell_type": "markdown",
   "metadata": {},
   "source": [
    "### 2.1 Develop a model and its performance on training data"
   ]
  },
  {
   "cell_type": "markdown",
   "metadata": {},
   "source": [
    "### 2.1.1 Decision Tree "
   ]
  },
  {
   "cell_type": "markdown",
   "metadata": {},
   "source": [
    "#### Decision Tree (Without pruning)"
   ]
  },
  {
   "cell_type": "code",
   "execution_count": 347,
   "metadata": {
    "collapsed": false
   },
   "outputs": [
    {
     "name": "stdout",
     "output_type": "stream",
     "text": [
      "Accuracy of decision tree(without pruning) on training data is 1.00\n"
     ]
    }
   ],
   "source": [
    "from sklearn import tree\n",
    "decision_tree_without_pruning_model = tree.DecisionTreeClassifier()\n",
    "decision_tree_without_pruning_model = decision_tree_without_pruning_model.fit(train_X,train_y)\n",
    "\n",
    "# check the accuracy on the training set\n",
    "print \"Accuracy of decision tree(without pruning) on training data is {:,.2f}\".format(decision_tree_without_pruning_model.score(train_X, train_y))"
   ]
  },
  {
   "cell_type": "markdown",
   "metadata": {},
   "source": [
    "#### Decision Tree (With pruning)"
   ]
  },
  {
   "cell_type": "code",
   "execution_count": 348,
   "metadata": {
    "collapsed": false
   },
   "outputs": [
    {
     "name": "stdout",
     "output_type": "stream",
     "text": [
      "Accuracy of decision tree(with pruning) on training data is 0.88\n"
     ]
    }
   ],
   "source": [
    "decision_tree_with_pruning_model = tree.DecisionTreeClassifier(min_samples_leaf = 3)\n",
    "decision_tree_with_pruning_model = decision_tree_with_pruning_model.fit(train_X,train_y)\n",
    "\n",
    "# check the accuracy on the training set\n",
    "print \"Accuracy of decision tree(with pruning) on training data is {:,.2f}\".format(decision_tree_with_pruning_model.score(train_X, train_y))"
   ]
  },
  {
   "cell_type": "markdown",
   "metadata": {},
   "source": [
    "### 2.1.2 Random Forest (20 Decision Trees)"
   ]
  },
  {
   "cell_type": "code",
   "execution_count": 349,
   "metadata": {
    "collapsed": false
   },
   "outputs": [
    {
     "name": "stdout",
     "output_type": "stream",
     "text": [
      "Accuracy of Random Forest on training data is 1.00\n"
     ]
    }
   ],
   "source": [
    "from sklearn.ensemble import RandomForestClassifier\n",
    "random_forest_model = RandomForestClassifier(bootstrap = True, \n",
    "                                             n_estimators = 20, \n",
    "                                             max_features = 0.7,\n",
    "                                            min_samples_split = 0.7)\n",
    "random_forest_model= random_forest_model.fit(train_X,train_y)\n",
    "print \"Accuracy of Random Forest on training data is {:,.2f}\".format(random_forest_model.score(train_X, train_y))"
   ]
  },
  {
   "cell_type": "markdown",
   "metadata": {},
   "source": [
    "### 2.1.3  SVM"
   ]
  },
  {
   "cell_type": "code",
   "execution_count": 350,
   "metadata": {
    "collapsed": false
   },
   "outputs": [
    {
     "name": "stdout",
     "output_type": "stream",
     "text": [
      "Accuracy of SVM on training data is 1.00\n"
     ]
    }
   ],
   "source": [
    "from sklearn import svm\n",
    "svm_model = svm.SVC()\n",
    "svm_model = svm_model.fit(train_X,train_y)\n",
    "print \"Accuracy of SVM on training data is {:,.2f}\".format(svm_model.score(train_X, train_y))"
   ]
  },
  {
   "cell_type": "markdown",
   "metadata": {},
   "source": [
    "### 2.2 Model Comparison\n",
    "Compare these four models in terms of number of false prediction on the testing data. Briefly discuss why these models work or do not work well on the test cases.\n"
   ]
  },
  {
   "cell_type": "markdown",
   "metadata": {},
   "source": [
    "### 2.2.1 Predictions of 4 models on test data"
   ]
  },
  {
   "cell_type": "code",
   "execution_count": 351,
   "metadata": {
    "collapsed": false
   },
   "outputs": [
    {
     "name": "stdout",
     "output_type": "stream",
     "text": [
      "Decision Tree(without pruning) prediction on testing data:  [-1 -1 -1 -1 -1 -1 -1 -1 -1 -1]\n",
      "Decision Tree(with pruning) prediction on testing data:  [-1 -1 -1 -1 -1 -1 -1 -1 -1 -1]\n",
      "Random Forest prediction on testing data:  [-1 -1 -1 -1 -1 -1 -1 -1 -1 -1]\n",
      "SVM prediction on testing data:  [-1 -1 -1 -1 -1 -1 -1 -1 -1 -1]\n"
     ]
    }
   ],
   "source": [
    "predict5 = decision_tree_without_pruning_model.predict(test_X)\n",
    "predict6 = decision_tree_with_pruning_model.predict(test_X)\n",
    "predict7 = random_forest_model.predict(test_X)\n",
    "predict8 = svm_model.predict(test_X)\n",
    "print \"Decision Tree(without pruning) prediction on testing data: \", predict5\n",
    "print \"Decision Tree(with pruning) prediction on testing data: \", predict6\n",
    "print \"Random Forest prediction on testing data: \", predict7\n",
    "print \"SVM prediction on testing data: \", predict8"
   ]
  },
  {
   "cell_type": "markdown",
   "metadata": {},
   "source": [
    "### 2.2.2 Performance of 4 models on  test data"
   ]
  },
  {
   "cell_type": "code",
   "execution_count": 352,
   "metadata": {
    "collapsed": false
   },
   "outputs": [
    {
     "name": "stdout",
     "output_type": "stream",
     "text": [
      "Accuracy of Decision Tree(without pruning) on testing data is 0.80\n",
      "Accuracy of Decision Tree(with pruning)on testing data is 0.80\n",
      "Accuracy of Random Forest on testing data is 0.80\n",
      "Accuracy of SVM on testing data is 0.80\n"
     ]
    }
   ],
   "source": [
    "print \"Accuracy of Decision Tree(without pruning) on testing data is {:,.2f}\".format(metrics.accuracy_score(test_y, predict5))\n",
    "print \"Accuracy of Decision Tree(with pruning)on testing data is {:,.2f}\".format(metrics.accuracy_score(test_y, predict6))\n",
    "print \"Accuracy of Random Forest on testing data is {:,.2f}\".format(metrics.accuracy_score(test_y, predict7))\n",
    "print \"Accuracy of SVM on testing data is {:,.2f}\".format(metrics.accuracy_score(test_y, predict8))"
   ]
  },
  {
   "cell_type": "markdown",
   "metadata": {},
   "source": [
    "### 2.2.3 False count of 4 models on test data"
   ]
  },
  {
   "cell_type": "code",
   "execution_count": 353,
   "metadata": {
    "collapsed": false
   },
   "outputs": [
    {
     "name": "stdout",
     "output_type": "stream",
     "text": [
      "False Count of Decision Tree(without pruning) on testing data is 2\n",
      "False Count of Decision Tree(with pruning) on testing data is 2\n",
      "False Count of Random Forest on testing data is 2\n",
      "False Count of SVM on testing data is 2\n"
     ]
    }
   ],
   "source": [
    "count5 = countFalse(test_y, predict5)\n",
    "count6 = countFalse(test_y, predict6)\n",
    "count7 = countFalse(test_y, predict7)\n",
    "count8 = countFalse(test_y, predict8)\n",
    "print \"False Count of Decision Tree(without pruning) on testing data is {:,}\".format(count5)\n",
    "print \"False Count of Decision Tree(with pruning) on testing data is {:,}\".format(count6)\n",
    "print \"False Count of Random Forest on testing data is {:,}\".format(count7)\n",
    "print \"False Count of SVM on testing data is {:,}\".format(count8)"
   ]
  },
  {
   "cell_type": "markdown",
   "metadata": {},
   "source": [
    "### 2.2.4 Explanation on model comparison"
   ]
  },
  {
   "cell_type": "markdown",
   "metadata": {},
   "source": [
    "All four models have the same accuracy on the testing data. They all show 80% accuracy on testing data (2 False count). I didn't see much difference among these models due to the fact that the size of the dataset is too small. I only observed a difference between the decision tree models with pruning and without pruning. Without pruning, decision tree model could easily overfit the data, which was shown as 100% accuracy for train data; with pruning the accuracy drops to 88% for train data.\n",
    "\n",
    "However, if the size of data is large enough, we shall observe contrast difference among the models. \n",
    "\n",
    "Firstly, decision tree is an extremely fast and easy to immplement model with straightforward visualization. It can handle both numerical and categorical data and performs well on large datasets. However, decision tree model is notorious for its overfitting problem which gives rise to a poor generalization performance.\n",
    "\n",
    "One idea to overcome the problem is to introduce some randomness to the model. That's why a pruning tree is usually outperform the tree without pruning, since it reduces feature biases. \n",
    "\n",
    "In order to overcome the sample bias, it is usually a good idea to use the random forest model. Random Forest is an implementation of bagging on decision tree models. It is an ensemble strategy, and works well on problems with large sets of features.\n",
    "\n",
    "SVM is a classifier of a top performance, which usually involves lots of computation in the process of model training. SVM could solve the problems where the traditional methods like decision tree and random forest cannot solve. For example, sometimes it is difficult to learn complex models or decision boundaries in the input space. SVM performs well because it could find a linear decision boundary in the higher dimensional feature space with the kernel tricks."
   ]
  },
  {
   "cell_type": "code",
   "execution_count": null,
   "metadata": {
    "collapsed": true
   },
   "outputs": [],
   "source": []
  }
 ],
 "metadata": {
  "anaconda-cloud": {},
  "kernelspec": {
   "display_name": "Python [Root]",
   "language": "python",
   "name": "Python [Root]"
  },
  "language_info": {
   "codemirror_mode": {
    "name": "ipython",
    "version": 2
   },
   "file_extension": ".py",
   "mimetype": "text/x-python",
   "name": "python",
   "nbconvert_exporter": "python",
   "pygments_lexer": "ipython2",
   "version": "2.7.11"
  }
 },
 "nbformat": 4,
 "nbformat_minor": 0
}
